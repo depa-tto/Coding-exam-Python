{
 "cells": [
  {
   "cell_type": "markdown",
   "metadata": {},
   "source": [
    "## practice 1"
   ]
  },
  {
   "cell_type": "code",
   "execution_count": 1,
   "metadata": {},
   "outputs": [],
   "source": [
    "import re\n",
    "import pandas as pd\n",
    "import os\n",
    "import numpy as np"
   ]
  },
  {
   "cell_type": "code",
   "execution_count": 2,
   "metadata": {},
   "outputs": [],
   "source": [
    "with open ('cisi_dataset/CISI.ALL') as f:\n",
    "    data = f.read()\n",
    "    raw_docs = [\n",
    "            re.split(r\"\\.I\\n|\\.T\\n|\\.A\\n|\\.W\\n|\\.X\\n|\\n.T +\\n|\\n.A +\\n|\\n.W +\\n\", d)\n",
    "            for d in data.split(\".I \")\n",
    "            if d\n",
    "        ]\n",
    "docs = []\n",
    "for d in raw_docs:\n",
    "    d = [s.replace('\\n', '') for s in d]\n",
    "    if len(d) != 5:\n",
    "        d[2] = ' '.join(d[2:len(d)-2]).replace('\\n', '')\n",
    "    docs.append(\n",
    "            {\n",
    "                \"id\": int(d[0]),\n",
    "                \"title\": d[1].strip(),\n",
    "                \"author\": d[2].strip(),\n",
    "                \"text\": d[-2].strip(),\n",
    "                \"related_texts\": [\n",
    "                    tuple(rel.split(\"\\t\")) for rel in d[-1].split(\" \") if rel\n",
    "                ],\n",
    "            }\n",
    "        )\n",
    "docs = pd.DataFrame(docs)"
   ]
  },
  {
   "cell_type": "code",
   "execution_count": 3,
   "metadata": {},
   "outputs": [
    {
     "data": {
      "text/html": [
       "<div>\n",
       "<style scoped>\n",
       "    .dataframe tbody tr th:only-of-type {\n",
       "        vertical-align: middle;\n",
       "    }\n",
       "\n",
       "    .dataframe tbody tr th {\n",
       "        vertical-align: top;\n",
       "    }\n",
       "\n",
       "    .dataframe thead th {\n",
       "        text-align: right;\n",
       "    }\n",
       "</style>\n",
       "<table border=\"1\" class=\"dataframe\">\n",
       "  <thead>\n",
       "    <tr style=\"text-align: right;\">\n",
       "      <th></th>\n",
       "      <th>id</th>\n",
       "      <th>title</th>\n",
       "      <th>author</th>\n",
       "      <th>text</th>\n",
       "      <th>related_texts</th>\n",
       "    </tr>\n",
       "  </thead>\n",
       "  <tbody>\n",
       "    <tr>\n",
       "      <th>0</th>\n",
       "      <td>1</td>\n",
       "      <td>18 Editions of the Dewey Decimal Classifications</td>\n",
       "      <td>Comaromi, J.P.</td>\n",
       "      <td>The present study is a history of the DEWEY De...</td>\n",
       "      <td>[(1, 5, 192, 1, 1262, 1, 1556, 1, 11004, 1, 11...</td>\n",
       "    </tr>\n",
       "    <tr>\n",
       "      <th>1</th>\n",
       "      <td>2</td>\n",
       "      <td>Use Made of Technical Libraries</td>\n",
       "      <td>Slater, M.</td>\n",
       "      <td>This report is an analysis of 6300 acts of use...</td>\n",
       "      <td>[(2, 5, 232, 1, 276, 1, 2132, 1, 2137, 1, 2139...</td>\n",
       "    </tr>\n",
       "    <tr>\n",
       "      <th>2</th>\n",
       "      <td>3</td>\n",
       "      <td>Two Kinds of PowerAn Essay on Bibliographic Co...</td>\n",
       "      <td>Wilson, P.</td>\n",
       "      <td>The relationships between the organization and...</td>\n",
       "      <td>[(3, 7, 342, 1, 3172, 1, 3268, 1, 3292, 1, 332...</td>\n",
       "    </tr>\n",
       "    <tr>\n",
       "      <th>3</th>\n",
       "      <td>4</td>\n",
       "      <td>Systems Analysis of a University Library; fina...</td>\n",
       "      <td>Buckland, M.K.</td>\n",
       "      <td>The establishment of nine new universities in ...</td>\n",
       "      <td>[(4, 10, 45, 2, 49, 1, 432, 1, 465, 1, 496, 1,...</td>\n",
       "    </tr>\n",
       "    <tr>\n",
       "      <th>4</th>\n",
       "      <td>5</td>\n",
       "      <td>A Library Management Game:a report on a resear...</td>\n",
       "      <td>Brophy, P.</td>\n",
       "      <td>Although the use of games in professional educ...</td>\n",
       "      <td>[(4, 2, 55, 6, 590, 1, 591, 1, 5115, 1, 5158, ...</td>\n",
       "    </tr>\n",
       "    <tr>\n",
       "      <th>...</th>\n",
       "      <td>...</td>\n",
       "      <td>...</td>\n",
       "      <td>...</td>\n",
       "      <td>...</td>\n",
       "      <td>...</td>\n",
       "    </tr>\n",
       "    <tr>\n",
       "      <th>1455</th>\n",
       "      <td>1456</td>\n",
       "      <td>World Dynamics</td>\n",
       "      <td>Forrester, J.W.</td>\n",
       "      <td>Over the last several decades interest in econ...</td>\n",
       "      <td>[(350, 1, 1456435, 1, 14561025, 1, 14561402, 1...</td>\n",
       "    </tr>\n",
       "    <tr>\n",
       "      <th>1456</th>\n",
       "      <td>1457</td>\n",
       "      <td>World Trends in Library Education</td>\n",
       "      <td>Bramley, G.</td>\n",
       "      <td>One of the most significant aspects of the evo...</td>\n",
       "      <td>[(128, 1, 1457130, 1, 1457191, 1, 1457339, 1, ...</td>\n",
       "    </tr>\n",
       "    <tr>\n",
       "      <th>1457</th>\n",
       "      <td>1458</td>\n",
       "      <td>Legal Restrictions on Exploitation of the Pate...</td>\n",
       "      <td>Baxter, W.A.</td>\n",
       "      <td>The patent laws confer on a patentee power to ...</td>\n",
       "      <td>[(1458, 5, 14581458, 5, 1458)]</td>\n",
       "    </tr>\n",
       "    <tr>\n",
       "      <th>1458</th>\n",
       "      <td>1459</td>\n",
       "      <td>Language and Thought</td>\n",
       "      <td>Poluskin, V.A.</td>\n",
       "      <td>This book considers the basic aspects of this ...</td>\n",
       "      <td>[(362, 1, 1459585, 1, 14591093, 1, 14591107, 1...</td>\n",
       "    </tr>\n",
       "    <tr>\n",
       "      <th>1459</th>\n",
       "      <td>1460</td>\n",
       "      <td>Modern Integral Information Systems for Chemis...</td>\n",
       "      <td>Chernyi, A.I.</td>\n",
       "      <td>At the present time, about 15% of all the worl...</td>\n",
       "      <td>[(347, 1, 1460452, 1, 14601095, 1, 14601136, 1...</td>\n",
       "    </tr>\n",
       "  </tbody>\n",
       "</table>\n",
       "<p>1460 rows × 5 columns</p>\n",
       "</div>"
      ],
      "text/plain": [
       "        id                                              title  \\\n",
       "0        1   18 Editions of the Dewey Decimal Classifications   \n",
       "1        2                    Use Made of Technical Libraries   \n",
       "2        3  Two Kinds of PowerAn Essay on Bibliographic Co...   \n",
       "3        4  Systems Analysis of a University Library; fina...   \n",
       "4        5  A Library Management Game:a report on a resear...   \n",
       "...    ...                                                ...   \n",
       "1455  1456                                     World Dynamics   \n",
       "1456  1457                  World Trends in Library Education   \n",
       "1457  1458  Legal Restrictions on Exploitation of the Pate...   \n",
       "1458  1459                               Language and Thought   \n",
       "1459  1460  Modern Integral Information Systems for Chemis...   \n",
       "\n",
       "               author                                               text  \\\n",
       "0      Comaromi, J.P.  The present study is a history of the DEWEY De...   \n",
       "1          Slater, M.  This report is an analysis of 6300 acts of use...   \n",
       "2          Wilson, P.  The relationships between the organization and...   \n",
       "3      Buckland, M.K.  The establishment of nine new universities in ...   \n",
       "4          Brophy, P.  Although the use of games in professional educ...   \n",
       "...               ...                                                ...   \n",
       "1455  Forrester, J.W.  Over the last several decades interest in econ...   \n",
       "1456      Bramley, G.  One of the most significant aspects of the evo...   \n",
       "1457     Baxter, W.A.  The patent laws confer on a patentee power to ...   \n",
       "1458   Poluskin, V.A.  This book considers the basic aspects of this ...   \n",
       "1459    Chernyi, A.I.  At the present time, about 15% of all the worl...   \n",
       "\n",
       "                                          related_texts  \n",
       "0     [(1, 5, 192, 1, 1262, 1, 1556, 1, 11004, 1, 11...  \n",
       "1     [(2, 5, 232, 1, 276, 1, 2132, 1, 2137, 1, 2139...  \n",
       "2     [(3, 7, 342, 1, 3172, 1, 3268, 1, 3292, 1, 332...  \n",
       "3     [(4, 10, 45, 2, 49, 1, 432, 1, 465, 1, 496, 1,...  \n",
       "4     [(4, 2, 55, 6, 590, 1, 591, 1, 5115, 1, 5158, ...  \n",
       "...                                                 ...  \n",
       "1455  [(350, 1, 1456435, 1, 14561025, 1, 14561402, 1...  \n",
       "1456  [(128, 1, 1457130, 1, 1457191, 1, 1457339, 1, ...  \n",
       "1457                     [(1458, 5, 14581458, 5, 1458)]  \n",
       "1458  [(362, 1, 1459585, 1, 14591093, 1, 14591107, 1...  \n",
       "1459  [(347, 1, 1460452, 1, 14601095, 1, 14601136, 1...  \n",
       "\n",
       "[1460 rows x 5 columns]"
      ]
     },
     "execution_count": 3,
     "metadata": {},
     "output_type": "execute_result"
    }
   ],
   "source": [
    "docs"
   ]
  },
  {
   "cell_type": "markdown",
   "metadata": {},
   "source": [
    "#### with classes"
   ]
  },
  {
   "cell_type": "code",
   "execution_count": 4,
   "metadata": {},
   "outputs": [],
   "source": [
    "from data import CISIData"
   ]
  },
  {
   "cell_type": "code",
   "execution_count": 5,
   "metadata": {},
   "outputs": [],
   "source": [
    "data = CISIData('cisi_dataset')"
   ]
  },
  {
   "cell_type": "code",
   "execution_count": 6,
   "metadata": {},
   "outputs": [
    {
     "data": {
      "text/html": [
       "<div>\n",
       "<style scoped>\n",
       "    .dataframe tbody tr th:only-of-type {\n",
       "        vertical-align: middle;\n",
       "    }\n",
       "\n",
       "    .dataframe tbody tr th {\n",
       "        vertical-align: top;\n",
       "    }\n",
       "\n",
       "    .dataframe thead th {\n",
       "        text-align: right;\n",
       "    }\n",
       "</style>\n",
       "<table border=\"1\" class=\"dataframe\">\n",
       "  <thead>\n",
       "    <tr style=\"text-align: right;\">\n",
       "      <th></th>\n",
       "      <th>id</th>\n",
       "      <th>title</th>\n",
       "      <th>author</th>\n",
       "      <th>text</th>\n",
       "      <th>related_texts</th>\n",
       "    </tr>\n",
       "  </thead>\n",
       "  <tbody>\n",
       "    <tr>\n",
       "      <th>0</th>\n",
       "      <td>1</td>\n",
       "      <td>18 Editions of the Dewey Decimal Classifications</td>\n",
       "      <td>Comaromi, J.P.</td>\n",
       "      <td>The present study is a history of the DEWEY De...</td>\n",
       "      <td>[(1, 5, 192, 1, 1262, 1, 1556, 1, 11004, 1, 11...</td>\n",
       "    </tr>\n",
       "    <tr>\n",
       "      <th>1</th>\n",
       "      <td>2</td>\n",
       "      <td>Use Made of Technical Libraries</td>\n",
       "      <td>Slater, M.</td>\n",
       "      <td>This report is an analysis of 6300 acts of use...</td>\n",
       "      <td>[(2, 5, 232, 1, 276, 1, 2132, 1, 2137, 1, 2139...</td>\n",
       "    </tr>\n",
       "    <tr>\n",
       "      <th>2</th>\n",
       "      <td>3</td>\n",
       "      <td>Two Kinds of PowerAn Essay on Bibliographic Co...</td>\n",
       "      <td>Wilson, P.</td>\n",
       "      <td>The relationships between the organization and...</td>\n",
       "      <td>[(3, 7, 342, 1, 3172, 1, 3268, 1, 3292, 1, 332...</td>\n",
       "    </tr>\n",
       "    <tr>\n",
       "      <th>3</th>\n",
       "      <td>4</td>\n",
       "      <td>Systems Analysis of a University Library; fina...</td>\n",
       "      <td>Buckland, M.K.</td>\n",
       "      <td>The establishment of nine new universities in ...</td>\n",
       "      <td>[(4, 10, 45, 2, 49, 1, 432, 1, 465, 1, 496, 1,...</td>\n",
       "    </tr>\n",
       "    <tr>\n",
       "      <th>4</th>\n",
       "      <td>5</td>\n",
       "      <td>A Library Management Game:a report on a resear...</td>\n",
       "      <td>Brophy, P.</td>\n",
       "      <td>Although the use of games in professional educ...</td>\n",
       "      <td>[(4, 2, 55, 6, 590, 1, 591, 1, 5115, 1, 5158, ...</td>\n",
       "    </tr>\n",
       "  </tbody>\n",
       "</table>\n",
       "</div>"
      ],
      "text/plain": [
       "   id                                              title          author  \\\n",
       "0   1   18 Editions of the Dewey Decimal Classifications  Comaromi, J.P.   \n",
       "1   2                    Use Made of Technical Libraries      Slater, M.   \n",
       "2   3  Two Kinds of PowerAn Essay on Bibliographic Co...      Wilson, P.   \n",
       "3   4  Systems Analysis of a University Library; fina...  Buckland, M.K.   \n",
       "4   5  A Library Management Game:a report on a resear...      Brophy, P.   \n",
       "\n",
       "                                                text  \\\n",
       "0  The present study is a history of the DEWEY De...   \n",
       "1  This report is an analysis of 6300 acts of use...   \n",
       "2  The relationships between the organization and...   \n",
       "3  The establishment of nine new universities in ...   \n",
       "4  Although the use of games in professional educ...   \n",
       "\n",
       "                                       related_texts  \n",
       "0  [(1, 5, 192, 1, 1262, 1, 1556, 1, 11004, 1, 11...  \n",
       "1  [(2, 5, 232, 1, 276, 1, 2132, 1, 2137, 1, 2139...  \n",
       "2  [(3, 7, 342, 1, 3172, 1, 3268, 1, 3292, 1, 332...  \n",
       "3  [(4, 10, 45, 2, 49, 1, 432, 1, 465, 1, 496, 1,...  \n",
       "4  [(4, 2, 55, 6, 590, 1, 591, 1, 5115, 1, 5158, ...  "
      ]
     },
     "execution_count": 6,
     "metadata": {},
     "output_type": "execute_result"
    }
   ],
   "source": [
    "data.documents.head()"
   ]
  },
  {
   "cell_type": "code",
   "execution_count": 7,
   "metadata": {},
   "outputs": [
    {
     "data": {
      "text/plain": [
       "author\n",
       "Lancaster, F.W.                          8\n",
       "Salton, G.                               7\n",
       "Line, M.B.                               6\n",
       "Brookes, B. C.                           6\n",
       "Kilgour, F.G.                            5\n",
       "                                        ..\n",
       "Tell, Bjorn V.                           1\n",
       "Thiel, L. H.Heaps, H. S.                 1\n",
       "Williams, Martha E.                      1\n",
       "Garvey, William D.Griffith, Belver C.    1\n",
       "Poluskin, V.A.                           1\n",
       "Name: count, Length: 1231, dtype: int64"
      ]
     },
     "execution_count": 7,
     "metadata": {},
     "output_type": "execute_result"
    }
   ],
   "source": [
    "data.documents['author'].value_counts()"
   ]
  },
  {
   "cell_type": "code",
   "execution_count": 8,
   "metadata": {},
   "outputs": [
    {
     "data": {
      "text/html": [
       "<div>\n",
       "<style scoped>\n",
       "    .dataframe tbody tr th:only-of-type {\n",
       "        vertical-align: middle;\n",
       "    }\n",
       "\n",
       "    .dataframe tbody tr th {\n",
       "        vertical-align: top;\n",
       "    }\n",
       "\n",
       "    .dataframe thead th {\n",
       "        text-align: right;\n",
       "    }\n",
       "</style>\n",
       "<table border=\"1\" class=\"dataframe\">\n",
       "  <thead>\n",
       "    <tr style=\"text-align: right;\">\n",
       "      <th></th>\n",
       "      <th>id</th>\n",
       "      <th>title</th>\n",
       "      <th>author</th>\n",
       "      <th>text</th>\n",
       "      <th>related_texts</th>\n",
       "    </tr>\n",
       "  </thead>\n",
       "  <tbody>\n",
       "    <tr>\n",
       "      <th>74</th>\n",
       "      <td>75</td>\n",
       "      <td>MEDLARS: Report on the Evaluation of Its Opera...</td>\n",
       "      <td>Lancaster, F.W.</td>\n",
       "      <td>A comprehensive program to evaluate the perfor...</td>\n",
       "      <td>[(24, 3, 7530, 1, 7538, 1, 7543, 1, 7547, 1, 7...</td>\n",
       "    </tr>\n",
       "    <tr>\n",
       "      <th>193</th>\n",
       "      <td>194</td>\n",
       "      <td>The Evaluation of Published Indexes and Abstra...</td>\n",
       "      <td>Lancaster, F.W.</td>\n",
       "      <td>This paper describes possible criteria by whic...</td>\n",
       "      <td>[(86, 1, 194114, 1, 194154, 1, 194172, 1, 1941...</td>\n",
       "    </tr>\n",
       "    <tr>\n",
       "      <th>450</th>\n",
       "      <td>451</td>\n",
       "      <td>Interaction Between Requesters and a Large Mec...</td>\n",
       "      <td>Lancaster, F.W.</td>\n",
       "      <td>In a large mechanized retrieval system, a cert...</td>\n",
       "      <td>[(29, 2, 45158, 3, 45166, 1, 451124, 1, 451127...</td>\n",
       "    </tr>\n",
       "    <tr>\n",
       "      <th>457</th>\n",
       "      <td>458</td>\n",
       "      <td>Information Retrieval Systems</td>\n",
       "      <td>Lancaster, F.W.</td>\n",
       "      <td>This book is concerned primarily with those \"i...</td>\n",
       "      <td>[(29, 1, 45839, 1, 45851, 1, 45857, 1, 45861, ...</td>\n",
       "    </tr>\n",
       "    <tr>\n",
       "      <th>458</th>\n",
       "      <td>459</td>\n",
       "      <td>Information Retrieval On-Line</td>\n",
       "      <td>Lancaster, F.W.</td>\n",
       "      <td>This book deals with on-line systems for bibli...</td>\n",
       "      <td>[(10, 1, 45918, 3, 45961, 1, 459114, 1, 459120...</td>\n",
       "    </tr>\n",
       "    <tr>\n",
       "      <th>590</th>\n",
       "      <td>591</td>\n",
       "      <td>The Cost-Effectiveness Analysis of Information...</td>\n",
       "      <td>Lancaster, F.W.</td>\n",
       "      <td>A distinction is made between cost-effectivene...</td>\n",
       "      <td>[(18, 1, 59127, 1, 59134, 1, 59149, 1, 59153, ...</td>\n",
       "    </tr>\n",
       "    <tr>\n",
       "      <th>827</th>\n",
       "      <td>828</td>\n",
       "      <td>A Study of Current Awareness Publications in t...</td>\n",
       "      <td>Lancaster, F.W.</td>\n",
       "      <td>Mailed questionnaires were used to study the u...</td>\n",
       "      <td>[(10, 1, 82818, 1, 82834, 1, 82849, 1, 82853, ...</td>\n",
       "    </tr>\n",
       "    <tr>\n",
       "      <th>1447</th>\n",
       "      <td>1448</td>\n",
       "      <td>Vocabulary Control for Information Retrieval</td>\n",
       "      <td>Lancaster, F.W.</td>\n",
       "      <td>This book deals with properties of vocabularie...</td>\n",
       "      <td>[(30, 1, 144834, 1, 144838, 1, 144873, 1, 1448...</td>\n",
       "    </tr>\n",
       "  </tbody>\n",
       "</table>\n",
       "</div>"
      ],
      "text/plain": [
       "        id                                              title  \\\n",
       "74      75  MEDLARS: Report on the Evaluation of Its Opera...   \n",
       "193    194  The Evaluation of Published Indexes and Abstra...   \n",
       "450    451  Interaction Between Requesters and a Large Mec...   \n",
       "457    458                      Information Retrieval Systems   \n",
       "458    459                      Information Retrieval On-Line   \n",
       "590    591  The Cost-Effectiveness Analysis of Information...   \n",
       "827    828  A Study of Current Awareness Publications in t...   \n",
       "1447  1448       Vocabulary Control for Information Retrieval   \n",
       "\n",
       "               author                                               text  \\\n",
       "74    Lancaster, F.W.  A comprehensive program to evaluate the perfor...   \n",
       "193   Lancaster, F.W.  This paper describes possible criteria by whic...   \n",
       "450   Lancaster, F.W.  In a large mechanized retrieval system, a cert...   \n",
       "457   Lancaster, F.W.  This book is concerned primarily with those \"i...   \n",
       "458   Lancaster, F.W.  This book deals with on-line systems for bibli...   \n",
       "590   Lancaster, F.W.  A distinction is made between cost-effectivene...   \n",
       "827   Lancaster, F.W.  Mailed questionnaires were used to study the u...   \n",
       "1447  Lancaster, F.W.  This book deals with properties of vocabularie...   \n",
       "\n",
       "                                          related_texts  \n",
       "74    [(24, 3, 7530, 1, 7538, 1, 7543, 1, 7547, 1, 7...  \n",
       "193   [(86, 1, 194114, 1, 194154, 1, 194172, 1, 1941...  \n",
       "450   [(29, 2, 45158, 3, 45166, 1, 451124, 1, 451127...  \n",
       "457   [(29, 1, 45839, 1, 45851, 1, 45857, 1, 45861, ...  \n",
       "458   [(10, 1, 45918, 3, 45961, 1, 459114, 1, 459120...  \n",
       "590   [(18, 1, 59127, 1, 59134, 1, 59149, 1, 59153, ...  \n",
       "827   [(10, 1, 82818, 1, 82834, 1, 82849, 1, 82853, ...  \n",
       "1447  [(30, 1, 144834, 1, 144838, 1, 144873, 1, 1448...  "
      ]
     },
     "execution_count": 8,
     "metadata": {},
     "output_type": "execute_result"
    }
   ],
   "source": [
    "data.documents.loc[data.documents['author'] == 'Lancaster, F.W.']"
   ]
  },
  {
   "cell_type": "markdown",
   "metadata": {},
   "source": [
    "## practice 2"
   ]
  },
  {
   "cell_type": "code",
   "execution_count": 9,
   "metadata": {},
   "outputs": [],
   "source": [
    "data = pd.read_csv('./spotify_data.csv', sep = ',')"
   ]
  },
  {
   "cell_type": "code",
   "execution_count": 10,
   "metadata": {},
   "outputs": [
    {
     "data": {
      "text/html": [
       "<div>\n",
       "<style scoped>\n",
       "    .dataframe tbody tr th:only-of-type {\n",
       "        vertical-align: middle;\n",
       "    }\n",
       "\n",
       "    .dataframe tbody tr th {\n",
       "        vertical-align: top;\n",
       "    }\n",
       "\n",
       "    .dataframe thead th {\n",
       "        text-align: right;\n",
       "    }\n",
       "</style>\n",
       "<table border=\"1\" class=\"dataframe\">\n",
       "  <thead>\n",
       "    <tr style=\"text-align: right;\">\n",
       "      <th></th>\n",
       "      <th>Songs &amp; Artist</th>\n",
       "      <th>Streams</th>\n",
       "      <th>Daily</th>\n",
       "    </tr>\n",
       "  </thead>\n",
       "  <tbody>\n",
       "    <tr>\n",
       "      <th>0</th>\n",
       "      <td>The Weeknd - Blinding Lights</td>\n",
       "      <td>4463658617</td>\n",
       "      <td>1619447.0</td>\n",
       "    </tr>\n",
       "    <tr>\n",
       "      <th>1</th>\n",
       "      <td>Ed Sheeran - Shape of You</td>\n",
       "      <td>4018102402</td>\n",
       "      <td>1001507.0</td>\n",
       "    </tr>\n",
       "    <tr>\n",
       "      <th>2</th>\n",
       "      <td>Lewis Capaldi - Someone You Loved</td>\n",
       "      <td>3588673578</td>\n",
       "      <td>1506961.0</td>\n",
       "    </tr>\n",
       "    <tr>\n",
       "      <th>3</th>\n",
       "      <td>Harry Styles - As It Was</td>\n",
       "      <td>3544187311</td>\n",
       "      <td>1611374.0</td>\n",
       "    </tr>\n",
       "    <tr>\n",
       "      <th>4</th>\n",
       "      <td>Post Malone - Sunflower</td>\n",
       "      <td>3518744128</td>\n",
       "      <td>1337404.0</td>\n",
       "    </tr>\n",
       "    <tr>\n",
       "      <th>...</th>\n",
       "      <td>...</td>\n",
       "      <td>...</td>\n",
       "      <td>...</td>\n",
       "    </tr>\n",
       "    <tr>\n",
       "      <th>2495</th>\n",
       "      <td>Myke Towers - LA FALDA</td>\n",
       "      <td>505592800</td>\n",
       "      <td>1278450.0</td>\n",
       "    </tr>\n",
       "    <tr>\n",
       "      <th>2496</th>\n",
       "      <td>Social House - Magic In The Hamptons</td>\n",
       "      <td>505511969</td>\n",
       "      <td>118483.0</td>\n",
       "    </tr>\n",
       "    <tr>\n",
       "      <th>2497</th>\n",
       "      <td>KISS - Rock And Roll All Nite</td>\n",
       "      <td>505386377</td>\n",
       "      <td>205701.0</td>\n",
       "    </tr>\n",
       "    <tr>\n",
       "      <th>2498</th>\n",
       "      <td>Mora - 512</td>\n",
       "      <td>505309100</td>\n",
       "      <td>280336.0</td>\n",
       "    </tr>\n",
       "    <tr>\n",
       "      <th>2499</th>\n",
       "      <td>Meghan Trainor - Me Too</td>\n",
       "      <td>505249124</td>\n",
       "      <td>288515.0</td>\n",
       "    </tr>\n",
       "  </tbody>\n",
       "</table>\n",
       "<p>2500 rows × 3 columns</p>\n",
       "</div>"
      ],
      "text/plain": [
       "                            Songs & Artist     Streams      Daily\n",
       "0             The Weeknd - Blinding Lights  4463658617  1619447.0\n",
       "1                Ed Sheeran - Shape of You  4018102402  1001507.0\n",
       "2        Lewis Capaldi - Someone You Loved  3588673578  1506961.0\n",
       "3                 Harry Styles - As It Was  3544187311  1611374.0\n",
       "4                  Post Malone - Sunflower  3518744128  1337404.0\n",
       "...                                    ...         ...        ...\n",
       "2495                Myke Towers - LA FALDA   505592800  1278450.0\n",
       "2496  Social House - Magic In The Hamptons   505511969   118483.0\n",
       "2497         KISS - Rock And Roll All Nite   505386377   205701.0\n",
       "2498                            Mora - 512   505309100   280336.0\n",
       "2499               Meghan Trainor - Me Too   505249124   288515.0\n",
       "\n",
       "[2500 rows x 3 columns]"
      ]
     },
     "execution_count": 10,
     "metadata": {},
     "output_type": "execute_result"
    }
   ],
   "source": [
    "data"
   ]
  },
  {
   "cell_type": "code",
   "execution_count": 11,
   "metadata": {},
   "outputs": [
    {
     "data": {
      "text/plain": [
       "(2500, 3)"
      ]
     },
     "execution_count": 11,
     "metadata": {},
     "output_type": "execute_result"
    }
   ],
   "source": [
    "data.shape"
   ]
  },
  {
   "cell_type": "code",
   "execution_count": 12,
   "metadata": {},
   "outputs": [
    {
     "data": {
      "text/plain": [
       "Songs & Artist     object\n",
       "Streams             int64\n",
       "Daily             float64\n",
       "dtype: object"
      ]
     },
     "execution_count": 12,
     "metadata": {},
     "output_type": "execute_result"
    }
   ],
   "source": [
    "data.dtypes"
   ]
  },
  {
   "cell_type": "code",
   "execution_count": 13,
   "metadata": {},
   "outputs": [
    {
     "data": {
      "text/html": [
       "<div>\n",
       "<style scoped>\n",
       "    .dataframe tbody tr th:only-of-type {\n",
       "        vertical-align: middle;\n",
       "    }\n",
       "\n",
       "    .dataframe tbody tr th {\n",
       "        vertical-align: top;\n",
       "    }\n",
       "\n",
       "    .dataframe thead th {\n",
       "        text-align: right;\n",
       "    }\n",
       "</style>\n",
       "<table border=\"1\" class=\"dataframe\">\n",
       "  <thead>\n",
       "    <tr style=\"text-align: right;\">\n",
       "      <th></th>\n",
       "      <th>Streams</th>\n",
       "      <th>Daily</th>\n",
       "    </tr>\n",
       "  </thead>\n",
       "  <tbody>\n",
       "    <tr>\n",
       "      <th>count</th>\n",
       "      <td>2.500000e+03</td>\n",
       "      <td>2.498000e+03</td>\n",
       "    </tr>\n",
       "    <tr>\n",
       "      <th>mean</th>\n",
       "      <td>9.381437e+08</td>\n",
       "      <td>5.044663e+05</td>\n",
       "    </tr>\n",
       "    <tr>\n",
       "      <th>std</th>\n",
       "      <td>4.788772e+08</td>\n",
       "      <td>4.963328e+05</td>\n",
       "    </tr>\n",
       "    <tr>\n",
       "      <th>min</th>\n",
       "      <td>5.052491e+08</td>\n",
       "      <td>7.523000e+03</td>\n",
       "    </tr>\n",
       "    <tr>\n",
       "      <th>25%</th>\n",
       "      <td>6.099077e+08</td>\n",
       "      <td>2.245135e+05</td>\n",
       "    </tr>\n",
       "    <tr>\n",
       "      <th>50%</th>\n",
       "      <td>7.628053e+08</td>\n",
       "      <td>3.763570e+05</td>\n",
       "    </tr>\n",
       "    <tr>\n",
       "      <th>75%</th>\n",
       "      <td>1.096878e+09</td>\n",
       "      <td>6.318060e+05</td>\n",
       "    </tr>\n",
       "    <tr>\n",
       "      <th>max</th>\n",
       "      <td>4.463659e+09</td>\n",
       "      <td>7.553534e+06</td>\n",
       "    </tr>\n",
       "  </tbody>\n",
       "</table>\n",
       "</div>"
      ],
      "text/plain": [
       "            Streams         Daily\n",
       "count  2.500000e+03  2.498000e+03\n",
       "mean   9.381437e+08  5.044663e+05\n",
       "std    4.788772e+08  4.963328e+05\n",
       "min    5.052491e+08  7.523000e+03\n",
       "25%    6.099077e+08  2.245135e+05\n",
       "50%    7.628053e+08  3.763570e+05\n",
       "75%    1.096878e+09  6.318060e+05\n",
       "max    4.463659e+09  7.553534e+06"
      ]
     },
     "execution_count": 13,
     "metadata": {},
     "output_type": "execute_result"
    }
   ],
   "source": [
    "data.describe() # works only with continuos variables"
   ]
  },
  {
   "cell_type": "code",
   "execution_count": 14,
   "metadata": {},
   "outputs": [
    {
     "data": {
      "text/html": [
       "<div>\n",
       "<style scoped>\n",
       "    .dataframe tbody tr th:only-of-type {\n",
       "        vertical-align: middle;\n",
       "    }\n",
       "\n",
       "    .dataframe tbody tr th {\n",
       "        vertical-align: top;\n",
       "    }\n",
       "\n",
       "    .dataframe thead th {\n",
       "        text-align: right;\n",
       "    }\n",
       "</style>\n",
       "<table border=\"1\" class=\"dataframe\">\n",
       "  <thead>\n",
       "    <tr style=\"text-align: right;\">\n",
       "      <th></th>\n",
       "      <th>Songs &amp; Artist</th>\n",
       "      <th>Streams</th>\n",
       "      <th>Daily</th>\n",
       "    </tr>\n",
       "  </thead>\n",
       "  <tbody>\n",
       "    <tr>\n",
       "      <th>count</th>\n",
       "      <td>2500</td>\n",
       "      <td>2.500000e+03</td>\n",
       "      <td>2.498000e+03</td>\n",
       "    </tr>\n",
       "    <tr>\n",
       "      <th>unique</th>\n",
       "      <td>2474</td>\n",
       "      <td>NaN</td>\n",
       "      <td>NaN</td>\n",
       "    </tr>\n",
       "    <tr>\n",
       "      <th>top</th>\n",
       "      <td>Super Yei - La Forma en Que Me Miras</td>\n",
       "      <td>NaN</td>\n",
       "      <td>NaN</td>\n",
       "    </tr>\n",
       "    <tr>\n",
       "      <th>freq</th>\n",
       "      <td>2</td>\n",
       "      <td>NaN</td>\n",
       "      <td>NaN</td>\n",
       "    </tr>\n",
       "    <tr>\n",
       "      <th>mean</th>\n",
       "      <td>NaN</td>\n",
       "      <td>9.381437e+08</td>\n",
       "      <td>5.044663e+05</td>\n",
       "    </tr>\n",
       "    <tr>\n",
       "      <th>std</th>\n",
       "      <td>NaN</td>\n",
       "      <td>4.788772e+08</td>\n",
       "      <td>4.963328e+05</td>\n",
       "    </tr>\n",
       "    <tr>\n",
       "      <th>min</th>\n",
       "      <td>NaN</td>\n",
       "      <td>5.052491e+08</td>\n",
       "      <td>7.523000e+03</td>\n",
       "    </tr>\n",
       "    <tr>\n",
       "      <th>25%</th>\n",
       "      <td>NaN</td>\n",
       "      <td>6.099077e+08</td>\n",
       "      <td>2.245135e+05</td>\n",
       "    </tr>\n",
       "    <tr>\n",
       "      <th>50%</th>\n",
       "      <td>NaN</td>\n",
       "      <td>7.628053e+08</td>\n",
       "      <td>3.763570e+05</td>\n",
       "    </tr>\n",
       "    <tr>\n",
       "      <th>75%</th>\n",
       "      <td>NaN</td>\n",
       "      <td>1.096878e+09</td>\n",
       "      <td>6.318060e+05</td>\n",
       "    </tr>\n",
       "    <tr>\n",
       "      <th>max</th>\n",
       "      <td>NaN</td>\n",
       "      <td>4.463659e+09</td>\n",
       "      <td>7.553534e+06</td>\n",
       "    </tr>\n",
       "  </tbody>\n",
       "</table>\n",
       "</div>"
      ],
      "text/plain": [
       "                              Songs & Artist       Streams         Daily\n",
       "count                                   2500  2.500000e+03  2.498000e+03\n",
       "unique                                  2474           NaN           NaN\n",
       "top     Super Yei - La Forma en Que Me Miras           NaN           NaN\n",
       "freq                                       2           NaN           NaN\n",
       "mean                                     NaN  9.381437e+08  5.044663e+05\n",
       "std                                      NaN  4.788772e+08  4.963328e+05\n",
       "min                                      NaN  5.052491e+08  7.523000e+03\n",
       "25%                                      NaN  6.099077e+08  2.245135e+05\n",
       "50%                                      NaN  7.628053e+08  3.763570e+05\n",
       "75%                                      NaN  1.096878e+09  6.318060e+05\n",
       "max                                      NaN  4.463659e+09  7.553534e+06"
      ]
     },
     "execution_count": 14,
     "metadata": {},
     "output_type": "execute_result"
    }
   ],
   "source": [
    "data.describe(include='all')"
   ]
  },
  {
   "cell_type": "code",
   "execution_count": 15,
   "metadata": {},
   "outputs": [
    {
     "data": {
      "text/plain": [
       "0       4463658617\n",
       "1       4018102402\n",
       "2       3588673578\n",
       "3       3544187311\n",
       "4       3518744128\n",
       "           ...    \n",
       "2495     505592800\n",
       "2496     505511969\n",
       "2497     505386377\n",
       "2498     505309100\n",
       "2499     505249124\n",
       "Name: Streams, Length: 2500, dtype: int64"
      ]
     },
     "execution_count": 15,
     "metadata": {},
     "output_type": "execute_result"
    }
   ],
   "source": [
    "data['Streams'] # this will be a pandas series"
   ]
  },
  {
   "cell_type": "code",
   "execution_count": 16,
   "metadata": {},
   "outputs": [
    {
     "data": {
      "text/plain": [
       "(2500,)"
      ]
     },
     "execution_count": 16,
     "metadata": {},
     "output_type": "execute_result"
    }
   ],
   "source": [
    "data['Streams'].shape"
   ]
  },
  {
   "cell_type": "code",
   "execution_count": 17,
   "metadata": {},
   "outputs": [
    {
     "data": {
      "text/plain": [
       "Index(['Songs & Artist', 'Streams', 'Daily'], dtype='object')"
      ]
     },
     "execution_count": 17,
     "metadata": {},
     "output_type": "execute_result"
    }
   ],
   "source": [
    "data.columns"
   ]
  },
  {
   "cell_type": "code",
   "execution_count": 18,
   "metadata": {},
   "outputs": [
    {
     "data": {
      "text/plain": [
       "0       False\n",
       "1       False\n",
       "2       False\n",
       "3       False\n",
       "4       False\n",
       "        ...  \n",
       "2495    False\n",
       "2496    False\n",
       "2497    False\n",
       "2498    False\n",
       "2499    False\n",
       "Length: 2500, dtype: bool"
      ]
     },
     "execution_count": 18,
     "metadata": {},
     "output_type": "execute_result"
    }
   ],
   "source": [
    "data.duplicated()"
   ]
  },
  {
   "cell_type": "code",
   "execution_count": 19,
   "metadata": {},
   "outputs": [
    {
     "data": {
      "text/plain": [
       "0"
      ]
     },
     "execution_count": 19,
     "metadata": {},
     "output_type": "execute_result"
    }
   ],
   "source": [
    "sum(data.duplicated()) # how many duplicates i have in my dataset ? in this case zero"
   ]
  },
  {
   "cell_type": "code",
   "execution_count": 20,
   "metadata": {},
   "outputs": [
    {
     "data": {
      "text/html": [
       "<div>\n",
       "<style scoped>\n",
       "    .dataframe tbody tr th:only-of-type {\n",
       "        vertical-align: middle;\n",
       "    }\n",
       "\n",
       "    .dataframe tbody tr th {\n",
       "        vertical-align: top;\n",
       "    }\n",
       "\n",
       "    .dataframe thead th {\n",
       "        text-align: right;\n",
       "    }\n",
       "</style>\n",
       "<table border=\"1\" class=\"dataframe\">\n",
       "  <thead>\n",
       "    <tr style=\"text-align: right;\">\n",
       "      <th></th>\n",
       "      <th>Songs &amp; Artist</th>\n",
       "      <th>Streams</th>\n",
       "      <th>Daily</th>\n",
       "    </tr>\n",
       "  </thead>\n",
       "  <tbody>\n",
       "    <tr>\n",
       "      <th>43</th>\n",
       "      <td>The Weeknd - Die For You</td>\n",
       "      <td>2424085403</td>\n",
       "      <td>1667707.0</td>\n",
       "    </tr>\n",
       "    <tr>\n",
       "      <th>78</th>\n",
       "      <td>Dua Lipa - Levitating</td>\n",
       "      <td>2154284982</td>\n",
       "      <td>893251.0</td>\n",
       "    </tr>\n",
       "    <tr>\n",
       "      <th>85</th>\n",
       "      <td>The Weeknd - Save Your Tears</td>\n",
       "      <td>2106540115</td>\n",
       "      <td>999562.0</td>\n",
       "    </tr>\n",
       "    <tr>\n",
       "      <th>152</th>\n",
       "      <td>Sia - Cheap Thrills</td>\n",
       "      <td>1816755550</td>\n",
       "      <td>361118.0</td>\n",
       "    </tr>\n",
       "    <tr>\n",
       "      <th>163</th>\n",
       "      <td>Luis Fonsi - Despacito</td>\n",
       "      <td>1800662716</td>\n",
       "      <td>555695.0</td>\n",
       "    </tr>\n",
       "    <tr>\n",
       "      <th>183</th>\n",
       "      <td>Luis Fonsi - Despacito</td>\n",
       "      <td>1739696575</td>\n",
       "      <td>246341.0</td>\n",
       "    </tr>\n",
       "    <tr>\n",
       "      <th>230</th>\n",
       "      <td>The Weeknd - Save Your Tears</td>\n",
       "      <td>1641748842</td>\n",
       "      <td>751787.0</td>\n",
       "    </tr>\n",
       "    <tr>\n",
       "      <th>232</th>\n",
       "      <td>Ed Sheeran - Shivers</td>\n",
       "      <td>1641091438</td>\n",
       "      <td>576659.0</td>\n",
       "    </tr>\n",
       "    <tr>\n",
       "      <th>266</th>\n",
       "      <td>Lil Nas X - Old Town Road</td>\n",
       "      <td>1549228839</td>\n",
       "      <td>206616.0</td>\n",
       "    </tr>\n",
       "    <tr>\n",
       "      <th>298</th>\n",
       "      <td>Coldplay - Hymn for the Weekend</td>\n",
       "      <td>1496256559</td>\n",
       "      <td>1056203.0</td>\n",
       "    </tr>\n",
       "    <tr>\n",
       "      <th>308</th>\n",
       "      <td>Rema - Calm Down</td>\n",
       "      <td>1483474961</td>\n",
       "      <td>873674.0</td>\n",
       "    </tr>\n",
       "    <tr>\n",
       "      <th>362</th>\n",
       "      <td>Billie Eilish - Happier Than Ever</td>\n",
       "      <td>1394078140</td>\n",
       "      <td>682106.0</td>\n",
       "    </tr>\n",
       "    <tr>\n",
       "      <th>398</th>\n",
       "      <td>Ed Sheeran - Shivers</td>\n",
       "      <td>1356315091</td>\n",
       "      <td>NaN</td>\n",
       "    </tr>\n",
       "    <tr>\n",
       "      <th>712</th>\n",
       "      <td>Lil Nas X - Old Town Road</td>\n",
       "      <td>1029388334</td>\n",
       "      <td>189386.0</td>\n",
       "    </tr>\n",
       "    <tr>\n",
       "      <th>784</th>\n",
       "      <td>Dua Lipa - Levitating</td>\n",
       "      <td>987773822</td>\n",
       "      <td>334828.0</td>\n",
       "    </tr>\n",
       "    <tr>\n",
       "      <th>794</th>\n",
       "      <td>The Weeknd - Die For You</td>\n",
       "      <td>984347878</td>\n",
       "      <td>733231.0</td>\n",
       "    </tr>\n",
       "    <tr>\n",
       "      <th>819</th>\n",
       "      <td>Tove Lo - Habits (Stay High)</td>\n",
       "      <td>967185289</td>\n",
       "      <td>466186.0</td>\n",
       "    </tr>\n",
       "    <tr>\n",
       "      <th>845</th>\n",
       "      <td>Elvis Presley - Can't Help Falling in Love</td>\n",
       "      <td>953534151</td>\n",
       "      <td>665740.0</td>\n",
       "    </tr>\n",
       "    <tr>\n",
       "      <th>970</th>\n",
       "      <td>Taylor Swift - ME!</td>\n",
       "      <td>884543285</td>\n",
       "      <td>182419.0</td>\n",
       "    </tr>\n",
       "    <tr>\n",
       "      <th>995</th>\n",
       "      <td>Kid Cudi - Day 'N' Nite</td>\n",
       "      <td>871387550</td>\n",
       "      <td>353965.0</td>\n",
       "    </tr>\n",
       "    <tr>\n",
       "      <th>1035</th>\n",
       "      <td>Elvis Presley - Can't Help Falling in Love</td>\n",
       "      <td>846573905</td>\n",
       "      <td>497676.0</td>\n",
       "    </tr>\n",
       "    <tr>\n",
       "      <th>1038</th>\n",
       "      <td>Kid Cudi - Day 'N' Nite</td>\n",
       "      <td>846085321</td>\n",
       "      <td>318493.0</td>\n",
       "    </tr>\n",
       "    <tr>\n",
       "      <th>1090</th>\n",
       "      <td>Olivia Rodrigo - All I Want</td>\n",
       "      <td>823896543</td>\n",
       "      <td>455847.0</td>\n",
       "    </tr>\n",
       "    <tr>\n",
       "      <th>1233</th>\n",
       "      <td>Olivia Rodrigo - All I Want</td>\n",
       "      <td>768847035</td>\n",
       "      <td>487824.0</td>\n",
       "    </tr>\n",
       "    <tr>\n",
       "      <th>1276</th>\n",
       "      <td>Lil Tjay - F.N</td>\n",
       "      <td>754521936</td>\n",
       "      <td>226976.0</td>\n",
       "    </tr>\n",
       "    <tr>\n",
       "      <th>1294</th>\n",
       "      <td>Sia - Cheap Thrills</td>\n",
       "      <td>750321259</td>\n",
       "      <td>374355.0</td>\n",
       "    </tr>\n",
       "    <tr>\n",
       "      <th>1358</th>\n",
       "      <td>Taylor Swift - ME!</td>\n",
       "      <td>730859004</td>\n",
       "      <td>320741.0</td>\n",
       "    </tr>\n",
       "    <tr>\n",
       "      <th>1448</th>\n",
       "      <td>Lil Uzi Vert - Just Wanna Rock</td>\n",
       "      <td>706064376</td>\n",
       "      <td>321109.0</td>\n",
       "    </tr>\n",
       "    <tr>\n",
       "      <th>1461</th>\n",
       "      <td>Sech - Otro Trago</td>\n",
       "      <td>702218100</td>\n",
       "      <td>74680.0</td>\n",
       "    </tr>\n",
       "    <tr>\n",
       "      <th>1481</th>\n",
       "      <td>Dua Lipa - Love Again</td>\n",
       "      <td>695558133</td>\n",
       "      <td>409176.0</td>\n",
       "    </tr>\n",
       "    <tr>\n",
       "      <th>1547</th>\n",
       "      <td>Lil Uzi Vert - Just Wanna Rock</td>\n",
       "      <td>676421811</td>\n",
       "      <td>398761.0</td>\n",
       "    </tr>\n",
       "    <tr>\n",
       "      <th>1610</th>\n",
       "      <td>Coldplay - Hymn for the Weekend</td>\n",
       "      <td>661017746</td>\n",
       "      <td>49584.0</td>\n",
       "    </tr>\n",
       "    <tr>\n",
       "      <th>1660</th>\n",
       "      <td>Kina - Can We Kiss Forever?</td>\n",
       "      <td>650333693</td>\n",
       "      <td>147605.0</td>\n",
       "    </tr>\n",
       "    <tr>\n",
       "      <th>1694</th>\n",
       "      <td>Dua Lipa - Love Again</td>\n",
       "      <td>642320839</td>\n",
       "      <td>286822.0</td>\n",
       "    </tr>\n",
       "    <tr>\n",
       "      <th>1756</th>\n",
       "      <td>Tove Lo - Habits (Stay High)</td>\n",
       "      <td>629870714</td>\n",
       "      <td>124970.0</td>\n",
       "    </tr>\n",
       "    <tr>\n",
       "      <th>1769</th>\n",
       "      <td>Simon &amp; Garfunkel - The Sound of Silence</td>\n",
       "      <td>628244943</td>\n",
       "      <td>549285.0</td>\n",
       "    </tr>\n",
       "    <tr>\n",
       "      <th>1795</th>\n",
       "      <td>Lil Tjay - F.N</td>\n",
       "      <td>624709072</td>\n",
       "      <td>NaN</td>\n",
       "    </tr>\n",
       "    <tr>\n",
       "      <th>1827</th>\n",
       "      <td>Kina - Can We Kiss Forever?</td>\n",
       "      <td>617681058</td>\n",
       "      <td>179852.0</td>\n",
       "    </tr>\n",
       "    <tr>\n",
       "      <th>1849</th>\n",
       "      <td>Rema - Calm Down</td>\n",
       "      <td>613460856</td>\n",
       "      <td>259954.0</td>\n",
       "    </tr>\n",
       "    <tr>\n",
       "      <th>1861</th>\n",
       "      <td>CKay - love nwantiti</td>\n",
       "      <td>611824749</td>\n",
       "      <td>156699.0</td>\n",
       "    </tr>\n",
       "    <tr>\n",
       "      <th>1974</th>\n",
       "      <td>Sam Feldt - Post Malone</td>\n",
       "      <td>593078036</td>\n",
       "      <td>91025.0</td>\n",
       "    </tr>\n",
       "    <tr>\n",
       "      <th>2037</th>\n",
       "      <td>CKay - love nwantiti</td>\n",
       "      <td>582038804</td>\n",
       "      <td>156025.0</td>\n",
       "    </tr>\n",
       "    <tr>\n",
       "      <th>2071</th>\n",
       "      <td>Starship - We Built This City</td>\n",
       "      <td>576046295</td>\n",
       "      <td>222306.0</td>\n",
       "    </tr>\n",
       "    <tr>\n",
       "      <th>2106</th>\n",
       "      <td>Super Yei - La Forma en Que Me Miras</td>\n",
       "      <td>570110083</td>\n",
       "      <td>297587.0</td>\n",
       "    </tr>\n",
       "    <tr>\n",
       "      <th>2137</th>\n",
       "      <td>Sech - Otro Trago</td>\n",
       "      <td>564511227</td>\n",
       "      <td>74081.0</td>\n",
       "    </tr>\n",
       "    <tr>\n",
       "      <th>2157</th>\n",
       "      <td>Sam Feldt - Post Malone</td>\n",
       "      <td>559507066</td>\n",
       "      <td>95753.0</td>\n",
       "    </tr>\n",
       "    <tr>\n",
       "      <th>2208</th>\n",
       "      <td>Simon &amp; Garfunkel - The Sound of Silence</td>\n",
       "      <td>549644238</td>\n",
       "      <td>277428.0</td>\n",
       "    </tr>\n",
       "    <tr>\n",
       "      <th>2250</th>\n",
       "      <td>Super Yei - La Forma en Que Me Miras</td>\n",
       "      <td>542582207</td>\n",
       "      <td>295106.0</td>\n",
       "    </tr>\n",
       "    <tr>\n",
       "      <th>2289</th>\n",
       "      <td>Black Eyed Peas - MAMACITA</td>\n",
       "      <td>535539463</td>\n",
       "      <td>74105.0</td>\n",
       "    </tr>\n",
       "    <tr>\n",
       "      <th>2393</th>\n",
       "      <td>Starship - We Built This City</td>\n",
       "      <td>519328507</td>\n",
       "      <td>251555.0</td>\n",
       "    </tr>\n",
       "    <tr>\n",
       "      <th>2465</th>\n",
       "      <td>Billie Eilish - Happier Than Ever</td>\n",
       "      <td>509657354</td>\n",
       "      <td>112239.0</td>\n",
       "    </tr>\n",
       "    <tr>\n",
       "      <th>2488</th>\n",
       "      <td>Black Eyed Peas - MAMACITA</td>\n",
       "      <td>505990099</td>\n",
       "      <td>99626.0</td>\n",
       "    </tr>\n",
       "  </tbody>\n",
       "</table>\n",
       "</div>"
      ],
      "text/plain": [
       "                                  Songs & Artist     Streams      Daily\n",
       "43                      The Weeknd - Die For You  2424085403  1667707.0\n",
       "78                         Dua Lipa - Levitating  2154284982   893251.0\n",
       "85                  The Weeknd - Save Your Tears  2106540115   999562.0\n",
       "152                          Sia - Cheap Thrills  1816755550   361118.0\n",
       "163                       Luis Fonsi - Despacito  1800662716   555695.0\n",
       "183                       Luis Fonsi - Despacito  1739696575   246341.0\n",
       "230                 The Weeknd - Save Your Tears  1641748842   751787.0\n",
       "232                         Ed Sheeran - Shivers  1641091438   576659.0\n",
       "266                    Lil Nas X - Old Town Road  1549228839   206616.0\n",
       "298              Coldplay - Hymn for the Weekend  1496256559  1056203.0\n",
       "308                             Rema - Calm Down  1483474961   873674.0\n",
       "362            Billie Eilish - Happier Than Ever  1394078140   682106.0\n",
       "398                         Ed Sheeran - Shivers  1356315091        NaN\n",
       "712                    Lil Nas X - Old Town Road  1029388334   189386.0\n",
       "784                        Dua Lipa - Levitating   987773822   334828.0\n",
       "794                     The Weeknd - Die For You   984347878   733231.0\n",
       "819                 Tove Lo - Habits (Stay High)   967185289   466186.0\n",
       "845   Elvis Presley - Can't Help Falling in Love   953534151   665740.0\n",
       "970                           Taylor Swift - ME!   884543285   182419.0\n",
       "995                      Kid Cudi - Day 'N' Nite   871387550   353965.0\n",
       "1035  Elvis Presley - Can't Help Falling in Love   846573905   497676.0\n",
       "1038                     Kid Cudi - Day 'N' Nite   846085321   318493.0\n",
       "1090                 Olivia Rodrigo - All I Want   823896543   455847.0\n",
       "1233                 Olivia Rodrigo - All I Want   768847035   487824.0\n",
       "1276                              Lil Tjay - F.N   754521936   226976.0\n",
       "1294                         Sia - Cheap Thrills   750321259   374355.0\n",
       "1358                          Taylor Swift - ME!   730859004   320741.0\n",
       "1448              Lil Uzi Vert - Just Wanna Rock   706064376   321109.0\n",
       "1461                           Sech - Otro Trago   702218100    74680.0\n",
       "1481                       Dua Lipa - Love Again   695558133   409176.0\n",
       "1547              Lil Uzi Vert - Just Wanna Rock   676421811   398761.0\n",
       "1610             Coldplay - Hymn for the Weekend   661017746    49584.0\n",
       "1660                 Kina - Can We Kiss Forever?   650333693   147605.0\n",
       "1694                       Dua Lipa - Love Again   642320839   286822.0\n",
       "1756                Tove Lo - Habits (Stay High)   629870714   124970.0\n",
       "1769    Simon & Garfunkel - The Sound of Silence   628244943   549285.0\n",
       "1795                              Lil Tjay - F.N   624709072        NaN\n",
       "1827                 Kina - Can We Kiss Forever?   617681058   179852.0\n",
       "1849                            Rema - Calm Down   613460856   259954.0\n",
       "1861                        CKay - love nwantiti   611824749   156699.0\n",
       "1974                     Sam Feldt - Post Malone   593078036    91025.0\n",
       "2037                        CKay - love nwantiti   582038804   156025.0\n",
       "2071               Starship - We Built This City   576046295   222306.0\n",
       "2106        Super Yei - La Forma en Que Me Miras   570110083   297587.0\n",
       "2137                           Sech - Otro Trago   564511227    74081.0\n",
       "2157                     Sam Feldt - Post Malone   559507066    95753.0\n",
       "2208    Simon & Garfunkel - The Sound of Silence   549644238   277428.0\n",
       "2250        Super Yei - La Forma en Que Me Miras   542582207   295106.0\n",
       "2289                  Black Eyed Peas - MAMACITA   535539463    74105.0\n",
       "2393               Starship - We Built This City   519328507   251555.0\n",
       "2465           Billie Eilish - Happier Than Ever   509657354   112239.0\n",
       "2488                  Black Eyed Peas - MAMACITA   505990099    99626.0"
      ]
     },
     "execution_count": 20,
     "metadata": {},
     "output_type": "execute_result"
    }
   ],
   "source": [
    "data[data.duplicated(subset=['Songs & Artist'], keep=False)]"
   ]
  },
  {
   "cell_type": "code",
   "execution_count": 21,
   "metadata": {},
   "outputs": [
    {
     "data": {
      "text/html": [
       "<div>\n",
       "<style scoped>\n",
       "    .dataframe tbody tr th:only-of-type {\n",
       "        vertical-align: middle;\n",
       "    }\n",
       "\n",
       "    .dataframe tbody tr th {\n",
       "        vertical-align: top;\n",
       "    }\n",
       "\n",
       "    .dataframe thead th {\n",
       "        text-align: right;\n",
       "    }\n",
       "</style>\n",
       "<table border=\"1\" class=\"dataframe\">\n",
       "  <thead>\n",
       "    <tr style=\"text-align: right;\">\n",
       "      <th></th>\n",
       "      <th>Songs &amp; Artist</th>\n",
       "      <th>Streams</th>\n",
       "      <th>Daily</th>\n",
       "    </tr>\n",
       "  </thead>\n",
       "  <tbody>\n",
       "    <tr>\n",
       "      <th>0</th>\n",
       "      <td>The Weeknd - Blinding Lights</td>\n",
       "      <td>4463658617</td>\n",
       "      <td>1619447.0</td>\n",
       "    </tr>\n",
       "    <tr>\n",
       "      <th>1</th>\n",
       "      <td>Ed Sheeran - Shape of You</td>\n",
       "      <td>4018102402</td>\n",
       "      <td>1001507.0</td>\n",
       "    </tr>\n",
       "    <tr>\n",
       "      <th>2</th>\n",
       "      <td>Lewis Capaldi - Someone You Loved</td>\n",
       "      <td>3588673578</td>\n",
       "      <td>1506961.0</td>\n",
       "    </tr>\n",
       "    <tr>\n",
       "      <th>3</th>\n",
       "      <td>Harry Styles - As It Was</td>\n",
       "      <td>3544187311</td>\n",
       "      <td>1611374.0</td>\n",
       "    </tr>\n",
       "    <tr>\n",
       "      <th>4</th>\n",
       "      <td>Post Malone - Sunflower</td>\n",
       "      <td>3518744128</td>\n",
       "      <td>1337404.0</td>\n",
       "    </tr>\n",
       "    <tr>\n",
       "      <th>...</th>\n",
       "      <td>...</td>\n",
       "      <td>...</td>\n",
       "      <td>...</td>\n",
       "    </tr>\n",
       "    <tr>\n",
       "      <th>2495</th>\n",
       "      <td>Myke Towers - LA FALDA</td>\n",
       "      <td>505592800</td>\n",
       "      <td>1278450.0</td>\n",
       "    </tr>\n",
       "    <tr>\n",
       "      <th>2496</th>\n",
       "      <td>Social House - Magic In The Hamptons</td>\n",
       "      <td>505511969</td>\n",
       "      <td>118483.0</td>\n",
       "    </tr>\n",
       "    <tr>\n",
       "      <th>2497</th>\n",
       "      <td>KISS - Rock And Roll All Nite</td>\n",
       "      <td>505386377</td>\n",
       "      <td>205701.0</td>\n",
       "    </tr>\n",
       "    <tr>\n",
       "      <th>2498</th>\n",
       "      <td>Mora - 512</td>\n",
       "      <td>505309100</td>\n",
       "      <td>280336.0</td>\n",
       "    </tr>\n",
       "    <tr>\n",
       "      <th>2499</th>\n",
       "      <td>Meghan Trainor - Me Too</td>\n",
       "      <td>505249124</td>\n",
       "      <td>288515.0</td>\n",
       "    </tr>\n",
       "  </tbody>\n",
       "</table>\n",
       "<p>2474 rows × 3 columns</p>\n",
       "</div>"
      ],
      "text/plain": [
       "                            Songs & Artist     Streams      Daily\n",
       "0             The Weeknd - Blinding Lights  4463658617  1619447.0\n",
       "1                Ed Sheeran - Shape of You  4018102402  1001507.0\n",
       "2        Lewis Capaldi - Someone You Loved  3588673578  1506961.0\n",
       "3                 Harry Styles - As It Was  3544187311  1611374.0\n",
       "4                  Post Malone - Sunflower  3518744128  1337404.0\n",
       "...                                    ...         ...        ...\n",
       "2495                Myke Towers - LA FALDA   505592800  1278450.0\n",
       "2496  Social House - Magic In The Hamptons   505511969   118483.0\n",
       "2497         KISS - Rock And Roll All Nite   505386377   205701.0\n",
       "2498                            Mora - 512   505309100   280336.0\n",
       "2499               Meghan Trainor - Me Too   505249124   288515.0\n",
       "\n",
       "[2474 rows x 3 columns]"
      ]
     },
     "execution_count": 21,
     "metadata": {},
     "output_type": "execute_result"
    }
   ],
   "source": [
    "data.drop_duplicates(subset='Songs & Artist') # so we are going to remove the duplicates of the variable 'Songs & Artist'"
   ]
  },
  {
   "cell_type": "markdown",
   "metadata": {},
   "source": [
    "DataFrame.drop_duplicates(subset=None, *, keep='first', inplace=False, ignore_index=False)\n",
    "Return DataFrame with duplicate rows removed.\n",
    "\n",
    "Parameters:\n",
    "- subsetcolumn label or sequence of labels, optional\n",
    "- Only consider certain columns for identifying duplicates, by default use all of the columns.\n",
    "\n",
    "keep{‘first’, ‘last’, False}, default ‘first’\n",
    "Determines which duplicates (if any) to keep.\n",
    "\n",
    "- ‘first’ : Drop duplicates except for the first occurrence.\n",
    "\n",
    "- ‘last’ : Drop duplicates except for the last occurrence.\n",
    "\n",
    "- False : Drop all duplicates.\n",
    "\n",
    "inplacebool, default False\n",
    "Whether to modify the DataFrame rather than creating a new one.\n",
    "\n",
    "ignore_indexbool, default False\n",
    "If True, the resulting axis will be labeled 0, 1, …, n - 1."
   ]
  },
  {
   "cell_type": "code",
   "execution_count": 22,
   "metadata": {},
   "outputs": [
    {
     "data": {
      "text/html": [
       "<div>\n",
       "<style scoped>\n",
       "    .dataframe tbody tr th:only-of-type {\n",
       "        vertical-align: middle;\n",
       "    }\n",
       "\n",
       "    .dataframe tbody tr th {\n",
       "        vertical-align: top;\n",
       "    }\n",
       "\n",
       "    .dataframe thead th {\n",
       "        text-align: right;\n",
       "    }\n",
       "</style>\n",
       "<table border=\"1\" class=\"dataframe\">\n",
       "  <thead>\n",
       "    <tr style=\"text-align: right;\">\n",
       "      <th></th>\n",
       "      <th>Songs &amp; Artist</th>\n",
       "      <th>Streams</th>\n",
       "      <th>Daily</th>\n",
       "    </tr>\n",
       "  </thead>\n",
       "  <tbody>\n",
       "    <tr>\n",
       "      <th>0</th>\n",
       "      <td>The Weeknd - Blinding Lights</td>\n",
       "      <td>4463658617</td>\n",
       "      <td>1619447.0</td>\n",
       "    </tr>\n",
       "    <tr>\n",
       "      <th>1</th>\n",
       "      <td>Ed Sheeran - Shape of You</td>\n",
       "      <td>4018102402</td>\n",
       "      <td>1001507.0</td>\n",
       "    </tr>\n",
       "    <tr>\n",
       "      <th>2</th>\n",
       "      <td>Lewis Capaldi - Someone You Loved</td>\n",
       "      <td>3588673578</td>\n",
       "      <td>1506961.0</td>\n",
       "    </tr>\n",
       "    <tr>\n",
       "      <th>3</th>\n",
       "      <td>Harry Styles - As It Was</td>\n",
       "      <td>3544187311</td>\n",
       "      <td>1611374.0</td>\n",
       "    </tr>\n",
       "    <tr>\n",
       "      <th>4</th>\n",
       "      <td>Post Malone - Sunflower</td>\n",
       "      <td>3518744128</td>\n",
       "      <td>1337404.0</td>\n",
       "    </tr>\n",
       "    <tr>\n",
       "      <th>...</th>\n",
       "      <td>...</td>\n",
       "      <td>...</td>\n",
       "      <td>...</td>\n",
       "    </tr>\n",
       "    <tr>\n",
       "      <th>2495</th>\n",
       "      <td>Myke Towers - LA FALDA</td>\n",
       "      <td>505592800</td>\n",
       "      <td>1278450.0</td>\n",
       "    </tr>\n",
       "    <tr>\n",
       "      <th>2496</th>\n",
       "      <td>Social House - Magic In The Hamptons</td>\n",
       "      <td>505511969</td>\n",
       "      <td>118483.0</td>\n",
       "    </tr>\n",
       "    <tr>\n",
       "      <th>2497</th>\n",
       "      <td>KISS - Rock And Roll All Nite</td>\n",
       "      <td>505386377</td>\n",
       "      <td>205701.0</td>\n",
       "    </tr>\n",
       "    <tr>\n",
       "      <th>2498</th>\n",
       "      <td>Mora - 512</td>\n",
       "      <td>505309100</td>\n",
       "      <td>280336.0</td>\n",
       "    </tr>\n",
       "    <tr>\n",
       "      <th>2499</th>\n",
       "      <td>Meghan Trainor - Me Too</td>\n",
       "      <td>505249124</td>\n",
       "      <td>288515.0</td>\n",
       "    </tr>\n",
       "  </tbody>\n",
       "</table>\n",
       "<p>2474 rows × 3 columns</p>\n",
       "</div>"
      ],
      "text/plain": [
       "                            Songs & Artist     Streams      Daily\n",
       "0             The Weeknd - Blinding Lights  4463658617  1619447.0\n",
       "1                Ed Sheeran - Shape of You  4018102402  1001507.0\n",
       "2        Lewis Capaldi - Someone You Loved  3588673578  1506961.0\n",
       "3                 Harry Styles - As It Was  3544187311  1611374.0\n",
       "4                  Post Malone - Sunflower  3518744128  1337404.0\n",
       "...                                    ...         ...        ...\n",
       "2495                Myke Towers - LA FALDA   505592800  1278450.0\n",
       "2496  Social House - Magic In The Hamptons   505511969   118483.0\n",
       "2497         KISS - Rock And Roll All Nite   505386377   205701.0\n",
       "2498                            Mora - 512   505309100   280336.0\n",
       "2499               Meghan Trainor - Me Too   505249124   288515.0\n",
       "\n",
       "[2474 rows x 3 columns]"
      ]
     },
     "execution_count": 22,
     "metadata": {},
     "output_type": "execute_result"
    }
   ],
   "source": [
    "data.drop_duplicates(subset='Songs & Artist', keep = 'first')"
   ]
  },
  {
   "cell_type": "code",
   "execution_count": 23,
   "metadata": {},
   "outputs": [
    {
     "data": {
      "text/html": [
       "<div>\n",
       "<style scoped>\n",
       "    .dataframe tbody tr th:only-of-type {\n",
       "        vertical-align: middle;\n",
       "    }\n",
       "\n",
       "    .dataframe tbody tr th {\n",
       "        vertical-align: top;\n",
       "    }\n",
       "\n",
       "    .dataframe thead th {\n",
       "        text-align: right;\n",
       "    }\n",
       "</style>\n",
       "<table border=\"1\" class=\"dataframe\">\n",
       "  <thead>\n",
       "    <tr style=\"text-align: right;\">\n",
       "      <th></th>\n",
       "      <th>Songs &amp; Artist</th>\n",
       "      <th>Streams</th>\n",
       "      <th>Daily</th>\n",
       "    </tr>\n",
       "  </thead>\n",
       "  <tbody>\n",
       "    <tr>\n",
       "      <th>0</th>\n",
       "      <td>False</td>\n",
       "      <td>False</td>\n",
       "      <td>False</td>\n",
       "    </tr>\n",
       "    <tr>\n",
       "      <th>1</th>\n",
       "      <td>False</td>\n",
       "      <td>False</td>\n",
       "      <td>False</td>\n",
       "    </tr>\n",
       "    <tr>\n",
       "      <th>2</th>\n",
       "      <td>False</td>\n",
       "      <td>False</td>\n",
       "      <td>False</td>\n",
       "    </tr>\n",
       "    <tr>\n",
       "      <th>3</th>\n",
       "      <td>False</td>\n",
       "      <td>False</td>\n",
       "      <td>False</td>\n",
       "    </tr>\n",
       "    <tr>\n",
       "      <th>4</th>\n",
       "      <td>False</td>\n",
       "      <td>False</td>\n",
       "      <td>False</td>\n",
       "    </tr>\n",
       "    <tr>\n",
       "      <th>...</th>\n",
       "      <td>...</td>\n",
       "      <td>...</td>\n",
       "      <td>...</td>\n",
       "    </tr>\n",
       "    <tr>\n",
       "      <th>2495</th>\n",
       "      <td>False</td>\n",
       "      <td>False</td>\n",
       "      <td>False</td>\n",
       "    </tr>\n",
       "    <tr>\n",
       "      <th>2496</th>\n",
       "      <td>False</td>\n",
       "      <td>False</td>\n",
       "      <td>False</td>\n",
       "    </tr>\n",
       "    <tr>\n",
       "      <th>2497</th>\n",
       "      <td>False</td>\n",
       "      <td>False</td>\n",
       "      <td>False</td>\n",
       "    </tr>\n",
       "    <tr>\n",
       "      <th>2498</th>\n",
       "      <td>False</td>\n",
       "      <td>False</td>\n",
       "      <td>False</td>\n",
       "    </tr>\n",
       "    <tr>\n",
       "      <th>2499</th>\n",
       "      <td>False</td>\n",
       "      <td>False</td>\n",
       "      <td>False</td>\n",
       "    </tr>\n",
       "  </tbody>\n",
       "</table>\n",
       "<p>2500 rows × 3 columns</p>\n",
       "</div>"
      ],
      "text/plain": [
       "      Songs & Artist  Streams  Daily\n",
       "0              False    False  False\n",
       "1              False    False  False\n",
       "2              False    False  False\n",
       "3              False    False  False\n",
       "4              False    False  False\n",
       "...              ...      ...    ...\n",
       "2495           False    False  False\n",
       "2496           False    False  False\n",
       "2497           False    False  False\n",
       "2498           False    False  False\n",
       "2499           False    False  False\n",
       "\n",
       "[2500 rows x 3 columns]"
      ]
     },
     "execution_count": 23,
     "metadata": {},
     "output_type": "execute_result"
    }
   ],
   "source": [
    "data.isna()"
   ]
  },
  {
   "cell_type": "markdown",
   "metadata": {},
   "source": [
    "DataFrame.dropna(*, axis=0, how=<no_default>, thresh=<no_default>, subset=None, inplace=False, ignore_index=False)[source]\n",
    "Remove missing values.\n",
    "\n",
    "Parameters:\n",
    "axis{0 or ‘index’, 1 or ‘columns’}, default 0\n",
    "Determine if rows or columns which contain missing values are removed.\n",
    "\n",
    "- 0, or ‘index’ : Drop rows which contain missing values.\n",
    "\n",
    "- 1, or ‘columns’ : Drop columns which contain missing value.\n",
    "\n",
    "Only a single axis is allowed.\n",
    "\n",
    "how{‘any’, ‘all’}, default ‘any’\n",
    "Determine if row or column is removed from DataFrame, when we have at least one NA or all NA.\n",
    "\n",
    "- ‘any’ : If any NA values are present, drop that row or column.\n",
    "\n",
    "- ‘all’ : If all values are NA, drop that row or column.\n",
    "\n",
    "threshint, optional\n",
    "Require that many non-NA values. Cannot be combined with how.\n",
    "\n",
    "subsetcolumn label or sequence of labels, optional\n",
    "Labels along other axis to consider, e.g. if you are dropping rows these would be a list of columns to include.\n",
    "\n",
    "inplacebool, default False\n",
    "Whether to modify the DataFrame rather than creating a new one.\n",
    "\n",
    "ignore_indexbool, default False\n",
    "If True, the resulting axis will be labeled 0, 1, …, n - 1."
   ]
  },
  {
   "cell_type": "code",
   "execution_count": 24,
   "metadata": {},
   "outputs": [
    {
     "data": {
      "text/html": [
       "<div>\n",
       "<style scoped>\n",
       "    .dataframe tbody tr th:only-of-type {\n",
       "        vertical-align: middle;\n",
       "    }\n",
       "\n",
       "    .dataframe tbody tr th {\n",
       "        vertical-align: top;\n",
       "    }\n",
       "\n",
       "    .dataframe thead th {\n",
       "        text-align: right;\n",
       "    }\n",
       "</style>\n",
       "<table border=\"1\" class=\"dataframe\">\n",
       "  <thead>\n",
       "    <tr style=\"text-align: right;\">\n",
       "      <th></th>\n",
       "      <th>Songs &amp; Artist</th>\n",
       "      <th>Streams</th>\n",
       "      <th>Daily</th>\n",
       "    </tr>\n",
       "  </thead>\n",
       "  <tbody>\n",
       "    <tr>\n",
       "      <th>0</th>\n",
       "      <td>The Weeknd - Blinding Lights</td>\n",
       "      <td>4463658617</td>\n",
       "      <td>1619447.0</td>\n",
       "    </tr>\n",
       "    <tr>\n",
       "      <th>1</th>\n",
       "      <td>Ed Sheeran - Shape of You</td>\n",
       "      <td>4018102402</td>\n",
       "      <td>1001507.0</td>\n",
       "    </tr>\n",
       "    <tr>\n",
       "      <th>2</th>\n",
       "      <td>Lewis Capaldi - Someone You Loved</td>\n",
       "      <td>3588673578</td>\n",
       "      <td>1506961.0</td>\n",
       "    </tr>\n",
       "    <tr>\n",
       "      <th>3</th>\n",
       "      <td>Harry Styles - As It Was</td>\n",
       "      <td>3544187311</td>\n",
       "      <td>1611374.0</td>\n",
       "    </tr>\n",
       "    <tr>\n",
       "      <th>4</th>\n",
       "      <td>Post Malone - Sunflower</td>\n",
       "      <td>3518744128</td>\n",
       "      <td>1337404.0</td>\n",
       "    </tr>\n",
       "    <tr>\n",
       "      <th>...</th>\n",
       "      <td>...</td>\n",
       "      <td>...</td>\n",
       "      <td>...</td>\n",
       "    </tr>\n",
       "    <tr>\n",
       "      <th>2495</th>\n",
       "      <td>Myke Towers - LA FALDA</td>\n",
       "      <td>505592800</td>\n",
       "      <td>1278450.0</td>\n",
       "    </tr>\n",
       "    <tr>\n",
       "      <th>2496</th>\n",
       "      <td>Social House - Magic In The Hamptons</td>\n",
       "      <td>505511969</td>\n",
       "      <td>118483.0</td>\n",
       "    </tr>\n",
       "    <tr>\n",
       "      <th>2497</th>\n",
       "      <td>KISS - Rock And Roll All Nite</td>\n",
       "      <td>505386377</td>\n",
       "      <td>205701.0</td>\n",
       "    </tr>\n",
       "    <tr>\n",
       "      <th>2498</th>\n",
       "      <td>Mora - 512</td>\n",
       "      <td>505309100</td>\n",
       "      <td>280336.0</td>\n",
       "    </tr>\n",
       "    <tr>\n",
       "      <th>2499</th>\n",
       "      <td>Meghan Trainor - Me Too</td>\n",
       "      <td>505249124</td>\n",
       "      <td>288515.0</td>\n",
       "    </tr>\n",
       "  </tbody>\n",
       "</table>\n",
       "<p>2498 rows × 3 columns</p>\n",
       "</div>"
      ],
      "text/plain": [
       "                            Songs & Artist     Streams      Daily\n",
       "0             The Weeknd - Blinding Lights  4463658617  1619447.0\n",
       "1                Ed Sheeran - Shape of You  4018102402  1001507.0\n",
       "2        Lewis Capaldi - Someone You Loved  3588673578  1506961.0\n",
       "3                 Harry Styles - As It Was  3544187311  1611374.0\n",
       "4                  Post Malone - Sunflower  3518744128  1337404.0\n",
       "...                                    ...         ...        ...\n",
       "2495                Myke Towers - LA FALDA   505592800  1278450.0\n",
       "2496  Social House - Magic In The Hamptons   505511969   118483.0\n",
       "2497         KISS - Rock And Roll All Nite   505386377   205701.0\n",
       "2498                            Mora - 512   505309100   280336.0\n",
       "2499               Meghan Trainor - Me Too   505249124   288515.0\n",
       "\n",
       "[2498 rows x 3 columns]"
      ]
     },
     "execution_count": 24,
     "metadata": {},
     "output_type": "execute_result"
    }
   ],
   "source": [
    "data.dropna(how='any', axis = 0) # 0 means rows whiel 1 means columns"
   ]
  },
  {
   "cell_type": "code",
   "execution_count": 25,
   "metadata": {},
   "outputs": [],
   "source": [
    "data.dropna(inplace=True) # is equal to data = data.dropna()"
   ]
  },
  {
   "cell_type": "code",
   "execution_count": 26,
   "metadata": {},
   "outputs": [
    {
     "data": {
      "text/html": [
       "<div>\n",
       "<style scoped>\n",
       "    .dataframe tbody tr th:only-of-type {\n",
       "        vertical-align: middle;\n",
       "    }\n",
       "\n",
       "    .dataframe tbody tr th {\n",
       "        vertical-align: top;\n",
       "    }\n",
       "\n",
       "    .dataframe thead th {\n",
       "        text-align: right;\n",
       "    }\n",
       "</style>\n",
       "<table border=\"1\" class=\"dataframe\">\n",
       "  <thead>\n",
       "    <tr style=\"text-align: right;\">\n",
       "      <th></th>\n",
       "      <th>Songs &amp; Artist</th>\n",
       "      <th>Streams</th>\n",
       "      <th>Daily</th>\n",
       "    </tr>\n",
       "  </thead>\n",
       "  <tbody>\n",
       "    <tr>\n",
       "      <th>0</th>\n",
       "      <td>The Weeknd - Blinding Lights</td>\n",
       "      <td>4463658617</td>\n",
       "      <td>1619447.0</td>\n",
       "    </tr>\n",
       "    <tr>\n",
       "      <th>1</th>\n",
       "      <td>Ed Sheeran - Shape of You</td>\n",
       "      <td>4018102402</td>\n",
       "      <td>1001507.0</td>\n",
       "    </tr>\n",
       "    <tr>\n",
       "      <th>2</th>\n",
       "      <td>Lewis Capaldi - Someone You Loved</td>\n",
       "      <td>3588673578</td>\n",
       "      <td>1506961.0</td>\n",
       "    </tr>\n",
       "    <tr>\n",
       "      <th>3</th>\n",
       "      <td>Harry Styles - As It Was</td>\n",
       "      <td>3544187311</td>\n",
       "      <td>1611374.0</td>\n",
       "    </tr>\n",
       "    <tr>\n",
       "      <th>4</th>\n",
       "      <td>Post Malone - Sunflower</td>\n",
       "      <td>3518744128</td>\n",
       "      <td>1337404.0</td>\n",
       "    </tr>\n",
       "    <tr>\n",
       "      <th>...</th>\n",
       "      <td>...</td>\n",
       "      <td>...</td>\n",
       "      <td>...</td>\n",
       "    </tr>\n",
       "    <tr>\n",
       "      <th>2495</th>\n",
       "      <td>Myke Towers - LA FALDA</td>\n",
       "      <td>505592800</td>\n",
       "      <td>1278450.0</td>\n",
       "    </tr>\n",
       "    <tr>\n",
       "      <th>2496</th>\n",
       "      <td>Social House - Magic In The Hamptons</td>\n",
       "      <td>505511969</td>\n",
       "      <td>118483.0</td>\n",
       "    </tr>\n",
       "    <tr>\n",
       "      <th>2497</th>\n",
       "      <td>KISS - Rock And Roll All Nite</td>\n",
       "      <td>505386377</td>\n",
       "      <td>205701.0</td>\n",
       "    </tr>\n",
       "    <tr>\n",
       "      <th>2498</th>\n",
       "      <td>Mora - 512</td>\n",
       "      <td>505309100</td>\n",
       "      <td>280336.0</td>\n",
       "    </tr>\n",
       "    <tr>\n",
       "      <th>2499</th>\n",
       "      <td>Meghan Trainor - Me Too</td>\n",
       "      <td>505249124</td>\n",
       "      <td>288515.0</td>\n",
       "    </tr>\n",
       "  </tbody>\n",
       "</table>\n",
       "<p>2498 rows × 3 columns</p>\n",
       "</div>"
      ],
      "text/plain": [
       "                            Songs & Artist     Streams      Daily\n",
       "0             The Weeknd - Blinding Lights  4463658617  1619447.0\n",
       "1                Ed Sheeran - Shape of You  4018102402  1001507.0\n",
       "2        Lewis Capaldi - Someone You Loved  3588673578  1506961.0\n",
       "3                 Harry Styles - As It Was  3544187311  1611374.0\n",
       "4                  Post Malone - Sunflower  3518744128  1337404.0\n",
       "...                                    ...         ...        ...\n",
       "2495                Myke Towers - LA FALDA   505592800  1278450.0\n",
       "2496  Social House - Magic In The Hamptons   505511969   118483.0\n",
       "2497         KISS - Rock And Roll All Nite   505386377   205701.0\n",
       "2498                            Mora - 512   505309100   280336.0\n",
       "2499               Meghan Trainor - Me Too   505249124   288515.0\n",
       "\n",
       "[2498 rows x 3 columns]"
      ]
     },
     "execution_count": 26,
     "metadata": {},
     "output_type": "execute_result"
    }
   ],
   "source": [
    "data"
   ]
  },
  {
   "cell_type": "code",
   "execution_count": 27,
   "metadata": {},
   "outputs": [],
   "source": [
    "data.drop_duplicates(subset='Songs & Artist', inplace=True)"
   ]
  },
  {
   "cell_type": "code",
   "execution_count": 28,
   "metadata": {},
   "outputs": [
    {
     "data": {
      "text/html": [
       "<div>\n",
       "<style scoped>\n",
       "    .dataframe tbody tr th:only-of-type {\n",
       "        vertical-align: middle;\n",
       "    }\n",
       "\n",
       "    .dataframe tbody tr th {\n",
       "        vertical-align: top;\n",
       "    }\n",
       "\n",
       "    .dataframe thead th {\n",
       "        text-align: right;\n",
       "    }\n",
       "</style>\n",
       "<table border=\"1\" class=\"dataframe\">\n",
       "  <thead>\n",
       "    <tr style=\"text-align: right;\">\n",
       "      <th></th>\n",
       "      <th>Songs &amp; Artist</th>\n",
       "      <th>Streams</th>\n",
       "      <th>Daily</th>\n",
       "    </tr>\n",
       "  </thead>\n",
       "  <tbody>\n",
       "    <tr>\n",
       "      <th>0</th>\n",
       "      <td>The Weeknd - Blinding Lights</td>\n",
       "      <td>4463658617</td>\n",
       "      <td>1619447.0</td>\n",
       "    </tr>\n",
       "    <tr>\n",
       "      <th>1</th>\n",
       "      <td>Ed Sheeran - Shape of You</td>\n",
       "      <td>4018102402</td>\n",
       "      <td>1001507.0</td>\n",
       "    </tr>\n",
       "    <tr>\n",
       "      <th>2</th>\n",
       "      <td>Lewis Capaldi - Someone You Loved</td>\n",
       "      <td>3588673578</td>\n",
       "      <td>1506961.0</td>\n",
       "    </tr>\n",
       "    <tr>\n",
       "      <th>3</th>\n",
       "      <td>Harry Styles - As It Was</td>\n",
       "      <td>3544187311</td>\n",
       "      <td>1611374.0</td>\n",
       "    </tr>\n",
       "    <tr>\n",
       "      <th>4</th>\n",
       "      <td>Post Malone - Sunflower</td>\n",
       "      <td>3518744128</td>\n",
       "      <td>1337404.0</td>\n",
       "    </tr>\n",
       "    <tr>\n",
       "      <th>...</th>\n",
       "      <td>...</td>\n",
       "      <td>...</td>\n",
       "      <td>...</td>\n",
       "    </tr>\n",
       "    <tr>\n",
       "      <th>2495</th>\n",
       "      <td>Myke Towers - LA FALDA</td>\n",
       "      <td>505592800</td>\n",
       "      <td>1278450.0</td>\n",
       "    </tr>\n",
       "    <tr>\n",
       "      <th>2496</th>\n",
       "      <td>Social House - Magic In The Hamptons</td>\n",
       "      <td>505511969</td>\n",
       "      <td>118483.0</td>\n",
       "    </tr>\n",
       "    <tr>\n",
       "      <th>2497</th>\n",
       "      <td>KISS - Rock And Roll All Nite</td>\n",
       "      <td>505386377</td>\n",
       "      <td>205701.0</td>\n",
       "    </tr>\n",
       "    <tr>\n",
       "      <th>2498</th>\n",
       "      <td>Mora - 512</td>\n",
       "      <td>505309100</td>\n",
       "      <td>280336.0</td>\n",
       "    </tr>\n",
       "    <tr>\n",
       "      <th>2499</th>\n",
       "      <td>Meghan Trainor - Me Too</td>\n",
       "      <td>505249124</td>\n",
       "      <td>288515.0</td>\n",
       "    </tr>\n",
       "  </tbody>\n",
       "</table>\n",
       "<p>2474 rows × 3 columns</p>\n",
       "</div>"
      ],
      "text/plain": [
       "                            Songs & Artist     Streams      Daily\n",
       "0             The Weeknd - Blinding Lights  4463658617  1619447.0\n",
       "1                Ed Sheeran - Shape of You  4018102402  1001507.0\n",
       "2        Lewis Capaldi - Someone You Loved  3588673578  1506961.0\n",
       "3                 Harry Styles - As It Was  3544187311  1611374.0\n",
       "4                  Post Malone - Sunflower  3518744128  1337404.0\n",
       "...                                    ...         ...        ...\n",
       "2495                Myke Towers - LA FALDA   505592800  1278450.0\n",
       "2496  Social House - Magic In The Hamptons   505511969   118483.0\n",
       "2497         KISS - Rock And Roll All Nite   505386377   205701.0\n",
       "2498                            Mora - 512   505309100   280336.0\n",
       "2499               Meghan Trainor - Me Too   505249124   288515.0\n",
       "\n",
       "[2474 rows x 3 columns]"
      ]
     },
     "execution_count": 28,
     "metadata": {},
     "output_type": "execute_result"
    }
   ],
   "source": [
    "data # dataset without missing values and duplicates"
   ]
  },
  {
   "cell_type": "code",
   "execution_count": 29,
   "metadata": {},
   "outputs": [
    {
     "data": {
      "text/plain": [
       "dtype('float64')"
      ]
     },
     "execution_count": 29,
     "metadata": {},
     "output_type": "execute_result"
    }
   ],
   "source": [
    "data['Daily'].dtype"
   ]
  },
  {
   "cell_type": "code",
   "execution_count": 30,
   "metadata": {},
   "outputs": [],
   "source": [
    "data['Daily'] = data['Daily'].astype(int)"
   ]
  },
  {
   "cell_type": "code",
   "execution_count": 31,
   "metadata": {},
   "outputs": [
    {
     "data": {
      "text/plain": [
       "dtype('int32')"
      ]
     },
     "execution_count": 31,
     "metadata": {},
     "output_type": "execute_result"
    }
   ],
   "source": [
    "data['Daily'].dtype"
   ]
  },
  {
   "cell_type": "code",
   "execution_count": 32,
   "metadata": {},
   "outputs": [
    {
     "data": {
      "text/html": [
       "<div>\n",
       "<style scoped>\n",
       "    .dataframe tbody tr th:only-of-type {\n",
       "        vertical-align: middle;\n",
       "    }\n",
       "\n",
       "    .dataframe tbody tr th {\n",
       "        vertical-align: top;\n",
       "    }\n",
       "\n",
       "    .dataframe thead th {\n",
       "        text-align: right;\n",
       "    }\n",
       "</style>\n",
       "<table border=\"1\" class=\"dataframe\">\n",
       "  <thead>\n",
       "    <tr style=\"text-align: right;\">\n",
       "      <th></th>\n",
       "      <th>Songs &amp; Artist</th>\n",
       "      <th>Streams</th>\n",
       "      <th>Daily</th>\n",
       "    </tr>\n",
       "  </thead>\n",
       "  <tbody>\n",
       "    <tr>\n",
       "      <th>0</th>\n",
       "      <td>The Weeknd - Blinding Lights</td>\n",
       "      <td>4463658617</td>\n",
       "      <td>1619447</td>\n",
       "    </tr>\n",
       "    <tr>\n",
       "      <th>1</th>\n",
       "      <td>Ed Sheeran - Shape of You</td>\n",
       "      <td>4018102402</td>\n",
       "      <td>1001507</td>\n",
       "    </tr>\n",
       "    <tr>\n",
       "      <th>2</th>\n",
       "      <td>Lewis Capaldi - Someone You Loved</td>\n",
       "      <td>3588673578</td>\n",
       "      <td>1506961</td>\n",
       "    </tr>\n",
       "    <tr>\n",
       "      <th>3</th>\n",
       "      <td>Harry Styles - As It Was</td>\n",
       "      <td>3544187311</td>\n",
       "      <td>1611374</td>\n",
       "    </tr>\n",
       "    <tr>\n",
       "      <th>4</th>\n",
       "      <td>Post Malone - Sunflower</td>\n",
       "      <td>3518744128</td>\n",
       "      <td>1337404</td>\n",
       "    </tr>\n",
       "    <tr>\n",
       "      <th>...</th>\n",
       "      <td>...</td>\n",
       "      <td>...</td>\n",
       "      <td>...</td>\n",
       "    </tr>\n",
       "    <tr>\n",
       "      <th>2495</th>\n",
       "      <td>Myke Towers - LA FALDA</td>\n",
       "      <td>505592800</td>\n",
       "      <td>1278450</td>\n",
       "    </tr>\n",
       "    <tr>\n",
       "      <th>2496</th>\n",
       "      <td>Social House - Magic In The Hamptons</td>\n",
       "      <td>505511969</td>\n",
       "      <td>118483</td>\n",
       "    </tr>\n",
       "    <tr>\n",
       "      <th>2497</th>\n",
       "      <td>KISS - Rock And Roll All Nite</td>\n",
       "      <td>505386377</td>\n",
       "      <td>205701</td>\n",
       "    </tr>\n",
       "    <tr>\n",
       "      <th>2498</th>\n",
       "      <td>Mora - 512</td>\n",
       "      <td>505309100</td>\n",
       "      <td>280336</td>\n",
       "    </tr>\n",
       "    <tr>\n",
       "      <th>2499</th>\n",
       "      <td>Meghan Trainor - Me Too</td>\n",
       "      <td>505249124</td>\n",
       "      <td>288515</td>\n",
       "    </tr>\n",
       "  </tbody>\n",
       "</table>\n",
       "<p>2474 rows × 3 columns</p>\n",
       "</div>"
      ],
      "text/plain": [
       "                            Songs & Artist     Streams    Daily\n",
       "0             The Weeknd - Blinding Lights  4463658617  1619447\n",
       "1                Ed Sheeran - Shape of You  4018102402  1001507\n",
       "2        Lewis Capaldi - Someone You Loved  3588673578  1506961\n",
       "3                 Harry Styles - As It Was  3544187311  1611374\n",
       "4                  Post Malone - Sunflower  3518744128  1337404\n",
       "...                                    ...         ...      ...\n",
       "2495                Myke Towers - LA FALDA   505592800  1278450\n",
       "2496  Social House - Magic In The Hamptons   505511969   118483\n",
       "2497         KISS - Rock And Roll All Nite   505386377   205701\n",
       "2498                            Mora - 512   505309100   280336\n",
       "2499               Meghan Trainor - Me Too   505249124   288515\n",
       "\n",
       "[2474 rows x 3 columns]"
      ]
     },
     "execution_count": 32,
     "metadata": {},
     "output_type": "execute_result"
    }
   ],
   "source": [
    "data"
   ]
  },
  {
   "cell_type": "code",
   "execution_count": 33,
   "metadata": {},
   "outputs": [
    {
     "data": {
      "text/html": [
       "<div>\n",
       "<style scoped>\n",
       "    .dataframe tbody tr th:only-of-type {\n",
       "        vertical-align: middle;\n",
       "    }\n",
       "\n",
       "    .dataframe tbody tr th {\n",
       "        vertical-align: top;\n",
       "    }\n",
       "\n",
       "    .dataframe thead th {\n",
       "        text-align: right;\n",
       "    }\n",
       "</style>\n",
       "<table border=\"1\" class=\"dataframe\">\n",
       "  <thead>\n",
       "    <tr style=\"text-align: right;\">\n",
       "      <th></th>\n",
       "      <th>0</th>\n",
       "      <th>1</th>\n",
       "    </tr>\n",
       "  </thead>\n",
       "  <tbody>\n",
       "    <tr>\n",
       "      <th>0</th>\n",
       "      <td>The Weeknd</td>\n",
       "      <td>Blinding Lights</td>\n",
       "    </tr>\n",
       "    <tr>\n",
       "      <th>1</th>\n",
       "      <td>Ed Sheeran</td>\n",
       "      <td>Shape of You</td>\n",
       "    </tr>\n",
       "    <tr>\n",
       "      <th>2</th>\n",
       "      <td>Lewis Capaldi</td>\n",
       "      <td>Someone You Loved</td>\n",
       "    </tr>\n",
       "    <tr>\n",
       "      <th>3</th>\n",
       "      <td>Harry Styles</td>\n",
       "      <td>As It Was</td>\n",
       "    </tr>\n",
       "    <tr>\n",
       "      <th>4</th>\n",
       "      <td>Post Malone</td>\n",
       "      <td>Sunflower</td>\n",
       "    </tr>\n",
       "    <tr>\n",
       "      <th>...</th>\n",
       "      <td>...</td>\n",
       "      <td>...</td>\n",
       "    </tr>\n",
       "    <tr>\n",
       "      <th>2495</th>\n",
       "      <td>Myke Towers</td>\n",
       "      <td>LA FALDA</td>\n",
       "    </tr>\n",
       "    <tr>\n",
       "      <th>2496</th>\n",
       "      <td>Social House</td>\n",
       "      <td>Magic In The Hamptons</td>\n",
       "    </tr>\n",
       "    <tr>\n",
       "      <th>2497</th>\n",
       "      <td>KISS</td>\n",
       "      <td>Rock And Roll All Nite</td>\n",
       "    </tr>\n",
       "    <tr>\n",
       "      <th>2498</th>\n",
       "      <td>Mora</td>\n",
       "      <td>512</td>\n",
       "    </tr>\n",
       "    <tr>\n",
       "      <th>2499</th>\n",
       "      <td>Meghan Trainor</td>\n",
       "      <td>Me Too</td>\n",
       "    </tr>\n",
       "  </tbody>\n",
       "</table>\n",
       "<p>2474 rows × 2 columns</p>\n",
       "</div>"
      ],
      "text/plain": [
       "                   0                       1\n",
       "0         The Weeknd         Blinding Lights\n",
       "1         Ed Sheeran            Shape of You\n",
       "2      Lewis Capaldi       Someone You Loved\n",
       "3       Harry Styles               As It Was\n",
       "4        Post Malone               Sunflower\n",
       "...              ...                     ...\n",
       "2495     Myke Towers                LA FALDA\n",
       "2496    Social House   Magic In The Hamptons\n",
       "2497            KISS  Rock And Roll All Nite\n",
       "2498            Mora                     512\n",
       "2499  Meghan Trainor                  Me Too\n",
       "\n",
       "[2474 rows x 2 columns]"
      ]
     },
     "execution_count": 33,
     "metadata": {},
     "output_type": "execute_result"
    }
   ],
   "source": [
    "data['Songs & Artist'].str.split(' - ', n=1, expand=True)"
   ]
  },
  {
   "cell_type": "code",
   "execution_count": 34,
   "metadata": {},
   "outputs": [],
   "source": [
    "data[['artist','song']] = data['Songs & Artist'].str.split(' - ', n=1, expand=True)"
   ]
  },
  {
   "cell_type": "code",
   "execution_count": 35,
   "metadata": {},
   "outputs": [],
   "source": [
    "data = data.drop('Songs & Artist', axis=1)"
   ]
  },
  {
   "cell_type": "code",
   "execution_count": 36,
   "metadata": {},
   "outputs": [
    {
     "data": {
      "text/html": [
       "<div>\n",
       "<style scoped>\n",
       "    .dataframe tbody tr th:only-of-type {\n",
       "        vertical-align: middle;\n",
       "    }\n",
       "\n",
       "    .dataframe tbody tr th {\n",
       "        vertical-align: top;\n",
       "    }\n",
       "\n",
       "    .dataframe thead th {\n",
       "        text-align: right;\n",
       "    }\n",
       "</style>\n",
       "<table border=\"1\" class=\"dataframe\">\n",
       "  <thead>\n",
       "    <tr style=\"text-align: right;\">\n",
       "      <th></th>\n",
       "      <th>Streams</th>\n",
       "      <th>Daily</th>\n",
       "      <th>artist</th>\n",
       "      <th>song</th>\n",
       "    </tr>\n",
       "  </thead>\n",
       "  <tbody>\n",
       "    <tr>\n",
       "      <th>0</th>\n",
       "      <td>4463658617</td>\n",
       "      <td>1619447</td>\n",
       "      <td>The Weeknd</td>\n",
       "      <td>Blinding Lights</td>\n",
       "    </tr>\n",
       "    <tr>\n",
       "      <th>1</th>\n",
       "      <td>4018102402</td>\n",
       "      <td>1001507</td>\n",
       "      <td>Ed Sheeran</td>\n",
       "      <td>Shape of You</td>\n",
       "    </tr>\n",
       "    <tr>\n",
       "      <th>2</th>\n",
       "      <td>3588673578</td>\n",
       "      <td>1506961</td>\n",
       "      <td>Lewis Capaldi</td>\n",
       "      <td>Someone You Loved</td>\n",
       "    </tr>\n",
       "    <tr>\n",
       "      <th>3</th>\n",
       "      <td>3544187311</td>\n",
       "      <td>1611374</td>\n",
       "      <td>Harry Styles</td>\n",
       "      <td>As It Was</td>\n",
       "    </tr>\n",
       "    <tr>\n",
       "      <th>4</th>\n",
       "      <td>3518744128</td>\n",
       "      <td>1337404</td>\n",
       "      <td>Post Malone</td>\n",
       "      <td>Sunflower</td>\n",
       "    </tr>\n",
       "    <tr>\n",
       "      <th>...</th>\n",
       "      <td>...</td>\n",
       "      <td>...</td>\n",
       "      <td>...</td>\n",
       "      <td>...</td>\n",
       "    </tr>\n",
       "    <tr>\n",
       "      <th>2495</th>\n",
       "      <td>505592800</td>\n",
       "      <td>1278450</td>\n",
       "      <td>Myke Towers</td>\n",
       "      <td>LA FALDA</td>\n",
       "    </tr>\n",
       "    <tr>\n",
       "      <th>2496</th>\n",
       "      <td>505511969</td>\n",
       "      <td>118483</td>\n",
       "      <td>Social House</td>\n",
       "      <td>Magic In The Hamptons</td>\n",
       "    </tr>\n",
       "    <tr>\n",
       "      <th>2497</th>\n",
       "      <td>505386377</td>\n",
       "      <td>205701</td>\n",
       "      <td>KISS</td>\n",
       "      <td>Rock And Roll All Nite</td>\n",
       "    </tr>\n",
       "    <tr>\n",
       "      <th>2498</th>\n",
       "      <td>505309100</td>\n",
       "      <td>280336</td>\n",
       "      <td>Mora</td>\n",
       "      <td>512</td>\n",
       "    </tr>\n",
       "    <tr>\n",
       "      <th>2499</th>\n",
       "      <td>505249124</td>\n",
       "      <td>288515</td>\n",
       "      <td>Meghan Trainor</td>\n",
       "      <td>Me Too</td>\n",
       "    </tr>\n",
       "  </tbody>\n",
       "</table>\n",
       "<p>2474 rows × 4 columns</p>\n",
       "</div>"
      ],
      "text/plain": [
       "         Streams    Daily          artist                    song\n",
       "0     4463658617  1619447      The Weeknd         Blinding Lights\n",
       "1     4018102402  1001507      Ed Sheeran            Shape of You\n",
       "2     3588673578  1506961   Lewis Capaldi       Someone You Loved\n",
       "3     3544187311  1611374    Harry Styles               As It Was\n",
       "4     3518744128  1337404     Post Malone               Sunflower\n",
       "...          ...      ...             ...                     ...\n",
       "2495   505592800  1278450     Myke Towers                LA FALDA\n",
       "2496   505511969   118483    Social House   Magic In The Hamptons\n",
       "2497   505386377   205701            KISS  Rock And Roll All Nite\n",
       "2498   505309100   280336            Mora                     512\n",
       "2499   505249124   288515  Meghan Trainor                  Me Too\n",
       "\n",
       "[2474 rows x 4 columns]"
      ]
     },
     "execution_count": 36,
     "metadata": {},
     "output_type": "execute_result"
    }
   ],
   "source": [
    "data"
   ]
  },
  {
   "cell_type": "code",
   "execution_count": 37,
   "metadata": {},
   "outputs": [],
   "source": [
    "data = data.rename(columns={'Streams': 'streams', 'Daily': 'daily'})"
   ]
  },
  {
   "cell_type": "code",
   "execution_count": 38,
   "metadata": {},
   "outputs": [
    {
     "data": {
      "text/plain": [
       "artist\n",
       "Taylor Swift      41\n",
       "Bad Bunny         36\n",
       "Drake             33\n",
       "Billie Eilish     26\n",
       "The Weeknd        24\n",
       "                  ..\n",
       "Sub Urban          1\n",
       "Arizona Zervas     1\n",
       "*NSYNC             1\n",
       "Don McLean         1\n",
       "Social House       1\n",
       "Name: count, Length: 993, dtype: int64"
      ]
     },
     "execution_count": 38,
     "metadata": {},
     "output_type": "execute_result"
    }
   ],
   "source": [
    "data['artist'].value_counts()"
   ]
  },
  {
   "cell_type": "code",
   "execution_count": 39,
   "metadata": {},
   "outputs": [
    {
     "data": {
      "text/html": [
       "<div>\n",
       "<style scoped>\n",
       "    .dataframe tbody tr th:only-of-type {\n",
       "        vertical-align: middle;\n",
       "    }\n",
       "\n",
       "    .dataframe tbody tr th {\n",
       "        vertical-align: top;\n",
       "    }\n",
       "\n",
       "    .dataframe thead th {\n",
       "        text-align: right;\n",
       "    }\n",
       "</style>\n",
       "<table border=\"1\" class=\"dataframe\">\n",
       "  <thead>\n",
       "    <tr style=\"text-align: right;\">\n",
       "      <th></th>\n",
       "      <th>streams</th>\n",
       "      <th>daily</th>\n",
       "      <th>artist</th>\n",
       "      <th>song</th>\n",
       "    </tr>\n",
       "  </thead>\n",
       "  <tbody>\n",
       "    <tr>\n",
       "      <th>39</th>\n",
       "      <td>2481542457</td>\n",
       "      <td>2271270</td>\n",
       "      <td>Taylor Swift</td>\n",
       "      <td>Cruel Summer</td>\n",
       "    </tr>\n",
       "    <tr>\n",
       "      <th>128</th>\n",
       "      <td>1909046390</td>\n",
       "      <td>674338</td>\n",
       "      <td>Taylor Swift</td>\n",
       "      <td>Blank Space</td>\n",
       "    </tr>\n",
       "    <tr>\n",
       "      <th>221</th>\n",
       "      <td>1663786298</td>\n",
       "      <td>786091</td>\n",
       "      <td>Taylor Swift</td>\n",
       "      <td>Anti-Hero</td>\n",
       "    </tr>\n",
       "    <tr>\n",
       "      <th>274</th>\n",
       "      <td>1539880718</td>\n",
       "      <td>1035606</td>\n",
       "      <td>Taylor Swift</td>\n",
       "      <td>Lover</td>\n",
       "    </tr>\n",
       "    <tr>\n",
       "      <th>311</th>\n",
       "      <td>1479530912</td>\n",
       "      <td>604852</td>\n",
       "      <td>Taylor Swift</td>\n",
       "      <td>Shake It Off</td>\n",
       "    </tr>\n",
       "    <tr>\n",
       "      <th>344</th>\n",
       "      <td>1421155316</td>\n",
       "      <td>1072449</td>\n",
       "      <td>Taylor Swift</td>\n",
       "      <td>cardigan</td>\n",
       "    </tr>\n",
       "    <tr>\n",
       "      <th>445</th>\n",
       "      <td>1275999844</td>\n",
       "      <td>497318</td>\n",
       "      <td>Taylor Swift</td>\n",
       "      <td>Style</td>\n",
       "    </tr>\n",
       "    <tr>\n",
       "      <th>462</th>\n",
       "      <td>1243764603</td>\n",
       "      <td>1298139</td>\n",
       "      <td>Taylor Swift</td>\n",
       "      <td>august</td>\n",
       "    </tr>\n",
       "    <tr>\n",
       "      <th>487</th>\n",
       "      <td>1216808688</td>\n",
       "      <td>837279</td>\n",
       "      <td>Taylor Swift</td>\n",
       "      <td>Don’t Blame Me</td>\n",
       "    </tr>\n",
       "    <tr>\n",
       "      <th>498</th>\n",
       "      <td>1207381259</td>\n",
       "      <td>431873</td>\n",
       "      <td>Taylor Swift</td>\n",
       "      <td>Look What You Made Me Do</td>\n",
       "    </tr>\n",
       "    <tr>\n",
       "      <th>693</th>\n",
       "      <td>1044022896</td>\n",
       "      <td>432322</td>\n",
       "      <td>Taylor Swift</td>\n",
       "      <td>Delicate</td>\n",
       "    </tr>\n",
       "    <tr>\n",
       "      <th>769</th>\n",
       "      <td>998230194</td>\n",
       "      <td>284991</td>\n",
       "      <td>Taylor Swift</td>\n",
       "      <td>Wildest Dreams</td>\n",
       "    </tr>\n",
       "    <tr>\n",
       "      <th>800</th>\n",
       "      <td>982026959</td>\n",
       "      <td>323081</td>\n",
       "      <td>Taylor Swift</td>\n",
       "      <td>You Need To Calm Down</td>\n",
       "    </tr>\n",
       "    <tr>\n",
       "      <th>889</th>\n",
       "      <td>926824958</td>\n",
       "      <td>287774</td>\n",
       "      <td>Taylor Swift</td>\n",
       "      <td>Love Story</td>\n",
       "    </tr>\n",
       "    <tr>\n",
       "      <th>930</th>\n",
       "      <td>900680667</td>\n",
       "      <td>532712</td>\n",
       "      <td>Taylor Swift</td>\n",
       "      <td>All Too Well (10 Minute Version) (Taylor's Ver...</td>\n",
       "    </tr>\n",
       "    <tr>\n",
       "      <th>942</th>\n",
       "      <td>895109334</td>\n",
       "      <td>425931</td>\n",
       "      <td>Taylor Swift</td>\n",
       "      <td>willow</td>\n",
       "    </tr>\n",
       "    <tr>\n",
       "      <th>970</th>\n",
       "      <td>884543285</td>\n",
       "      <td>182419</td>\n",
       "      <td>Taylor Swift</td>\n",
       "      <td>ME!</td>\n",
       "    </tr>\n",
       "    <tr>\n",
       "      <th>977</th>\n",
       "      <td>878438382</td>\n",
       "      <td>313209</td>\n",
       "      <td>Taylor Swift</td>\n",
       "      <td>I Knew You Were Trouble.</td>\n",
       "    </tr>\n",
       "    <tr>\n",
       "      <th>1041</th>\n",
       "      <td>844849233</td>\n",
       "      <td>338700</td>\n",
       "      <td>Taylor Swift</td>\n",
       "      <td>Enchanted</td>\n",
       "    </tr>\n",
       "    <tr>\n",
       "      <th>1045</th>\n",
       "      <td>843376080</td>\n",
       "      <td>639887</td>\n",
       "      <td>Taylor Swift</td>\n",
       "      <td>Love Story (Taylor’s Version)</td>\n",
       "    </tr>\n",
       "    <tr>\n",
       "      <th>1066</th>\n",
       "      <td>833979894</td>\n",
       "      <td>401398</td>\n",
       "      <td>Taylor Swift</td>\n",
       "      <td>Karma</td>\n",
       "    </tr>\n",
       "    <tr>\n",
       "      <th>1092</th>\n",
       "      <td>822293716</td>\n",
       "      <td>459426</td>\n",
       "      <td>Taylor Swift</td>\n",
       "      <td>The Man</td>\n",
       "    </tr>\n",
       "    <tr>\n",
       "      <th>1135</th>\n",
       "      <td>805750194</td>\n",
       "      <td>471832</td>\n",
       "      <td>Taylor Swift</td>\n",
       "      <td>exile</td>\n",
       "    </tr>\n",
       "    <tr>\n",
       "      <th>1170</th>\n",
       "      <td>790294569</td>\n",
       "      <td>470001</td>\n",
       "      <td>Taylor Swift</td>\n",
       "      <td>...Ready For It?</td>\n",
       "    </tr>\n",
       "    <tr>\n",
       "      <th>1172</th>\n",
       "      <td>789906684</td>\n",
       "      <td>441442</td>\n",
       "      <td>Taylor Swift</td>\n",
       "      <td>Wildest Dreams (Taylor's Version)</td>\n",
       "    </tr>\n",
       "    <tr>\n",
       "      <th>1293</th>\n",
       "      <td>750463859</td>\n",
       "      <td>310522</td>\n",
       "      <td>Taylor Swift</td>\n",
       "      <td>Lavender Haze</td>\n",
       "    </tr>\n",
       "    <tr>\n",
       "      <th>1345</th>\n",
       "      <td>736499138</td>\n",
       "      <td>631359</td>\n",
       "      <td>Taylor Swift</td>\n",
       "      <td>You Belong With Me (Taylor’s Version)</td>\n",
       "    </tr>\n",
       "    <tr>\n",
       "      <th>1447</th>\n",
       "      <td>706640175</td>\n",
       "      <td>327976</td>\n",
       "      <td>Taylor Swift</td>\n",
       "      <td>Getaway Car</td>\n",
       "    </tr>\n",
       "    <tr>\n",
       "      <th>1482</th>\n",
       "      <td>695445222</td>\n",
       "      <td>300292</td>\n",
       "      <td>Taylor Swift</td>\n",
       "      <td>Midnight Rain</td>\n",
       "    </tr>\n",
       "    <tr>\n",
       "      <th>1505</th>\n",
       "      <td>690149690</td>\n",
       "      <td>164303</td>\n",
       "      <td>Taylor Swift</td>\n",
       "      <td>We Are Never Ever Getting Back Together</td>\n",
       "    </tr>\n",
       "    <tr>\n",
       "      <th>1526</th>\n",
       "      <td>684362878</td>\n",
       "      <td>297506</td>\n",
       "      <td>Taylor Swift</td>\n",
       "      <td>Paper Rings</td>\n",
       "    </tr>\n",
       "    <tr>\n",
       "      <th>1580</th>\n",
       "      <td>668330605</td>\n",
       "      <td>203184</td>\n",
       "      <td>Taylor Swift</td>\n",
       "      <td>You Belong With Me</td>\n",
       "    </tr>\n",
       "    <tr>\n",
       "      <th>1637</th>\n",
       "      <td>655421920</td>\n",
       "      <td>382761</td>\n",
       "      <td>Taylor Swift</td>\n",
       "      <td>champagne problems</td>\n",
       "    </tr>\n",
       "    <tr>\n",
       "      <th>1645</th>\n",
       "      <td>653657575</td>\n",
       "      <td>1546641</td>\n",
       "      <td>Taylor Swift</td>\n",
       "      <td>Fortnight</td>\n",
       "    </tr>\n",
       "    <tr>\n",
       "      <th>1745</th>\n",
       "      <td>632224906</td>\n",
       "      <td>406977</td>\n",
       "      <td>Taylor Swift</td>\n",
       "      <td>You're On Your Own, Kid</td>\n",
       "    </tr>\n",
       "    <tr>\n",
       "      <th>1792</th>\n",
       "      <td>625169115</td>\n",
       "      <td>234748</td>\n",
       "      <td>Taylor Swift</td>\n",
       "      <td>Gorgeous</td>\n",
       "    </tr>\n",
       "    <tr>\n",
       "      <th>1797</th>\n",
       "      <td>624598156</td>\n",
       "      <td>189162</td>\n",
       "      <td>Taylor Swift</td>\n",
       "      <td>Bad Blood</td>\n",
       "    </tr>\n",
       "    <tr>\n",
       "      <th>1908</th>\n",
       "      <td>604548696</td>\n",
       "      <td>278262</td>\n",
       "      <td>Taylor Swift</td>\n",
       "      <td>the 1</td>\n",
       "    </tr>\n",
       "    <tr>\n",
       "      <th>2078</th>\n",
       "      <td>574645380</td>\n",
       "      <td>290016</td>\n",
       "      <td>Taylor Swift</td>\n",
       "      <td>Bejeweled</td>\n",
       "    </tr>\n",
       "    <tr>\n",
       "      <th>2212</th>\n",
       "      <td>549282321</td>\n",
       "      <td>609896</td>\n",
       "      <td>Taylor Swift</td>\n",
       "      <td>my tears ricochet</td>\n",
       "    </tr>\n",
       "    <tr>\n",
       "      <th>2370</th>\n",
       "      <td>521313596</td>\n",
       "      <td>173123</td>\n",
       "      <td>Taylor Swift</td>\n",
       "      <td>End Game</td>\n",
       "    </tr>\n",
       "  </tbody>\n",
       "</table>\n",
       "</div>"
      ],
      "text/plain": [
       "         streams    daily        artist  \\\n",
       "39    2481542457  2271270  Taylor Swift   \n",
       "128   1909046390   674338  Taylor Swift   \n",
       "221   1663786298   786091  Taylor Swift   \n",
       "274   1539880718  1035606  Taylor Swift   \n",
       "311   1479530912   604852  Taylor Swift   \n",
       "344   1421155316  1072449  Taylor Swift   \n",
       "445   1275999844   497318  Taylor Swift   \n",
       "462   1243764603  1298139  Taylor Swift   \n",
       "487   1216808688   837279  Taylor Swift   \n",
       "498   1207381259   431873  Taylor Swift   \n",
       "693   1044022896   432322  Taylor Swift   \n",
       "769    998230194   284991  Taylor Swift   \n",
       "800    982026959   323081  Taylor Swift   \n",
       "889    926824958   287774  Taylor Swift   \n",
       "930    900680667   532712  Taylor Swift   \n",
       "942    895109334   425931  Taylor Swift   \n",
       "970    884543285   182419  Taylor Swift   \n",
       "977    878438382   313209  Taylor Swift   \n",
       "1041   844849233   338700  Taylor Swift   \n",
       "1045   843376080   639887  Taylor Swift   \n",
       "1066   833979894   401398  Taylor Swift   \n",
       "1092   822293716   459426  Taylor Swift   \n",
       "1135   805750194   471832  Taylor Swift   \n",
       "1170   790294569   470001  Taylor Swift   \n",
       "1172   789906684   441442  Taylor Swift   \n",
       "1293   750463859   310522  Taylor Swift   \n",
       "1345   736499138   631359  Taylor Swift   \n",
       "1447   706640175   327976  Taylor Swift   \n",
       "1482   695445222   300292  Taylor Swift   \n",
       "1505   690149690   164303  Taylor Swift   \n",
       "1526   684362878   297506  Taylor Swift   \n",
       "1580   668330605   203184  Taylor Swift   \n",
       "1637   655421920   382761  Taylor Swift   \n",
       "1645   653657575  1546641  Taylor Swift   \n",
       "1745   632224906   406977  Taylor Swift   \n",
       "1792   625169115   234748  Taylor Swift   \n",
       "1797   624598156   189162  Taylor Swift   \n",
       "1908   604548696   278262  Taylor Swift   \n",
       "2078   574645380   290016  Taylor Swift   \n",
       "2212   549282321   609896  Taylor Swift   \n",
       "2370   521313596   173123  Taylor Swift   \n",
       "\n",
       "                                                   song  \n",
       "39                                         Cruel Summer  \n",
       "128                                         Blank Space  \n",
       "221                                           Anti-Hero  \n",
       "274                                               Lover  \n",
       "311                                        Shake It Off  \n",
       "344                                            cardigan  \n",
       "445                                               Style  \n",
       "462                                              august  \n",
       "487                                      Don’t Blame Me  \n",
       "498                            Look What You Made Me Do  \n",
       "693                                            Delicate  \n",
       "769                                      Wildest Dreams  \n",
       "800                               You Need To Calm Down  \n",
       "889                                          Love Story  \n",
       "930   All Too Well (10 Minute Version) (Taylor's Ver...  \n",
       "942                                              willow  \n",
       "970                                                 ME!  \n",
       "977                            I Knew You Were Trouble.  \n",
       "1041                                          Enchanted  \n",
       "1045                      Love Story (Taylor’s Version)  \n",
       "1066                                              Karma  \n",
       "1092                                            The Man  \n",
       "1135                                              exile  \n",
       "1170                                   ...Ready For It?  \n",
       "1172                  Wildest Dreams (Taylor's Version)  \n",
       "1293                                      Lavender Haze  \n",
       "1345              You Belong With Me (Taylor’s Version)  \n",
       "1447                                        Getaway Car  \n",
       "1482                                      Midnight Rain  \n",
       "1505            We Are Never Ever Getting Back Together  \n",
       "1526                                        Paper Rings  \n",
       "1580                                 You Belong With Me  \n",
       "1637                                 champagne problems  \n",
       "1645                                          Fortnight  \n",
       "1745                            You're On Your Own, Kid  \n",
       "1792                                           Gorgeous  \n",
       "1797                                          Bad Blood  \n",
       "1908                                              the 1  \n",
       "2078                                          Bejeweled  \n",
       "2212                                  my tears ricochet  \n",
       "2370                                           End Game  "
      ]
     },
     "execution_count": 39,
     "metadata": {},
     "output_type": "execute_result"
    }
   ],
   "source": [
    "data.loc[data['artist'] == 'Taylor Swift']"
   ]
  },
  {
   "cell_type": "code",
   "execution_count": 40,
   "metadata": {},
   "outputs": [
    {
     "data": {
      "text/html": [
       "<div>\n",
       "<style scoped>\n",
       "    .dataframe tbody tr th:only-of-type {\n",
       "        vertical-align: middle;\n",
       "    }\n",
       "\n",
       "    .dataframe tbody tr th {\n",
       "        vertical-align: top;\n",
       "    }\n",
       "\n",
       "    .dataframe thead th {\n",
       "        text-align: right;\n",
       "    }\n",
       "</style>\n",
       "<table border=\"1\" class=\"dataframe\">\n",
       "  <thead>\n",
       "    <tr style=\"text-align: right;\">\n",
       "      <th></th>\n",
       "      <th>streams</th>\n",
       "      <th>daily</th>\n",
       "      <th>song</th>\n",
       "    </tr>\n",
       "    <tr>\n",
       "      <th>artist</th>\n",
       "      <th></th>\n",
       "      <th></th>\n",
       "      <th></th>\n",
       "    </tr>\n",
       "  </thead>\n",
       "  <tbody>\n",
       "    <tr>\n",
       "      <th>$uicideboy$</th>\n",
       "      <td>1907960731</td>\n",
       "      <td>3.128140e+05</td>\n",
       "      <td>3</td>\n",
       "    </tr>\n",
       "    <tr>\n",
       "      <th>*NSYNC</th>\n",
       "      <td>766218771</td>\n",
       "      <td>2.538110e+06</td>\n",
       "      <td>1</td>\n",
       "    </tr>\n",
       "    <tr>\n",
       "      <th>21 Savage</th>\n",
       "      <td>5396315964</td>\n",
       "      <td>4.778884e+05</td>\n",
       "      <td>7</td>\n",
       "    </tr>\n",
       "    <tr>\n",
       "      <th>24kGoldn</th>\n",
       "      <td>1934675271</td>\n",
       "      <td>5.836910e+05</td>\n",
       "      <td>1</td>\n",
       "    </tr>\n",
       "    <tr>\n",
       "      <th>2Pac</th>\n",
       "      <td>3417713717</td>\n",
       "      <td>3.690510e+05</td>\n",
       "      <td>5</td>\n",
       "    </tr>\n",
       "    <tr>\n",
       "      <th>...</th>\n",
       "      <td>...</td>\n",
       "      <td>...</td>\n",
       "      <td>...</td>\n",
       "    </tr>\n",
       "    <tr>\n",
       "      <th>t.A.T.u.</th>\n",
       "      <td>572476768</td>\n",
       "      <td>2.885880e+05</td>\n",
       "      <td>1</td>\n",
       "    </tr>\n",
       "    <tr>\n",
       "      <th>will.i.am</th>\n",
       "      <td>802953468</td>\n",
       "      <td>3.425480e+05</td>\n",
       "      <td>1</td>\n",
       "    </tr>\n",
       "    <tr>\n",
       "      <th>zzoilo</th>\n",
       "      <td>720665392</td>\n",
       "      <td>2.896740e+05</td>\n",
       "      <td>1</td>\n",
       "    </tr>\n",
       "    <tr>\n",
       "      <th>¥$</th>\n",
       "      <td>576568114</td>\n",
       "      <td>8.024370e+05</td>\n",
       "      <td>1</td>\n",
       "    </tr>\n",
       "    <tr>\n",
       "      <th>Øneheart</th>\n",
       "      <td>744371488</td>\n",
       "      <td>8.984080e+05</td>\n",
       "      <td>1</td>\n",
       "    </tr>\n",
       "  </tbody>\n",
       "</table>\n",
       "<p>993 rows × 3 columns</p>\n",
       "</div>"
      ],
      "text/plain": [
       "                streams         daily  song\n",
       "artist                                     \n",
       "$uicideboy$  1907960731  3.128140e+05     3\n",
       "*NSYNC        766218771  2.538110e+06     1\n",
       "21 Savage    5396315964  4.778884e+05     7\n",
       "24kGoldn     1934675271  5.836910e+05     1\n",
       "2Pac         3417713717  3.690510e+05     5\n",
       "...                 ...           ...   ...\n",
       "t.A.T.u.      572476768  2.885880e+05     1\n",
       "will.i.am     802953468  3.425480e+05     1\n",
       "zzoilo        720665392  2.896740e+05     1\n",
       "¥$            576568114  8.024370e+05     1\n",
       "Øneheart      744371488  8.984080e+05     1\n",
       "\n",
       "[993 rows x 3 columns]"
      ]
     },
     "execution_count": 40,
     "metadata": {},
     "output_type": "execute_result"
    }
   ],
   "source": [
    "data.groupby('artist').agg({'streams': 'sum', 'daily': 'mean', 'song': 'count'})"
   ]
  },
  {
   "cell_type": "code",
   "execution_count": 41,
   "metadata": {},
   "outputs": [],
   "source": [
    "ranked_artist = data.groupby('artist').agg({'streams': 'sum', 'daily': 'mean', 'song': 'count'})"
   ]
  },
  {
   "cell_type": "code",
   "execution_count": 42,
   "metadata": {},
   "outputs": [],
   "source": [
    "ranked_artist.to_csv('ranked_artist.csv')"
   ]
  },
  {
   "cell_type": "markdown",
   "metadata": {},
   "source": [
    "## practice 3"
   ]
  },
  {
   "cell_type": "code",
   "execution_count": 43,
   "metadata": {},
   "outputs": [],
   "source": [
    "a = [2,65,3,42,2,65,1,2,3,7]"
   ]
  },
  {
   "cell_type": "code",
   "execution_count": 44,
   "metadata": {},
   "outputs": [
    {
     "data": {
      "text/plain": [
       "1"
      ]
     },
     "execution_count": 44,
     "metadata": {},
     "output_type": "execute_result"
    }
   ],
   "source": [
    "min(a)"
   ]
  },
  {
   "cell_type": "code",
   "execution_count": 45,
   "metadata": {},
   "outputs": [
    {
     "data": {
      "text/plain": [
       "65"
      ]
     },
     "execution_count": 45,
     "metadata": {},
     "output_type": "execute_result"
    }
   ],
   "source": [
    "max(a)"
   ]
  },
  {
   "cell_type": "code",
   "execution_count": 46,
   "metadata": {},
   "outputs": [
    {
     "data": {
      "text/plain": [
       "19.2"
      ]
     },
     "execution_count": 46,
     "metadata": {},
     "output_type": "execute_result"
    }
   ],
   "source": [
    "np.mean(a)"
   ]
  },
  {
   "cell_type": "code",
   "execution_count": 47,
   "metadata": {},
   "outputs": [
    {
     "data": {
      "text/plain": [
       "18"
      ]
     },
     "execution_count": 47,
     "metadata": {},
     "output_type": "execute_result"
    }
   ],
   "source": [
    "abs(-18)"
   ]
  },
  {
   "cell_type": "code",
   "execution_count": 48,
   "metadata": {},
   "outputs": [
    {
     "data": {
      "text/plain": [
       "2.0"
      ]
     },
     "execution_count": 48,
     "metadata": {},
     "output_type": "execute_result"
    }
   ],
   "source": [
    "4/2"
   ]
  },
  {
   "cell_type": "code",
   "execution_count": 49,
   "metadata": {},
   "outputs": [
    {
     "data": {
      "text/plain": [
       "2"
      ]
     },
     "execution_count": 49,
     "metadata": {},
     "output_type": "execute_result"
    }
   ],
   "source": [
    "4//2"
   ]
  },
  {
   "cell_type": "code",
   "execution_count": 50,
   "metadata": {},
   "outputs": [
    {
     "data": {
      "text/plain": [
       "1"
      ]
     },
     "execution_count": 50,
     "metadata": {},
     "output_type": "execute_result"
    }
   ],
   "source": [
    "5%2 # gives back the reminder of the division"
   ]
  },
  {
   "cell_type": "markdown",
   "metadata": {},
   "source": [
    "### math package"
   ]
  },
  {
   "cell_type": "code",
   "execution_count": 51,
   "metadata": {},
   "outputs": [],
   "source": [
    "import math"
   ]
  },
  {
   "cell_type": "code",
   "execution_count": 52,
   "metadata": {},
   "outputs": [
    {
     "data": {
      "text/plain": [
       "3"
      ]
     },
     "execution_count": 52,
     "metadata": {},
     "output_type": "execute_result"
    }
   ],
   "source": [
    "math.ceil(2.6)"
   ]
  },
  {
   "cell_type": "code",
   "execution_count": 53,
   "metadata": {},
   "outputs": [
    {
     "data": {
      "text/plain": [
       "3"
      ]
     },
     "execution_count": 53,
     "metadata": {},
     "output_type": "execute_result"
    }
   ],
   "source": [
    "round(2.6)"
   ]
  },
  {
   "cell_type": "code",
   "execution_count": 54,
   "metadata": {},
   "outputs": [
    {
     "data": {
      "text/plain": [
       "0.6931471805599453"
      ]
     },
     "execution_count": 54,
     "metadata": {},
     "output_type": "execute_result"
    }
   ],
   "source": [
    "math.log(2)"
   ]
  },
  {
   "cell_type": "code",
   "execution_count": 55,
   "metadata": {},
   "outputs": [
    {
     "data": {
      "text/plain": [
       "0.3010299956639812"
      ]
     },
     "execution_count": 55,
     "metadata": {},
     "output_type": "execute_result"
    }
   ],
   "source": [
    "math.log10(2)"
   ]
  },
  {
   "cell_type": "code",
   "execution_count": 56,
   "metadata": {},
   "outputs": [
    {
     "data": {
      "text/plain": [
       "1.0"
      ]
     },
     "execution_count": 56,
     "metadata": {},
     "output_type": "execute_result"
    }
   ],
   "source": [
    "math.log2(2)"
   ]
  },
  {
   "cell_type": "markdown",
   "metadata": {},
   "source": [
    "### numpy package"
   ]
  },
  {
   "cell_type": "code",
   "execution_count": 57,
   "metadata": {},
   "outputs": [],
   "source": [
    "a = np.array([2,65,3,42,2,65,1,2,3,7])"
   ]
  },
  {
   "cell_type": "code",
   "execution_count": 58,
   "metadata": {},
   "outputs": [
    {
     "data": {
      "text/plain": [
       "numpy.ndarray"
      ]
     },
     "execution_count": 58,
     "metadata": {},
     "output_type": "execute_result"
    }
   ],
   "source": [
    "type(a)"
   ]
  },
  {
   "cell_type": "code",
   "execution_count": 59,
   "metadata": {},
   "outputs": [
    {
     "data": {
      "text/plain": [
       "1"
      ]
     },
     "execution_count": 59,
     "metadata": {},
     "output_type": "execute_result"
    }
   ],
   "source": [
    "a.ndim"
   ]
  },
  {
   "cell_type": "code",
   "execution_count": 60,
   "metadata": {},
   "outputs": [
    {
     "data": {
      "text/plain": [
       "dtype('int32')"
      ]
     },
     "execution_count": 60,
     "metadata": {},
     "output_type": "execute_result"
    }
   ],
   "source": [
    "a.dtype"
   ]
  },
  {
   "cell_type": "code",
   "execution_count": 61,
   "metadata": {},
   "outputs": [],
   "source": [
    "A = np.array(([1,2,3], [4,5,6]))"
   ]
  },
  {
   "cell_type": "code",
   "execution_count": 62,
   "metadata": {},
   "outputs": [
    {
     "data": {
      "text/plain": [
       "array([[1, 2, 3],\n",
       "       [4, 5, 6]])"
      ]
     },
     "execution_count": 62,
     "metadata": {},
     "output_type": "execute_result"
    }
   ],
   "source": [
    "A"
   ]
  },
  {
   "cell_type": "code",
   "execution_count": 63,
   "metadata": {},
   "outputs": [
    {
     "data": {
      "text/plain": [
       "2"
      ]
     },
     "execution_count": 63,
     "metadata": {},
     "output_type": "execute_result"
    }
   ],
   "source": [
    "np.ndim(A)"
   ]
  },
  {
   "cell_type": "code",
   "execution_count": 64,
   "metadata": {},
   "outputs": [],
   "source": [
    "B = np.array(([1,2,3], [4,5,6], [7,8,9]))"
   ]
  },
  {
   "cell_type": "code",
   "execution_count": 65,
   "metadata": {},
   "outputs": [
    {
     "data": {
      "text/plain": [
       "array([[1, 2, 3],\n",
       "       [4, 5, 6],\n",
       "       [7, 8, 9]])"
      ]
     },
     "execution_count": 65,
     "metadata": {},
     "output_type": "execute_result"
    }
   ],
   "source": [
    "B"
   ]
  },
  {
   "cell_type": "code",
   "execution_count": 66,
   "metadata": {},
   "outputs": [
    {
     "data": {
      "text/plain": [
       "2"
      ]
     },
     "execution_count": 66,
     "metadata": {},
     "output_type": "execute_result"
    }
   ],
   "source": [
    "np.ndim(B)"
   ]
  },
  {
   "cell_type": "code",
   "execution_count": 67,
   "metadata": {},
   "outputs": [
    {
     "data": {
      "text/plain": [
       "(2, 3)"
      ]
     },
     "execution_count": 67,
     "metadata": {},
     "output_type": "execute_result"
    }
   ],
   "source": [
    "A.shape"
   ]
  },
  {
   "cell_type": "code",
   "execution_count": 68,
   "metadata": {},
   "outputs": [
    {
     "data": {
      "text/plain": [
       "(3, 3)"
      ]
     },
     "execution_count": 68,
     "metadata": {},
     "output_type": "execute_result"
    }
   ],
   "source": [
    "B.shape"
   ]
  },
  {
   "cell_type": "code",
   "execution_count": 69,
   "metadata": {},
   "outputs": [
    {
     "data": {
      "text/plain": [
       "array([0, 1, 2, 3, 4, 5, 6, 7, 8, 9])"
      ]
     },
     "execution_count": 69,
     "metadata": {},
     "output_type": "execute_result"
    }
   ],
   "source": [
    "np.arange(0, 10) # we get back a numpy array"
   ]
  },
  {
   "cell_type": "code",
   "execution_count": 70,
   "metadata": {},
   "outputs": [
    {
     "data": {
      "text/plain": [
       "array([0., 0., 0., 0., 0.])"
      ]
     },
     "execution_count": 70,
     "metadata": {},
     "output_type": "execute_result"
    }
   ],
   "source": [
    "np.zeros(5)"
   ]
  },
  {
   "cell_type": "code",
   "execution_count": 71,
   "metadata": {},
   "outputs": [
    {
     "data": {
      "text/plain": [
       "array([1., 1., 1., 1., 1.])"
      ]
     },
     "execution_count": 71,
     "metadata": {},
     "output_type": "execute_result"
    }
   ],
   "source": [
    "np.ones(5)"
   ]
  },
  {
   "cell_type": "code",
   "execution_count": 72,
   "metadata": {},
   "outputs": [
    {
     "data": {
      "text/plain": [
       "array([[0., 0., 0., 0., 0.],\n",
       "       [0., 0., 0., 0., 0.],\n",
       "       [0., 0., 0., 0., 0.],\n",
       "       [0., 0., 0., 0., 0.]])"
      ]
     },
     "execution_count": 72,
     "metadata": {},
     "output_type": "execute_result"
    }
   ],
   "source": [
    "np.zeros((4,5))"
   ]
  },
  {
   "cell_type": "code",
   "execution_count": 73,
   "metadata": {},
   "outputs": [
    {
     "data": {
      "text/plain": [
       "array([[0., 0., 0., 0., 0.],\n",
       "       [0., 0., 0., 0., 0.],\n",
       "       [0., 0., 0., 0., 0.],\n",
       "       [0., 0., 0., 0., 0.]])"
      ]
     },
     "execution_count": 73,
     "metadata": {},
     "output_type": "execute_result"
    }
   ],
   "source": [
    "np.empty((4,5))"
   ]
  },
  {
   "cell_type": "code",
   "execution_count": 74,
   "metadata": {},
   "outputs": [
    {
     "data": {
      "text/plain": [
       "3"
      ]
     },
     "execution_count": 74,
     "metadata": {},
     "output_type": "execute_result"
    }
   ],
   "source": [
    "np.random.choice([1,2,3,4,5,6,7,8,9], replace=False)"
   ]
  },
  {
   "cell_type": "code",
   "execution_count": 75,
   "metadata": {},
   "outputs": [
    {
     "data": {
      "text/plain": [
       "array([ 0.51569727, -0.38065602,  0.50750914,  0.34986652, -0.56592731,\n",
       "       -0.32511058, -1.36347179,  0.57406815,  0.09665855,  0.34223378])"
      ]
     },
     "execution_count": 75,
     "metadata": {},
     "output_type": "execute_result"
    }
   ],
   "source": [
    "np.random.normal(0, 1, 10)"
   ]
  },
  {
   "cell_type": "code",
   "execution_count": 76,
   "metadata": {},
   "outputs": [
    {
     "data": {
      "text/plain": [
       "75"
      ]
     },
     "execution_count": 76,
     "metadata": {},
     "output_type": "execute_result"
    }
   ],
   "source": [
    "np.random.randint(1, 100)"
   ]
  },
  {
   "cell_type": "code",
   "execution_count": 77,
   "metadata": {},
   "outputs": [],
   "source": [
    "np.random.seed(42) # the sequence of values we get will be always the same"
   ]
  },
  {
   "cell_type": "code",
   "execution_count": 78,
   "metadata": {},
   "outputs": [
    {
     "data": {
      "text/plain": [
       "array([[1, 4],\n",
       "       [2, 5],\n",
       "       [3, 6]])"
      ]
     },
     "execution_count": 78,
     "metadata": {},
     "output_type": "execute_result"
    }
   ],
   "source": [
    "A.T # transpose"
   ]
  },
  {
   "cell_type": "code",
   "execution_count": 79,
   "metadata": {},
   "outputs": [
    {
     "data": {
      "text/plain": [
       "array([[1, 2, 3],\n",
       "       [4, 5, 6]])"
      ]
     },
     "execution_count": 79,
     "metadata": {},
     "output_type": "execute_result"
    }
   ],
   "source": [
    "A.reshape((2,3))"
   ]
  },
  {
   "cell_type": "code",
   "execution_count": 80,
   "metadata": {},
   "outputs": [
    {
     "data": {
      "text/plain": [
       "array([[1, 2, 3],\n",
       "       [4, 5, 6],\n",
       "       [7, 8, 9]])"
      ]
     },
     "execution_count": 80,
     "metadata": {},
     "output_type": "execute_result"
    }
   ],
   "source": [
    "B"
   ]
  },
  {
   "cell_type": "markdown",
   "metadata": {},
   "source": [
    "## practise 4"
   ]
  },
  {
   "cell_type": "code",
   "execution_count": 1,
   "metadata": {},
   "outputs": [],
   "source": [
    "import matplotlib.pyplot as plt\n",
    "\n",
    "%matplotlib inline"
   ]
  },
  {
   "cell_type": "code",
   "execution_count": 2,
   "metadata": {},
   "outputs": [],
   "source": [
    "x = [1, 2, 3]\n",
    "y = [4, 7, 11]"
   ]
  },
  {
   "cell_type": "code",
   "execution_count": 4,
   "metadata": {},
   "outputs": [
    {
     "data": {
      "image/png": "[encoded data removed]",
      "text/plain": [
       "<Figure size 640x480 with 1 Axes>"
      ]
     },
     "metadata": {},
     "output_type": "display_data"
    }
   ],
   "source": [
    "plt.plot(x, y)\n",
    "plt.show()"
   ]
  },
  {
   "cell_type": "code",
   "execution_count": 5,
   "metadata": {},
   "outputs": [
    {
     "data": {
      "image/png": "[encoded data removed]",
      "text/plain": [
       "<Figure size 640x480 with 1 Axes>"
      ]
     },
     "metadata": {},
     "output_type": "display_data"
    }
   ],
   "source": [
    "figure, axes = plt.subplots() # axes\n",
    "axes.plot(x, y)\n",
    "axes.set_xlabel(\"X Axis\") # axis\n",
    "axes.set_ylabel(\"Y Axis\")\n",
    "axes.set_title(\"Plot Title\")\n",
    "plt.show()"
   ]
  },
  {
   "cell_type": "code",
   "execution_count": 19,
   "metadata": {},
   "outputs": [],
   "source": [
    "from sklearn.datasets import load_iris"
   ]
  },
  {
   "cell_type": "code",
   "execution_count": 7,
   "metadata": {},
   "outputs": [],
   "source": [
    "iris = load_iris()"
   ]
  },
  {
   "cell_type": "code",
   "execution_count": 8,
   "metadata": {},
   "outputs": [
    {
     "data": {
      "text/html": [
       "<div>\n",
       "<style scoped>\n",
       "    .dataframe tbody tr th:only-of-type {\n",
       "        vertical-align: middle;\n",
       "    }\n",
       "\n",
       "    .dataframe tbody tr th {\n",
       "        vertical-align: top;\n",
       "    }\n",
       "\n",
       "    .dataframe thead th {\n",
       "        text-align: right;\n",
       "    }\n",
       "</style>\n",
       "<table border=\"1\" class=\"dataframe\">\n",
       "  <thead>\n",
       "    <tr style=\"text-align: right;\">\n",
       "      <th></th>\n",
       "      <th>sepal length (cm)</th>\n",
       "      <th>sepal width (cm)</th>\n",
       "      <th>petal length (cm)</th>\n",
       "      <th>petal width (cm)</th>\n",
       "    </tr>\n",
       "  </thead>\n",
       "  <tbody>\n",
       "    <tr>\n",
       "      <th>0</th>\n",
       "      <td>5.1</td>\n",
       "      <td>3.5</td>\n",
       "      <td>1.4</td>\n",
       "      <td>0.2</td>\n",
       "    </tr>\n",
       "    <tr>\n",
       "      <th>1</th>\n",
       "      <td>4.9</td>\n",
       "      <td>3.0</td>\n",
       "      <td>1.4</td>\n",
       "      <td>0.2</td>\n",
       "    </tr>\n",
       "    <tr>\n",
       "      <th>2</th>\n",
       "      <td>4.7</td>\n",
       "      <td>3.2</td>\n",
       "      <td>1.3</td>\n",
       "      <td>0.2</td>\n",
       "    </tr>\n",
       "    <tr>\n",
       "      <th>3</th>\n",
       "      <td>4.6</td>\n",
       "      <td>3.1</td>\n",
       "      <td>1.5</td>\n",
       "      <td>0.2</td>\n",
       "    </tr>\n",
       "    <tr>\n",
       "      <th>4</th>\n",
       "      <td>5.0</td>\n",
       "      <td>3.6</td>\n",
       "      <td>1.4</td>\n",
       "      <td>0.2</td>\n",
       "    </tr>\n",
       "  </tbody>\n",
       "</table>\n",
       "</div>"
      ],
      "text/plain": [
       "   sepal length (cm)  sepal width (cm)  petal length (cm)  petal width (cm)\n",
       "0                5.1               3.5                1.4               0.2\n",
       "1                4.9               3.0                1.4               0.2\n",
       "2                4.7               3.2                1.3               0.2\n",
       "3                4.6               3.1                1.5               0.2\n",
       "4                5.0               3.6                1.4               0.2"
      ]
     },
     "execution_count": 8,
     "metadata": {},
     "output_type": "execute_result"
    }
   ],
   "source": [
    "data = pd.DataFrame(iris[\"data\"], columns=iris[\"feature_names\"])\n",
    "data.head()"
   ]
  },
  {
   "cell_type": "code",
   "execution_count": 16,
   "metadata": {},
   "outputs": [
    {
     "data": {
      "image/png": "[encoded data removed]",
      "text/plain": [
       "<Figure size 3600x1500 with 2 Axes>"
      ]
     },
     "metadata": {},
     "output_type": "display_data"
    }
   ],
   "source": [
    "fig, ax = plt.subplots(1, 2, figsize=(12, 5), dpi=300)\n",
    "\n",
    "ax[0].scatter(data[\"sepal length (cm)\"], data[\"sepal width (cm)\"])\n",
    "ax[0].set_xlabel(\"sepal length\")\n",
    "ax[0].set_ylabel(\"sepal width\")\n",
    "\n",
    "ax[1].scatter(data[\"petal length (cm)\"], data[\"petal width (cm)\"])\n",
    "ax[1].set_xlabel(\"petal length\")\n",
    "ax[1].set_ylabel(\"petal width\")\n",
    "\n",
    "plt.show()"
   ]
  },
  {
   "cell_type": "code",
   "execution_count": 17,
   "metadata": {},
   "outputs": [
    {
     "data": {
      "image/png": "[encoded data removed]",
      "text/plain": [
       "<Figure size 1000x300 with 3 Axes>"
      ]
     },
     "metadata": {},
     "output_type": "display_data"
    }
   ],
   "source": [
    "fig, ax = plt.subplots(1, 3, figsize=(10, 3))\n",
    "ax[0].plot(x, y)\n",
    "ax[1].plot(x, y, color=\"#ff0000\", marker=\"s\", linewidth=0.5)\n",
    "ax[2].plot(x, y, \"ro-.\")\n",
    "plt.show()"
   ]
  },
  {
   "cell_type": "code",
   "execution_count": 18,
   "metadata": {},
   "outputs": [
    {
     "data": {
      "image/png": "[encoded data removed]",
      "text/plain": [
       "<Figure size 640x480 with 1 Axes>"
      ]
     },
     "metadata": {},
     "output_type": "display_data"
    }
   ],
   "source": [
    "fig, ax = plt.subplots()\n",
    "\n",
    "ax.scatter(data[\"sepal length (cm)\"], data[\"sepal width (cm)\"], alpha=0.2)\n",
    "#ax.set(xlim=(0, 10), xticks=np.arange(0, 10, 0.5), ylim=(1, 5), yticks=np.arange(1, 5, 0.5))\n",
    "\n",
    "plt.show()"
   ]
  },
  {
   "cell_type": "code",
   "execution_count": 20,
   "metadata": {},
   "outputs": [
    {
     "data": {
      "text/plain": [
       "array(['setosa', 'versicolor', 'virginica'], dtype='<U10')"
      ]
     },
     "execution_count": 20,
     "metadata": {},
     "output_type": "execute_result"
    }
   ],
   "source": [
    "iris[\"target_names\"]"
   ]
  },
  {
   "cell_type": "code",
   "execution_count": 22,
   "metadata": {},
   "outputs": [
    {
     "data": {
      "text/plain": [
       "array([0, 0, 0, 0, 0, 0, 0, 0, 0, 0, 0, 0, 0, 0, 0, 0, 0, 0, 0, 0, 0, 0,\n",
       "       0, 0, 0, 0, 0, 0, 0, 0, 0, 0, 0, 0, 0, 0, 0, 0, 0, 0, 0, 0, 0, 0,\n",
       "       0, 0, 0, 0, 0, 0, 1, 1, 1, 1, 1, 1, 1, 1, 1, 1, 1, 1, 1, 1, 1, 1,\n",
       "       1, 1, 1, 1, 1, 1, 1, 1, 1, 1, 1, 1, 1, 1, 1, 1, 1, 1, 1, 1, 1, 1,\n",
       "       1, 1, 1, 1, 1, 1, 1, 1, 1, 1, 1, 1, 2, 2, 2, 2, 2, 2, 2, 2, 2, 2,\n",
       "       2, 2, 2, 2, 2, 2, 2, 2, 2, 2, 2, 2, 2, 2, 2, 2, 2, 2, 2, 2, 2, 2,\n",
       "       2, 2, 2, 2, 2, 2, 2, 2, 2, 2, 2, 2, 2, 2, 2, 2, 2, 2])"
      ]
     },
     "execution_count": 22,
     "metadata": {},
     "output_type": "execute_result"
    }
   ],
   "source": [
    "iris[\"target\"]"
   ]
  },
  {
   "cell_type": "code",
   "execution_count": 21,
   "metadata": {},
   "outputs": [
    {
     "data": {
      "text/html": [
       "<div>\n",
       "<style scoped>\n",
       "    .dataframe tbody tr th:only-of-type {\n",
       "        vertical-align: middle;\n",
       "    }\n",
       "\n",
       "    .dataframe tbody tr th {\n",
       "        vertical-align: top;\n",
       "    }\n",
       "\n",
       "    .dataframe thead th {\n",
       "        text-align: right;\n",
       "    }\n",
       "</style>\n",
       "<table border=\"1\" class=\"dataframe\">\n",
       "  <thead>\n",
       "    <tr style=\"text-align: right;\">\n",
       "      <th></th>\n",
       "      <th>sepal length (cm)</th>\n",
       "      <th>sepal width (cm)</th>\n",
       "      <th>petal length (cm)</th>\n",
       "      <th>petal width (cm)</th>\n",
       "      <th>target</th>\n",
       "    </tr>\n",
       "  </thead>\n",
       "  <tbody>\n",
       "    <tr>\n",
       "      <th>0</th>\n",
       "      <td>5.1</td>\n",
       "      <td>3.5</td>\n",
       "      <td>1.4</td>\n",
       "      <td>0.2</td>\n",
       "      <td>0</td>\n",
       "    </tr>\n",
       "    <tr>\n",
       "      <th>1</th>\n",
       "      <td>4.9</td>\n",
       "      <td>3.0</td>\n",
       "      <td>1.4</td>\n",
       "      <td>0.2</td>\n",
       "      <td>0</td>\n",
       "    </tr>\n",
       "    <tr>\n",
       "      <th>2</th>\n",
       "      <td>4.7</td>\n",
       "      <td>3.2</td>\n",
       "      <td>1.3</td>\n",
       "      <td>0.2</td>\n",
       "      <td>0</td>\n",
       "    </tr>\n",
       "    <tr>\n",
       "      <th>3</th>\n",
       "      <td>4.6</td>\n",
       "      <td>3.1</td>\n",
       "      <td>1.5</td>\n",
       "      <td>0.2</td>\n",
       "      <td>0</td>\n",
       "    </tr>\n",
       "    <tr>\n",
       "      <th>4</th>\n",
       "      <td>5.0</td>\n",
       "      <td>3.6</td>\n",
       "      <td>1.4</td>\n",
       "      <td>0.2</td>\n",
       "      <td>0</td>\n",
       "    </tr>\n",
       "  </tbody>\n",
       "</table>\n",
       "</div>"
      ],
      "text/plain": [
       "   sepal length (cm)  sepal width (cm)  petal length (cm)  petal width (cm)  \\\n",
       "0                5.1               3.5                1.4               0.2   \n",
       "1                4.9               3.0                1.4               0.2   \n",
       "2                4.7               3.2                1.3               0.2   \n",
       "3                4.6               3.1                1.5               0.2   \n",
       "4                5.0               3.6                1.4               0.2   \n",
       "\n",
       "   target  \n",
       "0       0  \n",
       "1       0  \n",
       "2       0  \n",
       "3       0  \n",
       "4       0  "
      ]
     },
     "execution_count": 21,
     "metadata": {},
     "output_type": "execute_result"
    }
   ],
   "source": [
    "data[\"target\"] = iris[\"target\"]\n",
    "data.head()"
   ]
  },
  {
   "cell_type": "code",
   "execution_count": 23,
   "metadata": {},
   "outputs": [],
   "source": [
    "avg_sepal_length = data.groupby(\"target\").agg({\"sepal length (cm)\": \"mean\"})[\"sepal length (cm)\"].values"
   ]
  },
  {
   "cell_type": "code",
   "execution_count": 24,
   "metadata": {},
   "outputs": [
    {
     "data": {
      "image/png": "[encoded data removed]",
      "text/plain": [
       "<Figure size 640x480 with 1 Axes>"
      ]
     },
     "metadata": {},
     "output_type": "display_data"
    }
   ],
   "source": [
    "fig, ax = plt.subplots()\n",
    "ax.bar(iris[\"target_names\"], height=avg_sepal_length, width=0.9)\n",
    "plt.show()"
   ]
  },
  {
   "cell_type": "code",
   "execution_count": 25,
   "metadata": {},
   "outputs": [
    {
     "data": {
      "image/png": "[encoded data removed]",
      "text/plain": [
       "<Figure size 640x480 with 1 Axes>"
      ]
     },
     "metadata": {},
     "output_type": "display_data"
    }
   ],
   "source": [
    "fig, ax = plt.subplots()\n",
    "ax.barh(iris[\"target_names\"], width=avg_sepal_length, color=[\"red\", \"green\", \"blue\"], height=0.5)\n",
    "plt.show()"
   ]
  },
  {
   "cell_type": "code",
   "execution_count": 26,
   "metadata": {},
   "outputs": [
    {
     "data": {
      "image/png": "[encoded data removed]",
      "text/plain": [
       "<Figure size 640x480 with 1 Axes>"
      ]
     },
     "metadata": {},
     "output_type": "display_data"
    }
   ],
   "source": [
    "fig, ax = plt.subplots()\n",
    "ax.hist(data[\"sepal length (cm)\"], bins=30)\n",
    "# ax.grid()\n",
    "plt.show()"
   ]
  },
  {
   "cell_type": "code",
   "execution_count": 27,
   "metadata": {},
   "outputs": [
    {
     "data": {
      "image/png": "[encoded data removed]",
      "text/plain": [
       "<Figure size 640x480 with 1 Axes>"
      ]
     },
     "metadata": {},
     "output_type": "display_data"
    }
   ],
   "source": [
    "data.boxplot(\"sepal length (cm)\", \"target\")\n",
    "plt.show()"
   ]
  },
  {
   "cell_type": "code",
   "execution_count": 28,
   "metadata": {},
   "outputs": [
    {
     "data": {
      "image/png": "[encoded data removed]",
      "text/plain": [
       "<Figure size 640x480 with 1 Axes>"
      ]
     },
     "metadata": {},
     "output_type": "display_data"
    }
   ],
   "source": [
    "plt.style.use(\"ggplot\")\n",
    "fig, ax = plt.subplots()\n",
    "ax.hist(data[\"sepal length (cm)\"], bins=30)\n",
    "# ax.grid()\n",
    "plt.show()"
   ]
  }
 ],
 "metadata": {
  "kernelspec": {
   "display_name": "Python 3",
   "language": "python",
   "name": "python3"
  },
  "language_info": {
   "codemirror_mode": {
    "name": "ipython",
    "version": 3
   },
   "file_extension": ".py",
   "mimetype": "text/x-python",
   "name": "python",
   "nbconvert_exporter": "python",
   "pygments_lexer": "ipython3",
   "version": "3.12.1"
  }
 },
 "nbformat": 4,
 "nbformat_minor": 2
}
