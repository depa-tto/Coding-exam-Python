{
 "cells": [
  {
   "cell_type": "markdown",
   "metadata": {},
   "source": [
    "# Dse Python course"
   ]
  },
  {
   "cell_type": "markdown",
   "metadata": {},
   "source": [
    "### lesson 1"
   ]
  },
  {
   "cell_type": "code",
   "execution_count": 10,
   "metadata": {},
   "outputs": [],
   "source": [
    "import sys # type: ignore\n",
    "import math # type: ignore\n",
    "import datetime # type: ignore\n",
    "import pandas as pd # type: ignore\n",
    "import numpy as np # type: ignore\n",
    "import csv # type: ignore"
   ]
  },
  {
   "cell_type": "markdown",
   "metadata": {},
   "source": [
    "#### return the result of an exam according to the result of three molues"
   ]
  },
  {
   "cell_type": "code",
   "execution_count": 5,
   "metadata": {},
   "outputs": [],
   "source": [
    "m1_grade = 18\n",
    "m2_grade = 20\n",
    "m3_grande = 30"
   ]
  },
  {
   "cell_type": "code",
   "execution_count": 6,
   "metadata": {},
   "outputs": [
    {
     "name": "stdout",
     "output_type": "stream",
     "text": [
      "exam passed\n",
      "22.666666666666668\n"
     ]
    }
   ],
   "source": [
    "grade = (m1_grade + m2_grade + m3_grande)/3\n",
    "\n",
    "if grade >= 18:\n",
    "    print('exam passed')\n",
    "else:\n",
    "    print('exam failed')\n",
    "\n",
    "print(grade)"
   ]
  },
  {
   "cell_type": "code",
   "execution_count": 7,
   "metadata": {},
   "outputs": [
    {
     "name": "stdout",
     "output_type": "stream",
     "text": [
      "exam passed\n",
      "24.5\n"
     ]
    }
   ],
   "source": [
    "# consider that moduled can be weighted\n",
    "\n",
    "m1_weigth = 0.5\n",
    "m2_weigth = 0.5\n",
    "m3_weigth = 1\n",
    "\n",
    "grade = (m1_grade*m1_weigth + m2_grade*m2_weigth + m3_grande*m3_weigth)/(m1_weigth + m2_weigth + m3_weigth)\n",
    "\n",
    "if grade >= 18:\n",
    "    print('exam passed')\n",
    "else:\n",
    "    print('exam failed')\n",
    "\n",
    "print(grade)"
   ]
  },
  {
   "cell_type": "code",
   "execution_count": 8,
   "metadata": {},
   "outputs": [
    {
     "name": "stdout",
     "output_type": "stream",
     "text": [
      "24.5\n"
     ]
    }
   ],
   "source": [
    "# consider to manage courses with a dynamic number of modules\n",
    "\n",
    "grades = [18, 20, 30] # list\n",
    "weights = [0.25, 0.25, 0.5]\n",
    "\n",
    "# iterate over the grades and the weights lists\n",
    "\n",
    "sum_values = 0 # used just to store step by step the results\n",
    "for i, num in enumerate(grades): # enumerate consider each element of the list one by one\n",
    "    sum_values += num * weights[i] # same syntax as : sum_values = sum_values + num*weights[i]\n",
    "    \n",
    "grade = sum_values/sum(weights)\n",
    "\n",
    "print(grade)\n"
   ]
  },
  {
   "cell_type": "markdown",
   "metadata": {},
   "source": [
    "#### enumerate function"
   ]
  },
  {
   "cell_type": "code",
   "execution_count": 9,
   "metadata": {},
   "outputs": [
    {
     "name": "stdout",
     "output_type": "stream",
     "text": [
      "Return type: <class 'enumerate'>\n",
      "[(0, 'eat'), (1, 'sleep'), (2, 'repeat')]\n",
      "[(0, 'g'), (1, 'e'), (2, 'e'), (3, 'k')]\n",
      "[(2, 'g'), (3, 'e'), (4, 'e'), (5, 'k')]\n"
     ]
    }
   ],
   "source": [
    "l1 = [\"eat\", \"sleep\", \"repeat\"]\n",
    "s1 = \"geek\"\n",
    "\n",
    "# creating enumerate objects\n",
    "obj1 = enumerate(l1)\n",
    "obj2 = enumerate(s1)\n",
    "\n",
    "print(\"Return type:\", type(obj1))\n",
    "print(list(enumerate(l1)))\n",
    "\n",
    "print(list(enumerate(s1)))\n",
    "\n",
    "# changing start index to 2 from 0\n",
    "print(list(enumerate(s1, 2)))"
   ]
  },
  {
   "cell_type": "code",
   "execution_count": 10,
   "metadata": {},
   "outputs": [
    {
     "name": "stdout",
     "output_type": "stream",
     "text": [
      "(0, 'eat')\n",
      "(1, 'sleep')\n",
      "(2, 'repeat')\n",
      "100 eat\n",
      "101 sleep\n",
      "102 repeat\n",
      "0\n",
      "eat\n",
      "1\n",
      "sleep\n",
      "2\n",
      "repeat\n"
     ]
    }
   ],
   "source": [
    "l1 = [\"eat\", \"sleep\", \"repeat\"]\n",
    "\n",
    "# printing the tuples in object directly\n",
    "for ele in enumerate(l1):\n",
    "    print(ele)\n",
    "\n",
    "# changing index and printing separately\n",
    "for count, ele in enumerate(l1, 100):\n",
    "    print(count, ele)\n",
    "\n",
    "# getting desired output from tuple\n",
    "for count, ele in enumerate(l1):\n",
    "    print(count)\n",
    "    print(ele)\n"
   ]
  },
  {
   "cell_type": "markdown",
   "metadata": {},
   "source": [
    "### lesson 2"
   ]
  },
  {
   "cell_type": "markdown",
   "metadata": {},
   "source": [
    "#### zip function"
   ]
  },
  {
   "cell_type": "code",
   "execution_count": 11,
   "metadata": {},
   "outputs": [
    {
     "data": {
      "text/plain": [
       "24.5"
      ]
     },
     "execution_count": 11,
     "metadata": {},
     "output_type": "execute_result"
    }
   ],
   "source": [
    "# zip function: zip() function takes iterables (can be zero or more), aggregates them in a tuple, and returns it.\n",
    "\n",
    "grades = [18, 20, 30]\n",
    "weights = [0.25, 0.25, 0.5]\n",
    "\n",
    "sum_modules = 0\n",
    "sum_modules = sum([a*b for a,b in zip(grades, weights)])\n",
    "sum_modules"
   ]
  },
  {
   "cell_type": "code",
   "execution_count": 12,
   "metadata": {},
   "outputs": [
    {
     "name": "stdout",
     "output_type": "stream",
     "text": [
      "[('Java', 14), ('Python', 3), ('JavaScript', 6)]\n"
     ]
    }
   ],
   "source": [
    "languages = ['Java', 'Python', 'JavaScript']\n",
    "versions = [14, 3, 6]\n",
    "\n",
    "result = zip(languages, versions)\n",
    "print(list(result))"
   ]
  },
  {
   "cell_type": "markdown",
   "metadata": {},
   "source": [
    "#### string manipulation"
   ]
  },
  {
   "cell_type": "code",
   "execution_count": 13,
   "metadata": {},
   "outputs": [],
   "source": [
    "s = 'testoLungo'"
   ]
  },
  {
   "cell_type": "code",
   "execution_count": 14,
   "metadata": {},
   "outputs": [
    {
     "data": {
      "text/plain": [
       "'Testolungo'"
      ]
     },
     "execution_count": 14,
     "metadata": {},
     "output_type": "execute_result"
    }
   ],
   "source": [
    "s.capitalize() # convert only the first letter of the string"
   ]
  },
  {
   "cell_type": "code",
   "execution_count": 15,
   "metadata": {},
   "outputs": [
    {
     "data": {
      "text/plain": [
       "'testolungo'"
      ]
     },
     "execution_count": 15,
     "metadata": {},
     "output_type": "execute_result"
    }
   ],
   "source": [
    "s.lower()"
   ]
  },
  {
   "cell_type": "code",
   "execution_count": 16,
   "metadata": {},
   "outputs": [
    {
     "data": {
      "text/plain": [
       "'TESTOLUNGO'"
      ]
     },
     "execution_count": 16,
     "metadata": {},
     "output_type": "execute_result"
    }
   ],
   "source": [
    "s.upper()"
   ]
  },
  {
   "cell_type": "code",
   "execution_count": 17,
   "metadata": {},
   "outputs": [
    {
     "data": {
      "text/plain": [
       "'est'"
      ]
     },
     "execution_count": 17,
     "metadata": {},
     "output_type": "execute_result"
    }
   ],
   "source": [
    "s[1:4]"
   ]
  },
  {
   "cell_type": "code",
   "execution_count": 18,
   "metadata": {},
   "outputs": [
    {
     "data": {
      "text/plain": [
       "'t'"
      ]
     },
     "execution_count": 18,
     "metadata": {},
     "output_type": "execute_result"
    }
   ],
   "source": [
    "s[0]"
   ]
  },
  {
   "cell_type": "code",
   "execution_count": 19,
   "metadata": {},
   "outputs": [
    {
     "data": {
      "text/plain": [
       "'estoLungo'"
      ]
     },
     "execution_count": 19,
     "metadata": {},
     "output_type": "execute_result"
    }
   ],
   "source": [
    "s[1:]"
   ]
  },
  {
   "cell_type": "code",
   "execution_count": 20,
   "metadata": {},
   "outputs": [
    {
     "data": {
      "text/plain": [
       "'o'"
      ]
     },
     "execution_count": 20,
     "metadata": {},
     "output_type": "execute_result"
    }
   ],
   "source": [
    "s[-1]"
   ]
  },
  {
   "cell_type": "code",
   "execution_count": 21,
   "metadata": {},
   "outputs": [
    {
     "data": {
      "text/plain": [
       "'t'"
      ]
     },
     "execution_count": 21,
     "metadata": {},
     "output_type": "execute_result"
    }
   ],
   "source": [
    "s[:1]"
   ]
  },
  {
   "cell_type": "code",
   "execution_count": 22,
   "metadata": {},
   "outputs": [
    {
     "data": {
      "text/plain": [
       "'testoLung'"
      ]
     },
     "execution_count": 22,
     "metadata": {},
     "output_type": "execute_result"
    }
   ],
   "source": [
    "s[:-1]"
   ]
  },
  {
   "cell_type": "code",
   "execution_count": 23,
   "metadata": {},
   "outputs": [
    {
     "data": {
      "text/plain": [
       "'etLno'"
      ]
     },
     "execution_count": 23,
     "metadata": {},
     "output_type": "execute_result"
    }
   ],
   "source": [
    "# we can express three elements: [start:stop:step]\n",
    "\n",
    "s[1::2]"
   ]
  },
  {
   "cell_type": "code",
   "execution_count": 24,
   "metadata": {},
   "outputs": [
    {
     "data": {
      "text/plain": [
       "'nL'"
      ]
     },
     "execution_count": 24,
     "metadata": {},
     "output_type": "execute_result"
    }
   ],
   "source": [
    "s[-3:-6:-2]"
   ]
  },
  {
   "cell_type": "code",
   "execution_count": 25,
   "metadata": {},
   "outputs": [
    {
     "data": {
      "text/plain": [
       "'EON'"
      ]
     },
     "execution_count": 25,
     "metadata": {},
     "output_type": "execute_result"
    }
   ],
   "source": [
    "s[1::3].upper()"
   ]
  },
  {
   "cell_type": "code",
   "execution_count": 26,
   "metadata": {},
   "outputs": [
    {
     "data": {
      "text/plain": [
       "''"
      ]
     },
     "execution_count": 26,
     "metadata": {},
     "output_type": "execute_result"
    }
   ],
   "source": [
    "s[-1:-4] # i get nothing because the -1 position is the starting point"
   ]
  },
  {
   "cell_type": "code",
   "execution_count": 27,
   "metadata": {},
   "outputs": [
    {
     "data": {
      "text/plain": [
       "'o'"
      ]
     },
     "execution_count": 27,
     "metadata": {},
     "output_type": "execute_result"
    }
   ],
   "source": [
    "s[-1]"
   ]
  },
  {
   "cell_type": "code",
   "execution_count": 28,
   "metadata": {},
   "outputs": [
    {
     "data": {
      "text/plain": [
       "'ung'"
      ]
     },
     "execution_count": 28,
     "metadata": {},
     "output_type": "execute_result"
    }
   ],
   "source": [
    "s[-4:-1]"
   ]
  },
  {
   "cell_type": "markdown",
   "metadata": {},
   "source": [
    "#### getting the last 5 letters "
   ]
  },
  {
   "cell_type": "code",
   "execution_count": 29,
   "metadata": {},
   "outputs": [
    {
     "data": {
      "text/plain": [
       "'Lungo'"
      ]
     },
     "execution_count": 29,
     "metadata": {},
     "output_type": "execute_result"
    }
   ],
   "source": [
    "s[-5:]"
   ]
  },
  {
   "cell_type": "code",
   "execution_count": 30,
   "metadata": {},
   "outputs": [
    {
     "data": {
      "text/plain": [
       "'Lungo'"
      ]
     },
     "execution_count": 30,
     "metadata": {},
     "output_type": "execute_result"
    }
   ],
   "source": [
    "s[5:]"
   ]
  },
  {
   "cell_type": "markdown",
   "metadata": {},
   "source": [
    "#### getting the first 5 letters"
   ]
  },
  {
   "cell_type": "code",
   "execution_count": 31,
   "metadata": {},
   "outputs": [
    {
     "data": {
      "text/plain": [
       "'testo'"
      ]
     },
     "execution_count": 31,
     "metadata": {},
     "output_type": "execute_result"
    }
   ],
   "source": [
    "s[:5]"
   ]
  },
  {
   "cell_type": "code",
   "execution_count": 32,
   "metadata": {},
   "outputs": [
    {
     "data": {
      "text/plain": [
       "'testo'"
      ]
     },
     "execution_count": 32,
     "metadata": {},
     "output_type": "execute_result"
    }
   ],
   "source": [
    "s[:-5]"
   ]
  },
  {
   "cell_type": "code",
   "execution_count": 33,
   "metadata": {},
   "outputs": [
    {
     "data": {
      "text/plain": [
       "'ognuLotset'"
      ]
     },
     "execution_count": 33,
     "metadata": {},
     "output_type": "execute_result"
    }
   ],
   "source": [
    "s[-1::-1] # reversed word"
   ]
  },
  {
   "cell_type": "markdown",
   "metadata": {},
   "source": [
    "#### given the string in input, retunr true or false is it is palindrom"
   ]
  },
  {
   "cell_type": "code",
   "execution_count": 34,
   "metadata": {},
   "outputs": [
    {
     "name": "stdout",
     "output_type": "stream",
     "text": [
      "your word is palindrom\n"
     ]
    }
   ],
   "source": [
    "word = input('insert your word')\n",
    "if word.lower() == word[-1::-1]:\n",
    "    print('your word is palindrom')\n",
    "else:\n",
    "    print('your word is not palindrom')"
   ]
  },
  {
   "cell_type": "markdown",
   "metadata": {},
   "source": [
    "#### functions"
   ]
  },
  {
   "cell_type": "code",
   "execution_count": 35,
   "metadata": {},
   "outputs": [
    {
     "data": {
      "text/plain": [
       "True"
      ]
     },
     "execution_count": 35,
     "metadata": {},
     "output_type": "execute_result"
    }
   ],
   "source": [
    "# since something palindorm is a sort of function, i define a targeted  specification\n",
    "\n",
    "word = input('insert your word')\n",
    "\n",
    "def check_pal(word):\n",
    "    word = word.lower()\n",
    "    if word == word[-1::-1]:\n",
    "        return True\n",
    "    else:\n",
    "        return False\n",
    "    \n",
    "check_pal(word)"
   ]
  },
  {
   "cell_type": "code",
   "execution_count": 36,
   "metadata": {},
   "outputs": [
    {
     "name": "stdout",
     "output_type": "stream",
     "text": [
      "the word '' is palindrom\n"
     ]
    }
   ],
   "source": [
    "word = input('insert your word')\n",
    "\n",
    "def check_pal(word):\n",
    "    word = word.lower()\n",
    "    if word == word[-1::-1]:\n",
    "        print(f\"the word '{word}' is palindrom\")\n",
    "    else:\n",
    "        print(f\"the word '{word}' is not palindrom\")\n",
    "    \n",
    "check_pal(word)"
   ]
  },
  {
   "cell_type": "markdown",
   "metadata": {},
   "source": [
    "#### while loop"
   ]
  },
  {
   "cell_type": "code",
   "execution_count": 37,
   "metadata": {},
   "outputs": [
    {
     "data": {
      "text/plain": [
       "True"
      ]
     },
     "execution_count": 37,
     "metadata": {},
     "output_type": "execute_result"
    }
   ],
   "source": [
    "# we want to check if a word is palindrom without the slicing function\n",
    "\n",
    "word = input('insert your word')\n",
    "word = word.lower()\n",
    "\n",
    "def check_pal_iteration(word):\n",
    "    left = 0 # index of the first element\n",
    "    right = len(word)-1 # index of the last element\n",
    "    is_pal = True\n",
    "    \n",
    "    while left < right:\n",
    "        if word[left] != word[right]:\n",
    "            is_pal = False\n",
    "            break # stop execution of the while\n",
    "        \n",
    "        left += 1 # updating loop\n",
    "        right -= 1 # updating loop\n",
    "    \n",
    "    return is_pal\n",
    "\n",
    "check_pal_iteration(word)"
   ]
  },
  {
   "cell_type": "markdown",
   "metadata": {},
   "source": [
    "### exercises on loops"
   ]
  },
  {
   "cell_type": "markdown",
   "metadata": {},
   "source": [
    "#### exercise 1\n",
    "\n",
    "Print first 10 natural numbers using while\n"
   ]
  },
  {
   "cell_type": "code",
   "execution_count": 38,
   "metadata": {},
   "outputs": [
    {
     "name": "stdout",
     "output_type": "stream",
     "text": [
      "1\n",
      "2\n",
      "3\n",
      "4\n",
      "5\n",
      "6\n",
      "7\n",
      "8\n",
      "9\n",
      "10\n"
     ]
    }
   ],
   "source": [
    "i=1\n",
    "\n",
    "while i < 11: # can be written also as: while i <= 10\n",
    "    print(i)\n",
    "    i += 1"
   ]
  },
  {
   "cell_type": "markdown",
   "metadata": {},
   "source": [
    "#### exercise 2\n",
    "\n",
    "Calculate sum of all numbers from 1 to a given number\n"
   ]
  },
  {
   "cell_type": "code",
   "execution_count": 95,
   "metadata": {},
   "outputs": [
    {
     "name": "stdout",
     "output_type": "stream",
     "text": [
      "5860176\n"
     ]
    }
   ],
   "source": [
    "num = int(input('enter a number'))\n",
    "i = 0\n",
    "sum = 0\n",
    "\n",
    "while i <= num-1:\n",
    "    next_num = sum + 1\n",
    "    sum = i + next_num\n",
    "    i += 1\n",
    "\n",
    "print(sum)"
   ]
  },
  {
   "cell_type": "code",
   "execution_count": 76,
   "metadata": {},
   "outputs": [
    {
     "name": "stdout",
     "output_type": "stream",
     "text": [
      "359976\n"
     ]
    }
   ],
   "source": [
    "sum = 0\n",
    "num = int(input('enter number'))\n",
    "\n",
    "for i in range(1,num+1,1):\n",
    "    sum += i\n",
    "    \n",
    "print(sum)"
   ]
  },
  {
   "cell_type": "markdown",
   "metadata": {},
   "source": [
    "#### exercise 3\n",
    "\n",
    "Print multiplication table of a given number"
   ]
  },
  {
   "cell_type": "code",
   "execution_count": 109,
   "metadata": {},
   "outputs": [
    {
     "name": "stdout",
     "output_type": "stream",
     "text": [
      "2\n",
      "4\n",
      "6\n",
      "8\n",
      "10\n",
      "12\n",
      "14\n",
      "16\n",
      "18\n",
      "20\n"
     ]
    }
   ],
   "source": [
    "num = int(input('enter number'))\n",
    "\n",
    "i = 1\n",
    "\n",
    "while i <= 10:\n",
    "    mult = num * i\n",
    "    i += 1\n",
    "    \n",
    "    print(mult)\n",
    "    "
   ]
  },
  {
   "cell_type": "code",
   "execution_count": null,
   "metadata": {},
   "outputs": [],
   "source": [
    "num = int(input('enter number'))\n",
    "\n",
    "for i in range (1, 11):\n",
    "    mult = num * i\n",
    "    \n",
    "    print(mult)"
   ]
  },
  {
   "cell_type": "markdown",
   "metadata": {},
   "source": [
    "#### exercise 4\n",
    "\n",
    "Write a Python program to display only those numbers from a list that satisfy the following conditions\n",
    "\n",
    "The number must be divisible by five\n",
    "If the number is greater than 150, then skip it and move to the following number\n",
    "If the number is greater than 500, then stop the loop"
   ]
  },
  {
   "cell_type": "code",
   "execution_count": 122,
   "metadata": {},
   "outputs": [
    {
     "name": "stdout",
     "output_type": "stream",
     "text": [
      "75\n",
      "150\n",
      "145\n"
     ]
    }
   ],
   "source": [
    "numbers = [12, 75, 150, 180, 145, 525, 50]\n",
    "\n",
    "for i in numbers:\n",
    "    if i > 500:\n",
    "        break\n",
    "    if i%5 == 0:\n",
    "        if i <= 150:\n",
    "            \n",
    "            print(i)"
   ]
  },
  {
   "cell_type": "code",
   "execution_count": 123,
   "metadata": {},
   "outputs": [
    {
     "name": "stdout",
     "output_type": "stream",
     "text": [
      "75\n",
      "150\n",
      "145\n"
     ]
    }
   ],
   "source": [
    "numbers = [12, 75, 150, 180, 145, 525, 50]\n",
    "\n",
    "for item in numbers:\n",
    "    if item > 500:\n",
    "        break\n",
    "    elif item > 150:\n",
    "        continue\n",
    "    elif item % 5 == 0:\n",
    "        print(item)"
   ]
  },
  {
   "cell_type": "markdown",
   "metadata": {},
   "source": [
    "#### exercise 5\n",
    "\n",
    "Count the total number of digits in a number"
   ]
  },
  {
   "cell_type": "code",
   "execution_count": 128,
   "metadata": {},
   "outputs": [
    {
     "name": "stdout",
     "output_type": "stream",
     "text": [
      "4\n"
     ]
    }
   ],
   "source": [
    "7\n",
    "num = int(input('enter number'))\n",
    "\n",
    "count = 0\n",
    "while num != 0:\n",
    "    num = num // 10\n",
    "\n",
    "    count = count + 1\n",
    "print(count)"
   ]
  },
  {
   "cell_type": "markdown",
   "metadata": {},
   "source": [
    "#### exercise 6\n",
    "\n",
    "Find the factorial of a given number"
   ]
  },
  {
   "cell_type": "code",
   "execution_count": 152,
   "metadata": {},
   "outputs": [
    {
     "name": "stdout",
     "output_type": "stream",
     "text": [
      "362880\n"
     ]
    }
   ],
   "source": [
    "num = int(input('enter number'))\n",
    "\n",
    "i = num - 1\n",
    "mult = num * i\n",
    "\n",
    "while i > 1:\n",
    "    i -= 1\n",
    "    mult = mult * i\n",
    "\n",
    "print(mult)"
   ]
  },
  {
   "cell_type": "code",
   "execution_count": 153,
   "metadata": {},
   "outputs": [
    {
     "name": "stdout",
     "output_type": "stream",
     "text": [
      "362880\n"
     ]
    }
   ],
   "source": [
    "num = int(input('enter number'))\n",
    "\n",
    "fact = 1\n",
    "\n",
    "for i in range(1, num+1):\n",
    "    fact = fact * i\n",
    "\n",
    "print(fact)"
   ]
  },
  {
   "cell_type": "markdown",
   "metadata": {},
   "source": [
    "#### exercise 7\n",
    "\n",
    "Calculate the cube of all numbers from 1 to a given number"
   ]
  },
  {
   "cell_type": "code",
   "execution_count": 171,
   "metadata": {},
   "outputs": [
    {
     "name": "stdout",
     "output_type": "stream",
     "text": [
      "1\n",
      "8\n",
      "27\n",
      "64\n",
      "125\n",
      "216\n"
     ]
    }
   ],
   "source": [
    "num = int(input('enter number'))\n",
    "\n",
    "for i in range (1, num+1):\n",
    "    cube = i*i*i\n",
    "    i += 1\n",
    "    print(cube)"
   ]
  },
  {
   "cell_type": "markdown",
   "metadata": {},
   "source": [
    "#### exercize 8\n",
    "\n",
    "Write a program to create a function that takes two arguments, name and age, and print their value."
   ]
  },
  {
   "cell_type": "code",
   "execution_count": 8,
   "metadata": {},
   "outputs": [
    {
     "name": "stdout",
     "output_type": "stream",
     "text": [
      "paolo 5\n"
     ]
    }
   ],
   "source": [
    "def print_fun(name,age):\n",
    "\n",
    "    print(name, age)\n",
    "    \n",
    "print_fun('paolo', 5)"
   ]
  },
  {
   "cell_type": "markdown",
   "metadata": {},
   "source": [
    "#### exercise 9\n",
    "\n",
    "Write a program to create function func1() to accept a variable length of arguments and print their value."
   ]
  },
  {
   "cell_type": "code",
   "execution_count": 9,
   "metadata": {},
   "outputs": [
    {
     "name": "stdout",
     "output_type": "stream",
     "text": [
      "2\n",
      "4\n",
      "5\n",
      "2\n",
      "2\n",
      "4\n",
      "5\n"
     ]
    }
   ],
   "source": [
    "# to create functions that take n number of positional arguments we use *args as a parameter\n",
    "# Using this, we can pass any number of arguments to this function. Internally all these values are represented in the form of a tuple\n",
    "\n",
    "def func1(*args):\n",
    "    for i in args:\n",
    "        print(i)\n",
    "        \n",
    "func1(2,4,5,2,2,4,5)"
   ]
  },
  {
   "cell_type": "markdown",
   "metadata": {},
   "source": [
    "#### exercise 10\n",
    "\n",
    "Write a program to create function calculation() such that it can accept two variables and calculate addition and subtraction. Also, it must return both addition and subtraction in a single return call."
   ]
  },
  {
   "cell_type": "code",
   "execution_count": 12,
   "metadata": {},
   "outputs": [
    {
     "name": "stdout",
     "output_type": "stream",
     "text": [
      "10 -4\n"
     ]
    }
   ],
   "source": [
    "val_1 = int(input())\n",
    "val_2 = int(input())\n",
    "\n",
    "def calculation(val_1 = 0, val_2 = 0):\n",
    "    sum = val_1 + val_2\n",
    "    dif = val_1 - val_2\n",
    "    \n",
    "    print(sum, dif)\n",
    "    \n",
    "calculation(val_1, val_2)"
   ]
  },
  {
   "cell_type": "markdown",
   "metadata": {},
   "source": [
    "### lecture 3"
   ]
  },
  {
   "cell_type": "markdown",
   "metadata": {},
   "source": [
    "#### lists"
   ]
  },
  {
   "cell_type": "code",
   "execution_count": 40,
   "metadata": {},
   "outputs": [],
   "source": [
    "items = [1,2,3,4,5,6]"
   ]
  },
  {
   "cell_type": "code",
   "execution_count": 41,
   "metadata": {},
   "outputs": [
    {
     "data": {
      "text/plain": [
       "[1, 2, 3, 4, 5, 6]"
      ]
     },
     "execution_count": 41,
     "metadata": {},
     "output_type": "execute_result"
    }
   ],
   "source": [
    "items"
   ]
  },
  {
   "cell_type": "code",
   "execution_count": 42,
   "metadata": {},
   "outputs": [],
   "source": [
    "# alternative syntax\n",
    "\n",
    "items = list((1,2,3,4,5,6))"
   ]
  },
  {
   "cell_type": "code",
   "execution_count": 43,
   "metadata": {},
   "outputs": [
    {
     "data": {
      "text/plain": [
       "[1, 2, 3, 4, 5, 6]"
      ]
     },
     "execution_count": 43,
     "metadata": {},
     "output_type": "execute_result"
    }
   ],
   "source": [
    "items"
   ]
  },
  {
   "cell_type": "code",
   "execution_count": 44,
   "metadata": {},
   "outputs": [],
   "source": [
    "second_list = ['summer', 'autumn', 'winter']"
   ]
  },
  {
   "cell_type": "code",
   "execution_count": 45,
   "metadata": {},
   "outputs": [
    {
     "data": {
      "text/plain": [
       "3"
      ]
     },
     "execution_count": 45,
     "metadata": {},
     "output_type": "execute_result"
    }
   ],
   "source": [
    "len(second_list)"
   ]
  },
  {
   "cell_type": "code",
   "execution_count": 46,
   "metadata": {},
   "outputs": [
    {
     "data": {
      "text/plain": [
       "'summer'"
      ]
     },
     "execution_count": 46,
     "metadata": {},
     "output_type": "execute_result"
    }
   ],
   "source": [
    "second_list[0]"
   ]
  },
  {
   "cell_type": "code",
   "execution_count": 47,
   "metadata": {},
   "outputs": [],
   "source": [
    "second_list.append('spring')"
   ]
  },
  {
   "cell_type": "code",
   "execution_count": 48,
   "metadata": {},
   "outputs": [
    {
     "data": {
      "text/plain": [
       "['summer', 'autumn', 'winter', 'spring']"
      ]
     },
     "execution_count": 48,
     "metadata": {},
     "output_type": "execute_result"
    }
   ],
   "source": [
    "second_list"
   ]
  },
  {
   "cell_type": "code",
   "execution_count": 49,
   "metadata": {},
   "outputs": [
    {
     "name": "stdout",
     "output_type": "stream",
     "text": [
      "summer\n",
      "autumn\n",
      "winter\n",
      "spring\n"
     ]
    }
   ],
   "source": [
    "# iteration over a list\n",
    "\n",
    "for i in second_list:\n",
    "    print(i)"
   ]
  },
  {
   "cell_type": "code",
   "execution_count": 50,
   "metadata": {},
   "outputs": [
    {
     "data": {
      "text/plain": [
       "[0, 1, 2, 3]"
      ]
     },
     "execution_count": 50,
     "metadata": {},
     "output_type": "execute_result"
    }
   ],
   "source": [
    "list(range(len(second_list)))"
   ]
  },
  {
   "cell_type": "code",
   "execution_count": 51,
   "metadata": {},
   "outputs": [
    {
     "data": {
      "text/plain": [
       "4"
      ]
     },
     "execution_count": 51,
     "metadata": {},
     "output_type": "execute_result"
    }
   ],
   "source": [
    "len(second_list)"
   ]
  },
  {
   "cell_type": "code",
   "execution_count": 52,
   "metadata": {},
   "outputs": [
    {
     "data": {
      "text/plain": [
       "range(0, 4)"
      ]
     },
     "execution_count": 52,
     "metadata": {},
     "output_type": "execute_result"
    }
   ],
   "source": [
    "range(len(second_list))"
   ]
  },
  {
   "cell_type": "code",
   "execution_count": 53,
   "metadata": {},
   "outputs": [
    {
     "data": {
      "text/plain": [
       "[0, 1, 2, 3]"
      ]
     },
     "execution_count": 53,
     "metadata": {},
     "output_type": "execute_result"
    }
   ],
   "source": [
    "list(range(len(second_list)))"
   ]
  },
  {
   "cell_type": "markdown",
   "metadata": {},
   "source": [
    "#### list sorting"
   ]
  },
  {
   "cell_type": "code",
   "execution_count": 54,
   "metadata": {},
   "outputs": [],
   "source": [
    "second_list.sort()"
   ]
  },
  {
   "cell_type": "code",
   "execution_count": 55,
   "metadata": {},
   "outputs": [
    {
     "data": {
      "text/plain": [
       "['autumn', 'spring', 'summer', 'winter']"
      ]
     },
     "execution_count": 55,
     "metadata": {},
     "output_type": "execute_result"
    }
   ],
   "source": [
    "second_list"
   ]
  },
  {
   "cell_type": "code",
   "execution_count": 56,
   "metadata": {},
   "outputs": [
    {
     "name": "stdout",
     "output_type": "stream",
     "text": [
      "Sorted Array in Ascending Order:\n",
      "[-2, 1, 1, 4, 7, 9, 10]\n"
     ]
    }
   ],
   "source": [
    "def quicksort(arr):\n",
    "    if len(arr) <= 1:\n",
    "        return arr\n",
    "    else:\n",
    "        pivot = arr[0]\n",
    "        left = [x for x in arr[1:] if x < pivot]\n",
    "        right = [x for x in arr[1:] if x >= pivot]\n",
    "        return quicksort(left) + [pivot] + quicksort(right)\n",
    "\n",
    "# example\n",
    "arr = [1, 7, 4, 1, 10, 9, -2]\n",
    "sorted_arr = quicksort(arr)\n",
    "print(\"Sorted Array in Ascending Order:\")\n",
    "print(sorted_arr)\n"
   ]
  },
  {
   "cell_type": "markdown",
   "metadata": {},
   "source": [
    "#### list slicing"
   ]
  },
  {
   "cell_type": "code",
   "execution_count": 57,
   "metadata": {},
   "outputs": [],
   "source": [
    "dwarfs = [\"Doc\", \"Bashful\", \" Grumpy\", \"Sneezy\", \"Happy\", \"Sleepy\", \"Dopey\"]"
   ]
  },
  {
   "cell_type": "code",
   "execution_count": 58,
   "metadata": {},
   "outputs": [
    {
     "data": {
      "text/plain": [
       "['Doc', 'Bashful', ' Grumpy', 'Sneezy', 'Happy', 'Sleepy', 'Dopey']"
      ]
     },
     "execution_count": 58,
     "metadata": {},
     "output_type": "execute_result"
    }
   ],
   "source": [
    "dwarfs"
   ]
  },
  {
   "cell_type": "code",
   "execution_count": 59,
   "metadata": {},
   "outputs": [
    {
     "data": {
      "text/plain": [
       "['Bashful', ' Grumpy', 'Sneezy', 'Happy']"
      ]
     },
     "execution_count": 59,
     "metadata": {},
     "output_type": "execute_result"
    }
   ],
   "source": [
    "dwarfs[1:5] "
   ]
  },
  {
   "cell_type": "code",
   "execution_count": 60,
   "metadata": {},
   "outputs": [
    {
     "data": {
      "text/plain": [
       "['Doc', 'Bashful', ' Grumpy', 'Sneezy', 'Happy']"
      ]
     },
     "execution_count": 60,
     "metadata": {},
     "output_type": "execute_result"
    }
   ],
   "source": [
    "dwarfs[:5]"
   ]
  },
  {
   "cell_type": "code",
   "execution_count": 61,
   "metadata": {},
   "outputs": [
    {
     "data": {
      "text/plain": [
       "['Sleepy', 'Dopey']"
      ]
     },
     "execution_count": 61,
     "metadata": {},
     "output_type": "execute_result"
    }
   ],
   "source": [
    "dwarfs[5:]"
   ]
  },
  {
   "cell_type": "code",
   "execution_count": 62,
   "metadata": {},
   "outputs": [
    {
     "data": {
      "text/plain": [
       "['Doc', 'Bashful', ' Grumpy', 'Sneezy', 'Happy', 'Sleepy', 'Dopey']"
      ]
     },
     "execution_count": 62,
     "metadata": {},
     "output_type": "execute_result"
    }
   ],
   "source": [
    "dwarfs[:5] + dwarfs[5:]"
   ]
  },
  {
   "cell_type": "code",
   "execution_count": 63,
   "metadata": {},
   "outputs": [
    {
     "data": {
      "text/plain": [
       "['Doc', 'Bashful', ' Grumpy', 'Sneezy', 'Happy', 'Sleepy', 'Dopey']"
      ]
     },
     "execution_count": 63,
     "metadata": {},
     "output_type": "execute_result"
    }
   ],
   "source": [
    "dwarfs[:]"
   ]
  },
  {
   "cell_type": "code",
   "execution_count": 64,
   "metadata": {},
   "outputs": [
    {
     "data": {
      "text/plain": [
       "['Bashful', 'Sneezy']"
      ]
     },
     "execution_count": 64,
     "metadata": {},
     "output_type": "execute_result"
    }
   ],
   "source": [
    "dwarfs[1:5:2]"
   ]
  },
  {
   "cell_type": "code",
   "execution_count": 65,
   "metadata": {},
   "outputs": [
    {
     "data": {
      "text/plain": [
       "'Dopey'"
      ]
     },
     "execution_count": 65,
     "metadata": {},
     "output_type": "execute_result"
    }
   ],
   "source": [
    "dwarfs[-1]"
   ]
  },
  {
   "cell_type": "code",
   "execution_count": 66,
   "metadata": {},
   "outputs": [
    {
     "data": {
      "text/plain": [
       "[' Grumpy', 'Sneezy', 'Happy', 'Sleepy']"
      ]
     },
     "execution_count": 66,
     "metadata": {},
     "output_type": "execute_result"
    }
   ],
   "source": [
    "dwarfs[-5:-1]"
   ]
  },
  {
   "cell_type": "code",
   "execution_count": 67,
   "metadata": {},
   "outputs": [
    {
     "data": {
      "text/plain": [
       "['Dopey', 'Sleepy', 'Happy', 'Sneezy']"
      ]
     },
     "execution_count": 67,
     "metadata": {},
     "output_type": "execute_result"
    }
   ],
   "source": [
    "dwarfs[-1:-5:-1]"
   ]
  },
  {
   "cell_type": "code",
   "execution_count": 68,
   "metadata": {},
   "outputs": [
    {
     "data": {
      "text/plain": [
       "[]"
      ]
     },
     "execution_count": 68,
     "metadata": {},
     "output_type": "execute_result"
    }
   ],
   "source": [
    "dwarfs[-1:-5] # remember that without -1 given an empty list"
   ]
  },
  {
   "cell_type": "code",
   "execution_count": 69,
   "metadata": {},
   "outputs": [
    {
     "data": {
      "text/plain": [
       "['Dopey', 'Sleepy', 'Happy', 'Sneezy', ' Grumpy', 'Bashful', 'Doc']"
      ]
     },
     "execution_count": 69,
     "metadata": {},
     "output_type": "execute_result"
    }
   ],
   "source": [
    "dwarfs[::-1] # gives back all the elements in reversed order"
   ]
  },
  {
   "cell_type": "markdown",
   "metadata": {},
   "source": [
    "#### exercise\n",
    "\n",
    "given a list, reverse the left with the right part\n",
    "(calculate the middle index, and then use slicing to reverse)"
   ]
  },
  {
   "cell_type": "code",
   "execution_count": 70,
   "metadata": {},
   "outputs": [],
   "source": [
    "try_list = [4,6,8,9,5,12,4,45,6,7,7,7,54,3,2,5,44,5,5,555]"
   ]
  },
  {
   "cell_type": "code",
   "execution_count": 71,
   "metadata": {},
   "outputs": [],
   "source": [
    "def reverse_right_left(list):\n",
    "    middle_index = len(list) // 2\n",
    "    \n",
    "    right_part = list[middle_index:]\n",
    "    left_part = list[:middle_index]\n",
    "    \n",
    "    result = right_part + left_part\n",
    "    \n",
    "    return result"
   ]
  },
  {
   "cell_type": "code",
   "execution_count": 72,
   "metadata": {},
   "outputs": [
    {
     "data": {
      "text/plain": [
       "[7, 7, 54, 3, 2, 5, 44, 5, 5, 555, 4, 6, 8, 9, 5, 12, 4, 45, 6, 7]"
      ]
     },
     "execution_count": 72,
     "metadata": {},
     "output_type": "execute_result"
    }
   ],
   "source": [
    "reverse_right_left(try_list)"
   ]
  },
  {
   "cell_type": "code",
   "execution_count": 73,
   "metadata": {},
   "outputs": [],
   "source": [
    "A = [[1, 2, 3], [4, 5, 6], [7, 8, 9]] # list of lists"
   ]
  },
  {
   "cell_type": "code",
   "execution_count": 74,
   "metadata": {},
   "outputs": [
    {
     "data": {
      "text/plain": [
       "[[1, 2, 3], [4, 5, 6], [7, 8, 9]]"
      ]
     },
     "execution_count": 74,
     "metadata": {},
     "output_type": "execute_result"
    }
   ],
   "source": [
    "A"
   ]
  },
  {
   "cell_type": "code",
   "execution_count": 75,
   "metadata": {},
   "outputs": [
    {
     "data": {
      "text/plain": [
       "[4, 5, 6]"
      ]
     },
     "execution_count": 75,
     "metadata": {},
     "output_type": "execute_result"
    }
   ],
   "source": [
    "A[1]"
   ]
  },
  {
   "cell_type": "code",
   "execution_count": 76,
   "metadata": {},
   "outputs": [
    {
     "data": {
      "text/plain": [
       "6"
      ]
     },
     "execution_count": 76,
     "metadata": {},
     "output_type": "execute_result"
    }
   ],
   "source": [
    "A[1][2]\n",
    "\n",
    "# first element of the list that is the middle list, and then \n",
    "# take the second elemend of that middle list that is 6"
   ]
  },
  {
   "cell_type": "code",
   "execution_count": 77,
   "metadata": {},
   "outputs": [
    {
     "data": {
      "text/plain": [
       "3"
      ]
     },
     "execution_count": 77,
     "metadata": {},
     "output_type": "execute_result"
    }
   ],
   "source": [
    "A[0][-1]"
   ]
  },
  {
   "cell_type": "code",
   "execution_count": 78,
   "metadata": {},
   "outputs": [],
   "source": [
    "# we want to get the last item for every list in the A list\n",
    "\n",
    "last_column = []\n",
    "\n",
    "for item in A:\n",
    "    last_column.append(item[-1])"
   ]
  },
  {
   "cell_type": "code",
   "execution_count": 79,
   "metadata": {},
   "outputs": [
    {
     "data": {
      "text/plain": [
       "[3, 6, 9]"
      ]
     },
     "execution_count": 79,
     "metadata": {},
     "output_type": "execute_result"
    }
   ],
   "source": [
    "last_column"
   ]
  },
  {
   "cell_type": "code",
   "execution_count": 80,
   "metadata": {},
   "outputs": [
    {
     "name": "stdout",
     "output_type": "stream",
     "text": [
      "[3, 6, 9]\n"
     ]
    }
   ],
   "source": [
    "# the same works with list comprehension\n",
    "\n",
    "last_column = [row[-1] for row in A]\n",
    "print(last_column)"
   ]
  },
  {
   "cell_type": "markdown",
   "metadata": {},
   "source": [
    "#### exercise 1\n",
    "\n",
    "Given a list in input, returns the list of uniques values"
   ]
  },
  {
   "cell_type": "code",
   "execution_count": 81,
   "metadata": {},
   "outputs": [],
   "source": [
    "def unique_values(my_list):\n",
    "    values = []\n",
    "    for item in my_list:\n",
    "        if item not in values:\n",
    "            values.append(item)\n",
    "\n",
    "    return values"
   ]
  },
  {
   "cell_type": "code",
   "execution_count": 82,
   "metadata": {},
   "outputs": [
    {
     "data": {
      "text/plain": [
       "[4, 6, 8, 9, 5, 12, 45, 7, 54, 3, 2, 44, 555]"
      ]
     },
     "execution_count": 82,
     "metadata": {},
     "output_type": "execute_result"
    }
   ],
   "source": [
    "unique_values(try_list)"
   ]
  },
  {
   "cell_type": "code",
   "execution_count": 83,
   "metadata": {},
   "outputs": [],
   "source": [
    "def unique_values_by_set(my_list):\n",
    "    my_set = set(my_list)\n",
    "    return list(my_set)"
   ]
  },
  {
   "cell_type": "code",
   "execution_count": 84,
   "metadata": {},
   "outputs": [
    {
     "data": {
      "text/plain": [
       "[2, 3, 4, 5, 6, 7, 8, 9, 555, 12, 45, 44, 54]"
      ]
     },
     "execution_count": 84,
     "metadata": {},
     "output_type": "execute_result"
    }
   ],
   "source": [
    "unique_values_by_set(try_list)"
   ]
  },
  {
   "cell_type": "markdown",
   "metadata": {},
   "source": [
    "#### dataset"
   ]
  },
  {
   "cell_type": "code",
   "execution_count": 85,
   "metadata": {},
   "outputs": [],
   "source": [
    "# pull request from a datset added via upload files into the git-hub repository\n",
    "\n",
    "with open(\"supermarket.csv\", newline=\"\") as f:\n",
    "    reader = csv.reader(f, delimiter=\",\")\n",
    "    records = list(reader)"
   ]
  },
  {
   "cell_type": "code",
   "execution_count": 86,
   "metadata": {},
   "outputs": [
    {
     "data": {
      "text/plain": [
       "['750-67-8428',\n",
       " 'Alex',\n",
       " 'Yangon',\n",
       " 'Member',\n",
       " 'Female',\n",
       " 'Health and beauty',\n",
       " '74.69',\n",
       " '7',\n",
       " '26.1415',\n",
       " '548.9715',\n",
       " '1/5/2019',\n",
       " '1:08:00 PM',\n",
       " 'Ewallet',\n",
       " '522.83',\n",
       " '4.761904762',\n",
       " '26.1415',\n",
       " '9.1']"
      ]
     },
     "execution_count": 86,
     "metadata": {},
     "output_type": "execute_result"
    }
   ],
   "source": [
    "records[1]"
   ]
  },
  {
   "cell_type": "code",
   "execution_count": 87,
   "metadata": {},
   "outputs": [
    {
     "data": {
      "text/plain": [
       "[['ï»¿Invoice ID',\n",
       "  'Branch',\n",
       "  'City',\n",
       "  'Customer type',\n",
       "  'Gender',\n",
       "  'Product line',\n",
       "  'Unit price',\n",
       "  'Quantity',\n",
       "  'Tax 5%',\n",
       "  'Sales',\n",
       "  'Date',\n",
       "  'Time',\n",
       "  'Payment',\n",
       "  'cogs',\n",
       "  'gross margin percentage',\n",
       "  'gross income',\n",
       "  'Rating']]"
      ]
     },
     "execution_count": 87,
     "metadata": {},
     "output_type": "execute_result"
    }
   ],
   "source": [
    "records[:1]"
   ]
  },
  {
   "cell_type": "code",
   "execution_count": 88,
   "metadata": {},
   "outputs": [],
   "source": [
    "records = records[1:]"
   ]
  },
  {
   "cell_type": "code",
   "execution_count": 89,
   "metadata": {},
   "outputs": [],
   "source": [
    "# create a list with the unique names of branches (content of the 2nd column)\n",
    "\n",
    "branches = [row[1] for row in records]"
   ]
  },
  {
   "cell_type": "code",
   "execution_count": 91,
   "metadata": {},
   "outputs": [
    {
     "data": {
      "text/plain": [
       "['Giza', 'Cairo', 'Alex']"
      ]
     },
     "execution_count": 91,
     "metadata": {},
     "output_type": "execute_result"
    }
   ],
   "source": [
    "unique_values_by_set(branches)"
   ]
  },
  {
   "cell_type": "code",
   "execution_count": 92,
   "metadata": {},
   "outputs": [],
   "source": [
    "sales = [row[9] for row in records]"
   ]
  },
  {
   "cell_type": "markdown",
   "metadata": {},
   "source": [
    "# rock, paper, scissor game"
   ]
  },
  {
   "cell_type": "code",
   "execution_count": 2,
   "metadata": {},
   "outputs": [],
   "source": [
    "import random"
   ]
  },
  {
   "cell_type": "code",
   "execution_count": 8,
   "metadata": {},
   "outputs": [
    {
     "name": "stdout",
     "output_type": "stream",
     "text": [
      "pc has played: scissor\n",
      "you have played: rock\n",
      "you win\n",
      "you score is: 1\n",
      "pc score is: 0\n",
      "----------------------------\n",
      "pc has played: scissor\n",
      "you have played: rock\n",
      "you win\n",
      "you score is: 2\n",
      "pc score is: 0\n",
      "----------------------------\n",
      "pc has played: paper\n",
      "you have played: rock\n",
      "pc win\n",
      "you score is: 2\n",
      "pc score is: 1\n",
      "----------------------------\n",
      "pc has played: paper\n",
      "you have played: rock\n",
      "pc win\n",
      "you score is: 2\n",
      "pc score is: 2\n",
      "----------------------------\n",
      "pc has played: paper\n",
      "you have played: rock\n",
      "pc win\n",
      "you score is: 2\n",
      "pc score is: 3\n",
      "----------------------------\n",
      "YOU ARE A LOOSER\n"
     ]
    }
   ],
   "source": [
    "def game(counter = 0, your_score = 0, pc_score = 0):\n",
    "    while counter < 5:\n",
    "        play = str(input('enter your choice'))\n",
    "        choice = ['scissor', 'rock', 'paper']\n",
    "        random.shuffle(choice)\n",
    "        pc = choice[0]\n",
    "    \n",
    "        print(f'pc has played: {pc}')\n",
    "        print(f'you have played: {play.lower()}')\n",
    "\n",
    "        if play.lower() == pc:\n",
    "            result = 'even'\n",
    "            print(result)\n",
    "        elif play.lower() == 'scissor' and pc == 'rock':\n",
    "            result = 'pc win'\n",
    "            print(result)\n",
    "        elif play.lower() == 'scissor' and pc == 'paper':\n",
    "            result = 'you win'\n",
    "            print(result)\n",
    "        elif play.lower() == 'paper' and pc == 'rock':\n",
    "            result = 'you win'\n",
    "            print(result)\n",
    "        elif play.lower() == 'paper' and pc == 'scissor':\n",
    "            result = 'pc win'\n",
    "            print(result)\n",
    "        elif play.lower() == 'rock' and pc == 'paper':\n",
    "            result = 'pc win'\n",
    "            print(result)\n",
    "        elif play.lower() == 'rock' and pc == 'scissor':\n",
    "            result = 'you win'\n",
    "            print(result)\n",
    "            \n",
    "        if result == 'you win':\n",
    "            your_score += 1\n",
    "        elif result == 'pc win':\n",
    "            pc_score += 1\n",
    "        \n",
    "        counter += 1\n",
    "        print(f'you score is: {your_score}')\n",
    "        print(f'pc score is: {pc_score}')\n",
    "        print('----------------------------')\n",
    "    \n",
    "    if your_score > pc_score:\n",
    "        print('YOU ARE A WINNER')\n",
    "    elif your_score < pc_score:\n",
    "        print('YOU ARE A LOOSER')\n",
    "    else:\n",
    "        print('even, take another game')\n",
    "            \n",
    "game()"
   ]
  },
  {
   "cell_type": "markdown",
   "metadata": {},
   "source": [
    "# Lecture 4"
   ]
  },
  {
   "cell_type": "markdown",
   "metadata": {},
   "source": [
    "### dictionaries: associative array"
   ]
  },
  {
   "cell_type": "code",
   "execution_count": 8,
   "metadata": {},
   "outputs": [],
   "source": [
    "capitals = {\n",
    "    'italy': 'rome', \n",
    "    'france': 'paris', \n",
    "    'germany': 'berlin'}\n",
    "\n",
    "# in the dictionary we have  a key and the corresponding value\n",
    "# the keys are not predefined as numbers but can be everything, like strings and not only numbers"
   ]
  },
  {
   "cell_type": "code",
   "execution_count": 9,
   "metadata": {},
   "outputs": [
    {
     "data": {
      "text/plain": [
       "{'italy': 'rome', 'france': 'paris', 'germany': 'berlin'}"
      ]
     },
     "execution_count": 9,
     "metadata": {},
     "output_type": "execute_result"
    }
   ],
   "source": [
    "capitals"
   ]
  },
  {
   "cell_type": "code",
   "execution_count": 12,
   "metadata": {},
   "outputs": [],
   "source": [
    "capitals_list = [\n",
    "    'rome',\n",
    "    'paris',\n",
    "    'berlin'\n",
    "]\n",
    "\n",
    "# in this case we can't specify the country "
   ]
  },
  {
   "cell_type": "code",
   "execution_count": 14,
   "metadata": {},
   "outputs": [
    {
     "data": {
      "text/plain": [
       "['rome', 'paris', 'berlin']"
      ]
     },
     "execution_count": 14,
     "metadata": {},
     "output_type": "execute_result"
    }
   ],
   "source": [
    "capitals_list"
   ]
  },
  {
   "cell_type": "code",
   "execution_count": 20,
   "metadata": {},
   "outputs": [
    {
     "data": {
      "text/plain": [
       "'rome'"
      ]
     },
     "execution_count": 20,
     "metadata": {},
     "output_type": "execute_result"
    }
   ],
   "source": [
    "capitals['italy'] # we do not have index but the key specified earlier"
   ]
  },
  {
   "cell_type": "code",
   "execution_count": 18,
   "metadata": {},
   "outputs": [
    {
     "data": {
      "text/plain": [
       "'rome'"
      ]
     },
     "execution_count": 18,
     "metadata": {},
     "output_type": "execute_result"
    }
   ],
   "source": [
    "capitals_list[0]"
   ]
  },
  {
   "cell_type": "code",
   "execution_count": 22,
   "metadata": {},
   "outputs": [
    {
     "data": {
      "text/plain": [
       "dict_values(['rome', 'paris', 'berlin'])"
      ]
     },
     "execution_count": 22,
     "metadata": {},
     "output_type": "execute_result"
    }
   ],
   "source": [
    "capitals.values()"
   ]
  },
  {
   "cell_type": "code",
   "execution_count": 99,
   "metadata": {},
   "outputs": [
    {
     "data": {
      "text/plain": [
       "dict_keys(['italy', 'france', 'germany', 'spain'])"
      ]
     },
     "execution_count": 99,
     "metadata": {},
     "output_type": "execute_result"
    }
   ],
   "source": [
    "capitals.keys()"
   ]
  },
  {
   "cell_type": "code",
   "execution_count": 100,
   "metadata": {},
   "outputs": [],
   "source": [
    "capitals['spain'] = 'madrid' # automatically added to the dictionary"
   ]
  },
  {
   "cell_type": "code",
   "execution_count": 101,
   "metadata": {},
   "outputs": [
    {
     "data": {
      "text/plain": [
       "{'italy': 'rome', 'france': 'paris', 'germany': 'berlin', 'spain': 'madrid'}"
      ]
     },
     "execution_count": 101,
     "metadata": {},
     "output_type": "execute_result"
    }
   ],
   "source": [
    "capitals"
   ]
  },
  {
   "cell_type": "code",
   "execution_count": 102,
   "metadata": {},
   "outputs": [
    {
     "data": {
      "text/plain": [
       "'madrid'"
      ]
     },
     "execution_count": 102,
     "metadata": {},
     "output_type": "execute_result"
    }
   ],
   "source": [
    "capitals.get('spain')"
   ]
  },
  {
   "cell_type": "markdown",
   "metadata": {},
   "source": [
    "#### write the accuracy of each word in the text"
   ]
  },
  {
   "cell_type": "markdown",
   "metadata": {},
   "source": [
    "first we have to read the text"
   ]
  },
  {
   "cell_type": "code",
   "execution_count": 117,
   "metadata": {},
   "outputs": [],
   "source": [
    "my_file = open('song.txt', 'r', # r stands for read the content\n",
    "               encoding='UTF-8')\n",
    "my_text=my_file.read()"
   ]
  },
  {
   "cell_type": "code",
   "execution_count": 118,
   "metadata": {},
   "outputs": [
    {
     "name": "stdout",
     "output_type": "stream",
     "text": [
      "[Intro: Obie Trice]\n",
      "Obie Trice, real name, no gimmicks\n",
      "Ra—\n",
      "\n",
      "[Refrain 1: Eminem]\n",
      "Two trailer-park girls go round the outside\n",
      "Round the outside, round the outside\n",
      "Two trailer-park girls go round the outside\n",
      "Round the outside, round the outside\n",
      "Woo! (Ooh, ooh)\n",
      "\n",
      "[Refrain 2: Eminem]\n",
      "Guess who's back, back again?\n",
      "Shady's back, tell a friend\n",
      "Guess who's back? Guess who's back?\n",
      "Guess who's back? Guess who's back?\n",
      "Guess who's back? Guess who's back?\n",
      "Guess who's back?\n",
      "(Da-da-da, da, da, da, da, da, da)\n",
      "(Da-da-da, da, da, da, da)\n",
      "\n",
      "[Verse 1: Eminem]\n",
      "I've created a monster\n",
      "'Cause nobody wants to see Marshall no more, they want Shady, I'm chopped liver\n",
      "Well, if you want Shady, this is what I'll give ya\n",
      "A little bit of weed mixed with some hard liquor\n",
      "Some vodka that'll jump-start my heart quicker\n",
      "Than a shock when I get shocked at the hospital\n",
      "By the doctor when I'm not cooperating\n",
      "When I'm rockin' the table while he's operating (Hey)\n",
      "You waited this long, now stop debating\n",
      "'Cause I'm back, I'm on the rag and ovulating\n",
      "I know that you got a job, Ms. Cheney\n",
      "But your husband's heart problem's complicating\n",
      "So the FCC won't let me be\n",
      "Or let me be me, so let me see\n",
      "They tried to shut me down on MTV\n",
      "But it feels so empty without me\n",
      "So come on and dip, bum on your lips\n",
      "Fuck that, cum on your lips and some on your tits\n",
      "And get ready, 'cause this shit's about to get heavy\n",
      "I just settled all my lawsuits (Fuck you, Debbie)\n",
      "\n",
      "[Chorus: Eminem]\n",
      "Now, this looks like a job for me\n",
      "So everybody, just follow me\n",
      "'Cause we need a little controversy\n",
      "'Cause it feels so empty without me\n",
      "I said this looks like a job for me\n",
      "So everybody, just follow me\n",
      "'Cause we need a little controversy\n",
      "'Cause it feels so empty without me\n",
      "\n",
      "[Verse 2: Eminem]\n",
      "Little hellions, kids feeling rebellious\n",
      "Embarrassed, their parents still listen to Elvis\n",
      "They start feelin' like prisoners, helpless\n",
      "'Til someone comes along on a mission and yells, \"Bitch\"\n",
      "A visionary, vision is scary\n",
      "Could start a revolution, pollutin' the airwaves\n",
      "A rebel, so just let me revel and bask\n",
      "In the fact that I got everyone kissin' my ass\n",
      "And it's a disaster, such a catastrophe\n",
      "For you to see so damn much of my ass, you asked for me?\n",
      "Well, I'm back, da-na-na-na, na-na-na-na-na-na\n",
      "Fix your bent antenna, tune it in, and then I'm gonna\n",
      "Enter in and up under your skin like a splinter\n",
      "The center of attention, back for the winter\n",
      "I'm interesting, the best thing since wrestling\n",
      "Infesting in your kid's ears and nesting\n",
      "Testing, \"Attention, please\"\n",
      "Feel the tension soon as someone mentions me\n",
      "Here's my ten cents, my two cents is free\n",
      "A nuisance, who sent? You sent for me?\n",
      "\n",
      "[Chorus: Eminem]\n",
      "Now, this looks like a job for me\n",
      "So everybody, just follow me\n",
      "'Cause we need a little controversy\n",
      "'Cause it feels so empty without me\n",
      "I said this looks like a job for me\n",
      "So everybody, just follow me\n",
      "'Cause we need a little controversy\n",
      "'Cause it feels so empty without me\n",
      "\n",
      "[Verse 3: Eminem]\n",
      "A tisket, a tasket, I'll go tit-for-tat wit'\n",
      "Anybody who's talkin', \"This shit, that shit\"\n",
      "Chris Kirkpatrick, you can get your ass kicked\n",
      "Worse than them little Limp Bizkit bastards\n",
      "And Moby? You can get stomped by Obie\n",
      "You thirty-six-year-old bald-headed fag, blow me\n",
      "You don't know me, you're too old, let go\n",
      "It's over, nobody listens to techno\n",
      "Now, let's go, just give me the signal\n",
      "I'll be there with a whole list full of new insults\n",
      "I've been dope, suspenseful with a pencil\n",
      "Ever since Prince turned himself into a symbol\n",
      "But, sometimes, the shit just seems\n",
      "Everybody only wants to discuss me\n",
      "So this must mean I'm disgusting\n",
      "But it's just me, I'm just obscene (Yeah)\n",
      "Though I'm not the first king of controversy\n",
      "I am the worst thing since Elvis Presley\n",
      "To do Black music so selfishly\n",
      "And use it to get myself wealthy (Hey)\n",
      "There's a concept that works\n",
      "Twenty million other white rappers emerge\n",
      "But no matter how many fish in the sea\n",
      "It'd be so empty without me\n",
      "\n",
      "[Chorus: Eminem]\n",
      "Now, this looks like a job for me\n",
      "So everybody, just follow me\n",
      "'Cause we need a little controversy\n",
      "'Cause it feels so empty without me\n",
      "I said this looks like a job for me\n",
      "So everybody, just follow me\n",
      "'Cause we need a little controversy\n",
      "'Cause it feels so empty without me\n",
      "\n",
      "[Outro: Eminem]\n",
      "Hum, dei-dei, la-la\n",
      "La-la, la-la-la\n",
      "La-la, la-la-la\n",
      "La-la, la-la\n",
      "Hum, dei-dei, la-la\n",
      "La-la, la-la-la\n",
      "La-la, la-la-la\n",
      "La-la, la-la\n",
      "Kids\n"
     ]
    }
   ],
   "source": [
    "print(my_text)"
   ]
  },
  {
   "cell_type": "markdown",
   "metadata": {},
   "source": [
    "now we have to drop the commas so to tokenize the text, we have 3 methods"
   ]
  },
  {
   "cell_type": "code",
   "execution_count": 105,
   "metadata": {},
   "outputs": [],
   "source": [
    "import string "
   ]
  },
  {
   "cell_type": "code",
   "execution_count": 106,
   "metadata": {},
   "outputs": [
    {
     "data": {
      "text/plain": [
       "'!\"#$%&\\'()*+,-./:;<=>?@[\\\\]^_`{|}~'"
      ]
     },
     "execution_count": 106,
     "metadata": {},
     "output_type": "execute_result"
    }
   ],
   "source": [
    "string.punctuation"
   ]
  },
  {
   "cell_type": "markdown",
   "metadata": {},
   "source": [
    "method 1"
   ]
  },
  {
   "cell_type": "code",
   "execution_count": 123,
   "metadata": {},
   "outputs": [],
   "source": [
    "# first method\n",
    "\n",
    "cleaned_text = [i for i in my_text if i not in string.punctuation]\n",
    "\n",
    "# i am looking at my tetx char by char and i is stored in char if is not a punctiation "
   ]
  },
  {
   "cell_type": "code",
   "execution_count": 124,
   "metadata": {},
   "outputs": [],
   "source": [
    "cleaned_text = ''.join(cleaned_text) # we use join to rebuild our original text, but now is cleaned"
   ]
  },
  {
   "cell_type": "code",
   "execution_count": 125,
   "metadata": {},
   "outputs": [
    {
     "name": "stdout",
     "output_type": "stream",
     "text": [
      "Intro Obie Trice\n",
      "Obie Trice real name no gimmicks\n",
      "Ra—\n",
      "\n",
      "Refrain 1 Eminem\n",
      "Two trailerpark girls go round the outside\n",
      "Round the outside round the outside\n",
      "Two trailerpark girls go round the outside\n",
      "Round the outside round the outside\n",
      "Woo Ooh ooh\n",
      "\n",
      "Refrain 2 Eminem\n",
      "Guess whos back back again\n",
      "Shadys back tell a friend\n",
      "Guess whos back Guess whos back\n",
      "Guess whos back Guess whos back\n",
      "Guess whos back Guess whos back\n",
      "Guess whos back\n",
      "Dadada da da da da da da\n",
      "Dadada da da da da\n",
      "\n",
      "Verse 1 Eminem\n",
      "Ive created a monster\n",
      "Cause nobody wants to see Marshall no more they want Shady Im chopped liver\n",
      "Well if you want Shady this is what Ill give ya\n",
      "A little bit of weed mixed with some hard liquor\n",
      "Some vodka thatll jumpstart my heart quicker\n",
      "Than a shock when I get shocked at the hospital\n",
      "By the doctor when Im not cooperating\n",
      "When Im rockin the table while hes operating Hey\n",
      "You waited this long now stop debating\n",
      "Cause Im back Im on the rag and ovulating\n",
      "I know that you got a job Ms Cheney\n",
      "But your husbands heart problems complicating\n",
      "So the FCC wont let me be\n",
      "Or let me be me so let me see\n",
      "They tried to shut me down on MTV\n",
      "But it feels so empty without me\n",
      "So come on and dip bum on your lips\n",
      "Fuck that cum on your lips and some on your tits\n",
      "And get ready cause this shits about to get heavy\n",
      "I just settled all my lawsuits Fuck you Debbie\n",
      "\n",
      "Chorus Eminem\n",
      "Now this looks like a job for me\n",
      "So everybody just follow me\n",
      "Cause we need a little controversy\n",
      "Cause it feels so empty without me\n",
      "I said this looks like a job for me\n",
      "So everybody just follow me\n",
      "Cause we need a little controversy\n",
      "Cause it feels so empty without me\n",
      "\n",
      "Verse 2 Eminem\n",
      "Little hellions kids feeling rebellious\n",
      "Embarrassed their parents still listen to Elvis\n",
      "They start feelin like prisoners helpless\n",
      "Til someone comes along on a mission and yells Bitch\n",
      "A visionary vision is scary\n",
      "Could start a revolution pollutin the airwaves\n",
      "A rebel so just let me revel and bask\n",
      "In the fact that I got everyone kissin my ass\n",
      "And its a disaster such a catastrophe\n",
      "For you to see so damn much of my ass you asked for me\n",
      "Well Im back dananana nananananana\n",
      "Fix your bent antenna tune it in and then Im gonna\n",
      "Enter in and up under your skin like a splinter\n",
      "The center of attention back for the winter\n",
      "Im interesting the best thing since wrestling\n",
      "Infesting in your kids ears and nesting\n",
      "Testing Attention please\n",
      "Feel the tension soon as someone mentions me\n",
      "Heres my ten cents my two cents is free\n",
      "A nuisance who sent You sent for me\n",
      "\n",
      "Chorus Eminem\n",
      "Now this looks like a job for me\n",
      "So everybody just follow me\n",
      "Cause we need a little controversy\n",
      "Cause it feels so empty without me\n",
      "I said this looks like a job for me\n",
      "So everybody just follow me\n",
      "Cause we need a little controversy\n",
      "Cause it feels so empty without me\n",
      "\n",
      "Verse 3 Eminem\n",
      "A tisket a tasket Ill go titfortat wit\n",
      "Anybody whos talkin This shit that shit\n",
      "Chris Kirkpatrick you can get your ass kicked\n",
      "Worse than them little Limp Bizkit bastards\n",
      "And Moby You can get stomped by Obie\n",
      "You thirtysixyearold baldheaded fag blow me\n",
      "You dont know me youre too old let go\n",
      "Its over nobody listens to techno\n",
      "Now lets go just give me the signal\n",
      "Ill be there with a whole list full of new insults\n",
      "Ive been dope suspenseful with a pencil\n",
      "Ever since Prince turned himself into a symbol\n",
      "But sometimes the shit just seems\n",
      "Everybody only wants to discuss me\n",
      "So this must mean Im disgusting\n",
      "But its just me Im just obscene Yeah\n",
      "Though Im not the first king of controversy\n",
      "I am the worst thing since Elvis Presley\n",
      "To do Black music so selfishly\n",
      "And use it to get myself wealthy Hey\n",
      "Theres a concept that works\n",
      "Twenty million other white rappers emerge\n",
      "But no matter how many fish in the sea\n",
      "Itd be so empty without me\n",
      "\n",
      "Chorus Eminem\n",
      "Now this looks like a job for me\n",
      "So everybody just follow me\n",
      "Cause we need a little controversy\n",
      "Cause it feels so empty without me\n",
      "I said this looks like a job for me\n",
      "So everybody just follow me\n",
      "Cause we need a little controversy\n",
      "Cause it feels so empty without me\n",
      "\n",
      "Outro Eminem\n",
      "Hum deidei lala\n",
      "Lala lalala\n",
      "Lala lalala\n",
      "Lala lala\n",
      "Hum deidei lala\n",
      "Lala lalala\n",
      "Lala lalala\n",
      "Lala lala\n",
      "Kids\n"
     ]
    }
   ],
   "source": [
    "print(cleaned_text) # list where we have single character, now we have to rebuild the words"
   ]
  },
  {
   "cell_type": "markdown",
   "metadata": {},
   "source": [
    "method 2"
   ]
  },
  {
   "cell_type": "code",
   "execution_count": 149,
   "metadata": {},
   "outputs": [],
   "source": [
    "# second method: regular expressions\n",
    "\n",
    "import re"
   ]
  },
  {
   "cell_type": "code",
   "execution_count": 163,
   "metadata": {},
   "outputs": [],
   "source": [
    "cleaned_text = re.sub(\"[,.?\\\\[\\\\]:]\", \"\", my_text)  # sub stands for substitutes"
   ]
  },
  {
   "cell_type": "code",
   "execution_count": 164,
   "metadata": {},
   "outputs": [
    {
     "name": "stdout",
     "output_type": "stream",
     "text": [
      "Intro Obie Trice\n",
      "Obie Trice real name no gimmicks\n",
      "Ra—\n",
      "\n",
      "Refrain 1 Eminem\n",
      "Two trailer-park girls go round the outside\n",
      "Round the outside round the outside\n",
      "Two trailer-park girls go round the outside\n",
      "Round the outside round the outside\n",
      "Woo! (Ooh ooh)\n",
      "\n",
      "Refrain 2 Eminem\n",
      "Guess who's back back again\n",
      "Shady's back tell a friend\n",
      "Guess who's back Guess who's back\n",
      "Guess who's back Guess who's back\n",
      "Guess who's back Guess who's back\n",
      "Guess who's back\n",
      "(Da-da-da da da da da da da)\n",
      "(Da-da-da da da da da)\n",
      "\n",
      "Verse 1 Eminem\n",
      "I've created a monster\n",
      "'Cause nobody wants to see Marshall no more they want Shady I'm chopped liver\n",
      "Well if you want Shady this is what I'll give ya\n",
      "A little bit of weed mixed with some hard liquor\n",
      "Some vodka that'll jump-start my heart quicker\n",
      "Than a shock when I get shocked at the hospital\n",
      "By the doctor when I'm not cooperating\n",
      "When I'm rockin' the table while he's operating (Hey)\n",
      "You waited this long now stop debating\n",
      "'Cause I'm back I'm on the rag and ovulating\n",
      "I know that you got a job Ms Cheney\n",
      "But your husband's heart problem's complicating\n",
      "So the FCC won't let me be\n",
      "Or let me be me so let me see\n",
      "They tried to shut me down on MTV\n",
      "But it feels so empty without me\n",
      "So come on and dip bum on your lips\n",
      "Fuck that cum on your lips and some on your tits\n",
      "And get ready 'cause this shit's about to get heavy\n",
      "I just settled all my lawsuits (Fuck you Debbie)\n",
      "\n",
      "Chorus Eminem\n",
      "Now this looks like a job for me\n",
      "So everybody just follow me\n",
      "'Cause we need a little controversy\n",
      "'Cause it feels so empty without me\n",
      "I said this looks like a job for me\n",
      "So everybody just follow me\n",
      "'Cause we need a little controversy\n",
      "'Cause it feels so empty without me\n",
      "\n",
      "Verse 2 Eminem\n",
      "Little hellions kids feeling rebellious\n",
      "Embarrassed their parents still listen to Elvis\n",
      "They start feelin' like prisoners helpless\n",
      "'Til someone comes along on a mission and yells \"Bitch\"\n",
      "A visionary vision is scary\n",
      "Could start a revolution pollutin' the airwaves\n",
      "A rebel so just let me revel and bask\n",
      "In the fact that I got everyone kissin' my ass\n",
      "And it's a disaster such a catastrophe\n",
      "For you to see so damn much of my ass you asked for me\n",
      "Well I'm back da-na-na-na na-na-na-na-na-na\n",
      "Fix your bent antenna tune it in and then I'm gonna\n",
      "Enter in and up under your skin like a splinter\n",
      "The center of attention back for the winter\n",
      "I'm interesting the best thing since wrestling\n",
      "Infesting in your kid's ears and nesting\n",
      "Testing \"Attention please\"\n",
      "Feel the tension soon as someone mentions me\n",
      "Here's my ten cents my two cents is free\n",
      "A nuisance who sent You sent for me\n",
      "\n",
      "Chorus Eminem\n",
      "Now this looks like a job for me\n",
      "So everybody just follow me\n",
      "'Cause we need a little controversy\n",
      "'Cause it feels so empty without me\n",
      "I said this looks like a job for me\n",
      "So everybody just follow me\n",
      "'Cause we need a little controversy\n",
      "'Cause it feels so empty without me\n",
      "\n",
      "Verse 3 Eminem\n",
      "A tisket a tasket I'll go tit-for-tat wit'\n",
      "Anybody who's talkin' \"This shit that shit\"\n",
      "Chris Kirkpatrick you can get your ass kicked\n",
      "Worse than them little Limp Bizkit bastards\n",
      "And Moby You can get stomped by Obie\n",
      "You thirty-six-year-old bald-headed fag blow me\n",
      "You don't know me you're too old let go\n",
      "It's over nobody listens to techno\n",
      "Now let's go just give me the signal\n",
      "I'll be there with a whole list full of new insults\n",
      "I've been dope suspenseful with a pencil\n",
      "Ever since Prince turned himself into a symbol\n",
      "But sometimes the shit just seems\n",
      "Everybody only wants to discuss me\n",
      "So this must mean I'm disgusting\n",
      "But it's just me I'm just obscene (Yeah)\n",
      "Though I'm not the first king of controversy\n",
      "I am the worst thing since Elvis Presley\n",
      "To do Black music so selfishly\n",
      "And use it to get myself wealthy (Hey)\n",
      "There's a concept that works\n",
      "Twenty million other white rappers emerge\n",
      "But no matter how many fish in the sea\n",
      "It'd be so empty without me\n",
      "\n",
      "Chorus Eminem\n",
      "Now this looks like a job for me\n",
      "So everybody just follow me\n",
      "'Cause we need a little controversy\n",
      "'Cause it feels so empty without me\n",
      "I said this looks like a job for me\n",
      "So everybody just follow me\n",
      "'Cause we need a little controversy\n",
      "'Cause it feels so empty without me\n",
      "\n",
      "Outro Eminem\n",
      "Hum dei-dei la-la\n",
      "La-la la-la-la\n",
      "La-la la-la-la\n",
      "La-la la-la\n",
      "Hum dei-dei la-la\n",
      "La-la la-la-la\n",
      "La-la la-la-la\n",
      "La-la la-la\n",
      "Kids\n"
     ]
    }
   ],
   "source": [
    "print(cleaned_text)"
   ]
  },
  {
   "cell_type": "markdown",
   "metadata": {},
   "source": [
    "method 3"
   ]
  },
  {
   "cell_type": "code",
   "execution_count": 174,
   "metadata": {},
   "outputs": [],
   "source": [
    "translation_table = str.maketrans('', '', string.punctuation)\n",
    "cleaned_text = my_text.translate(translation_table)"
   ]
  },
  {
   "cell_type": "code",
   "execution_count": 175,
   "metadata": {},
   "outputs": [
    {
     "name": "stdout",
     "output_type": "stream",
     "text": [
      "Intro Obie Trice\n",
      "Obie Trice real name no gimmicks\n",
      "Ra—\n",
      "\n",
      "Refrain 1 Eminem\n",
      "Two trailerpark girls go round the outside\n",
      "Round the outside round the outside\n",
      "Two trailerpark girls go round the outside\n",
      "Round the outside round the outside\n",
      "Woo Ooh ooh\n",
      "\n",
      "Refrain 2 Eminem\n",
      "Guess whos back back again\n",
      "Shadys back tell a friend\n",
      "Guess whos back Guess whos back\n",
      "Guess whos back Guess whos back\n",
      "Guess whos back Guess whos back\n",
      "Guess whos back\n",
      "Dadada da da da da da da\n",
      "Dadada da da da da\n",
      "\n",
      "Verse 1 Eminem\n",
      "Ive created a monster\n",
      "Cause nobody wants to see Marshall no more they want Shady Im chopped liver\n",
      "Well if you want Shady this is what Ill give ya\n",
      "A little bit of weed mixed with some hard liquor\n",
      "Some vodka thatll jumpstart my heart quicker\n",
      "Than a shock when I get shocked at the hospital\n",
      "By the doctor when Im not cooperating\n",
      "When Im rockin the table while hes operating Hey\n",
      "You waited this long now stop debating\n",
      "Cause Im back Im on the rag and ovulating\n",
      "I know that you got a job Ms Cheney\n",
      "But your husbands heart problems complicating\n",
      "So the FCC wont let me be\n",
      "Or let me be me so let me see\n",
      "They tried to shut me down on MTV\n",
      "But it feels so empty without me\n",
      "So come on and dip bum on your lips\n",
      "Fuck that cum on your lips and some on your tits\n",
      "And get ready cause this shits about to get heavy\n",
      "I just settled all my lawsuits Fuck you Debbie\n",
      "\n",
      "Chorus Eminem\n",
      "Now this looks like a job for me\n",
      "So everybody just follow me\n",
      "Cause we need a little controversy\n",
      "Cause it feels so empty without me\n",
      "I said this looks like a job for me\n",
      "So everybody just follow me\n",
      "Cause we need a little controversy\n",
      "Cause it feels so empty without me\n",
      "\n",
      "Verse 2 Eminem\n",
      "Little hellions kids feeling rebellious\n",
      "Embarrassed their parents still listen to Elvis\n",
      "They start feelin like prisoners helpless\n",
      "Til someone comes along on a mission and yells Bitch\n",
      "A visionary vision is scary\n",
      "Could start a revolution pollutin the airwaves\n",
      "A rebel so just let me revel and bask\n",
      "In the fact that I got everyone kissin my ass\n",
      "And its a disaster such a catastrophe\n",
      "For you to see so damn much of my ass you asked for me\n",
      "Well Im back dananana nananananana\n",
      "Fix your bent antenna tune it in and then Im gonna\n",
      "Enter in and up under your skin like a splinter\n",
      "The center of attention back for the winter\n",
      "Im interesting the best thing since wrestling\n",
      "Infesting in your kids ears and nesting\n",
      "Testing Attention please\n",
      "Feel the tension soon as someone mentions me\n",
      "Heres my ten cents my two cents is free\n",
      "A nuisance who sent You sent for me\n",
      "\n",
      "Chorus Eminem\n",
      "Now this looks like a job for me\n",
      "So everybody just follow me\n",
      "Cause we need a little controversy\n",
      "Cause it feels so empty without me\n",
      "I said this looks like a job for me\n",
      "So everybody just follow me\n",
      "Cause we need a little controversy\n",
      "Cause it feels so empty without me\n",
      "\n",
      "Verse 3 Eminem\n",
      "A tisket a tasket Ill go titfortat wit\n",
      "Anybody whos talkin This shit that shit\n",
      "Chris Kirkpatrick you can get your ass kicked\n",
      "Worse than them little Limp Bizkit bastards\n",
      "And Moby You can get stomped by Obie\n",
      "You thirtysixyearold baldheaded fag blow me\n",
      "You dont know me youre too old let go\n",
      "Its over nobody listens to techno\n",
      "Now lets go just give me the signal\n",
      "Ill be there with a whole list full of new insults\n",
      "Ive been dope suspenseful with a pencil\n",
      "Ever since Prince turned himself into a symbol\n",
      "But sometimes the shit just seems\n",
      "Everybody only wants to discuss me\n",
      "So this must mean Im disgusting\n",
      "But its just me Im just obscene Yeah\n",
      "Though Im not the first king of controversy\n",
      "I am the worst thing since Elvis Presley\n",
      "To do Black music so selfishly\n",
      "And use it to get myself wealthy Hey\n",
      "Theres a concept that works\n",
      "Twenty million other white rappers emerge\n",
      "But no matter how many fish in the sea\n",
      "Itd be so empty without me\n",
      "\n",
      "Chorus Eminem\n",
      "Now this looks like a job for me\n",
      "So everybody just follow me\n",
      "Cause we need a little controversy\n",
      "Cause it feels so empty without me\n",
      "I said this looks like a job for me\n",
      "So everybody just follow me\n",
      "Cause we need a little controversy\n",
      "Cause it feels so empty without me\n",
      "\n",
      "Outro Eminem\n",
      "Hum deidei lala\n",
      "Lala lalala\n",
      "Lala lalala\n",
      "Lala lala\n",
      "Hum deidei lala\n",
      "Lala lalala\n",
      "Lala lalala\n",
      "Lala lala\n",
      "Kids\n"
     ]
    }
   ],
   "source": [
    "print(cleaned_text)"
   ]
  },
  {
   "cell_type": "markdown",
   "metadata": {},
   "source": [
    "now we have make everything lower and to tokeneize the text"
   ]
  },
  {
   "cell_type": "code",
   "execution_count": 176,
   "metadata": {},
   "outputs": [],
   "source": [
    "my_lower_text = cleaned_text.lower()"
   ]
  },
  {
   "cell_type": "code",
   "execution_count": 177,
   "metadata": {},
   "outputs": [],
   "source": [
    "my_split_text = my_lower_text.split()"
   ]
  },
  {
   "cell_type": "code",
   "execution_count": 178,
   "metadata": {},
   "outputs": [
    {
     "name": "stdout",
     "output_type": "stream",
     "text": [
      "['intro', 'obie', 'trice', 'obie', 'trice', 'real', 'name', 'no', 'gimmicks', 'ra—', 'refrain', '1', 'eminem', 'two', 'trailerpark', 'girls', 'go', 'round', 'the', 'outside', 'round', 'the', 'outside', 'round', 'the', 'outside', 'two', 'trailerpark', 'girls', 'go', 'round', 'the', 'outside', 'round', 'the', 'outside', 'round', 'the', 'outside', 'woo', 'ooh', 'ooh', 'refrain', '2', 'eminem', 'guess', 'whos', 'back', 'back', 'again', 'shadys', 'back', 'tell', 'a', 'friend', 'guess', 'whos', 'back', 'guess', 'whos', 'back', 'guess', 'whos', 'back', 'guess', 'whos', 'back', 'guess', 'whos', 'back', 'guess', 'whos', 'back', 'guess', 'whos', 'back', 'dadada', 'da', 'da', 'da', 'da', 'da', 'da', 'dadada', 'da', 'da', 'da', 'da', 'verse', '1', 'eminem', 'ive', 'created', 'a', 'monster', 'cause', 'nobody', 'wants', 'to', 'see', 'marshall', 'no', 'more', 'they', 'want', 'shady', 'im', 'chopped', 'liver', 'well', 'if', 'you', 'want', 'shady', 'this', 'is', 'what', 'ill', 'give', 'ya', 'a', 'little', 'bit', 'of', 'weed', 'mixed', 'with', 'some', 'hard', 'liquor', 'some', 'vodka', 'thatll', 'jumpstart', 'my', 'heart', 'quicker', 'than', 'a', 'shock', 'when', 'i', 'get', 'shocked', 'at', 'the', 'hospital', 'by', 'the', 'doctor', 'when', 'im', 'not', 'cooperating', 'when', 'im', 'rockin', 'the', 'table', 'while', 'hes', 'operating', 'hey', 'you', 'waited', 'this', 'long', 'now', 'stop', 'debating', 'cause', 'im', 'back', 'im', 'on', 'the', 'rag', 'and', 'ovulating', 'i', 'know', 'that', 'you', 'got', 'a', 'job', 'ms', 'cheney', 'but', 'your', 'husbands', 'heart', 'problems', 'complicating', 'so', 'the', 'fcc', 'wont', 'let', 'me', 'be', 'or', 'let', 'me', 'be', 'me', 'so', 'let', 'me', 'see', 'they', 'tried', 'to', 'shut', 'me', 'down', 'on', 'mtv', 'but', 'it', 'feels', 'so', 'empty', 'without', 'me', 'so', 'come', 'on', 'and', 'dip', 'bum', 'on', 'your', 'lips', 'fuck', 'that', 'cum', 'on', 'your', 'lips', 'and', 'some', 'on', 'your', 'tits', 'and', 'get', 'ready', 'cause', 'this', 'shits', 'about', 'to', 'get', 'heavy', 'i', 'just', 'settled', 'all', 'my', 'lawsuits', 'fuck', 'you', 'debbie', 'chorus', 'eminem', 'now', 'this', 'looks', 'like', 'a', 'job', 'for', 'me', 'so', 'everybody', 'just', 'follow', 'me', 'cause', 'we', 'need', 'a', 'little', 'controversy', 'cause', 'it', 'feels', 'so', 'empty', 'without', 'me', 'i', 'said', 'this', 'looks', 'like', 'a', 'job', 'for', 'me', 'so', 'everybody', 'just', 'follow', 'me', 'cause', 'we', 'need', 'a', 'little', 'controversy', 'cause', 'it', 'feels', 'so', 'empty', 'without', 'me', 'verse', '2', 'eminem', 'little', 'hellions', 'kids', 'feeling', 'rebellious', 'embarrassed', 'their', 'parents', 'still', 'listen', 'to', 'elvis', 'they', 'start', 'feelin', 'like', 'prisoners', 'helpless', 'til', 'someone', 'comes', 'along', 'on', 'a', 'mission', 'and', 'yells', 'bitch', 'a', 'visionary', 'vision', 'is', 'scary', 'could', 'start', 'a', 'revolution', 'pollutin', 'the', 'airwaves', 'a', 'rebel', 'so', 'just', 'let', 'me', 'revel', 'and', 'bask', 'in', 'the', 'fact', 'that', 'i', 'got', 'everyone', 'kissin', 'my', 'ass', 'and', 'its', 'a', 'disaster', 'such', 'a', 'catastrophe', 'for', 'you', 'to', 'see', 'so', 'damn', 'much', 'of', 'my', 'ass', 'you', 'asked', 'for', 'me', 'well', 'im', 'back', 'dananana', 'nananananana', 'fix', 'your', 'bent', 'antenna', 'tune', 'it', 'in', 'and', 'then', 'im', 'gonna', 'enter', 'in', 'and', 'up', 'under', 'your', 'skin', 'like', 'a', 'splinter', 'the', 'center', 'of', 'attention', 'back', 'for', 'the', 'winter', 'im', 'interesting', 'the', 'best', 'thing', 'since', 'wrestling', 'infesting', 'in', 'your', 'kids', 'ears', 'and', 'nesting', 'testing', 'attention', 'please', 'feel', 'the', 'tension', 'soon', 'as', 'someone', 'mentions', 'me', 'heres', 'my', 'ten', 'cents', 'my', 'two', 'cents', 'is', 'free', 'a', 'nuisance', 'who', 'sent', 'you', 'sent', 'for', 'me', 'chorus', 'eminem', 'now', 'this', 'looks', 'like', 'a', 'job', 'for', 'me', 'so', 'everybody', 'just', 'follow', 'me', 'cause', 'we', 'need', 'a', 'little', 'controversy', 'cause', 'it', 'feels', 'so', 'empty', 'without', 'me', 'i', 'said', 'this', 'looks', 'like', 'a', 'job', 'for', 'me', 'so', 'everybody', 'just', 'follow', 'me', 'cause', 'we', 'need', 'a', 'little', 'controversy', 'cause', 'it', 'feels', 'so', 'empty', 'without', 'me', 'verse', '3', 'eminem', 'a', 'tisket', 'a', 'tasket', 'ill', 'go', 'titfortat', 'wit', 'anybody', 'whos', 'talkin', 'this', 'shit', 'that', 'shit', 'chris', 'kirkpatrick', 'you', 'can', 'get', 'your', 'ass', 'kicked', 'worse', 'than', 'them', 'little', 'limp', 'bizkit', 'bastards', 'and', 'moby', 'you', 'can', 'get', 'stomped', 'by', 'obie', 'you', 'thirtysixyearold', 'baldheaded', 'fag', 'blow', 'me', 'you', 'dont', 'know', 'me', 'youre', 'too', 'old', 'let', 'go', 'its', 'over', 'nobody', 'listens', 'to', 'techno', 'now', 'lets', 'go', 'just', 'give', 'me', 'the', 'signal', 'ill', 'be', 'there', 'with', 'a', 'whole', 'list', 'full', 'of', 'new', 'insults', 'ive', 'been', 'dope', 'suspenseful', 'with', 'a', 'pencil', 'ever', 'since', 'prince', 'turned', 'himself', 'into', 'a', 'symbol', 'but', 'sometimes', 'the', 'shit', 'just', 'seems', 'everybody', 'only', 'wants', 'to', 'discuss', 'me', 'so', 'this', 'must', 'mean', 'im', 'disgusting', 'but', 'its', 'just', 'me', 'im', 'just', 'obscene', 'yeah', 'though', 'im', 'not', 'the', 'first', 'king', 'of', 'controversy', 'i', 'am', 'the', 'worst', 'thing', 'since', 'elvis', 'presley', 'to', 'do', 'black', 'music', 'so', 'selfishly', 'and', 'use', 'it', 'to', 'get', 'myself', 'wealthy', 'hey', 'theres', 'a', 'concept', 'that', 'works', 'twenty', 'million', 'other', 'white', 'rappers', 'emerge', 'but', 'no', 'matter', 'how', 'many', 'fish', 'in', 'the', 'sea', 'itd', 'be', 'so', 'empty', 'without', 'me', 'chorus', 'eminem', 'now', 'this', 'looks', 'like', 'a', 'job', 'for', 'me', 'so', 'everybody', 'just', 'follow', 'me', 'cause', 'we', 'need', 'a', 'little', 'controversy', 'cause', 'it', 'feels', 'so', 'empty', 'without', 'me', 'i', 'said', 'this', 'looks', 'like', 'a', 'job', 'for', 'me', 'so', 'everybody', 'just', 'follow', 'me', 'cause', 'we', 'need', 'a', 'little', 'controversy', 'cause', 'it', 'feels', 'so', 'empty', 'without', 'me', 'outro', 'eminem', 'hum', 'deidei', 'lala', 'lala', 'lalala', 'lala', 'lalala', 'lala', 'lala', 'hum', 'deidei', 'lala', 'lala', 'lalala', 'lala', 'lalala', 'lala', 'lala', 'kids']\n"
     ]
    }
   ],
   "source": [
    "print(my_split_text)"
   ]
  },
  {
   "cell_type": "markdown",
   "metadata": {},
   "source": [
    "we are going to create a dictionary that is going to tell us how many times each word in our text appears"
   ]
  },
  {
   "cell_type": "code",
   "execution_count": 179,
   "metadata": {},
   "outputs": [],
   "source": [
    "word_count = {}\n",
    "\n",
    "for word in my_split_text:\n",
    "    if word not in word_count:\n",
    "        # word never met before so must be added to the dict\n",
    "        word_count[word] = 1\n",
    "    else:\n",
    "        # word already met so we have to increase the counter\n",
    "        word_count[word] += 1"
   ]
  },
  {
   "cell_type": "code",
   "execution_count": 180,
   "metadata": {},
   "outputs": [
    {
     "name": "stdout",
     "output_type": "stream",
     "text": [
      "{'intro': 1, 'obie': 3, 'trice': 2, 'real': 1, 'name': 1, 'no': 3, 'gimmicks': 1, 'ra—': 1, 'refrain': 2, '1': 2, 'eminem': 9, 'two': 3, 'trailerpark': 2, 'girls': 2, 'go': 5, 'round': 6, 'the': 22, 'outside': 6, 'woo': 1, 'ooh': 2, '2': 2, 'guess': 8, 'whos': 9, 'back': 13, 'again': 1, 'shadys': 1, 'tell': 1, 'a': 31, 'friend': 1, 'dadada': 2, 'da': 10, 'verse': 3, 'ive': 2, 'created': 1, 'monster': 1, 'cause': 15, 'nobody': 2, 'wants': 2, 'to': 9, 'see': 3, 'marshall': 1, 'more': 1, 'they': 3, 'want': 2, 'shady': 2, 'im': 11, 'chopped': 1, 'liver': 1, 'well': 2, 'if': 1, 'you': 11, 'this': 11, 'is': 3, 'what': 1, 'ill': 3, 'give': 2, 'ya': 1, 'little': 9, 'bit': 1, 'of': 5, 'weed': 1, 'mixed': 1, 'with': 3, 'some': 3, 'hard': 1, 'liquor': 1, 'vodka': 1, 'thatll': 1, 'jumpstart': 1, 'my': 6, 'heart': 2, 'quicker': 1, 'than': 2, 'shock': 1, 'when': 3, 'i': 8, 'get': 6, 'shocked': 1, 'at': 1, 'hospital': 1, 'by': 2, 'doctor': 1, 'not': 2, 'cooperating': 1, 'rockin': 1, 'table': 1, 'while': 1, 'hes': 1, 'operating': 1, 'hey': 2, 'waited': 1, 'long': 1, 'now': 5, 'stop': 1, 'debating': 1, 'on': 7, 'rag': 1, 'and': 12, 'ovulating': 1, 'know': 2, 'that': 5, 'got': 2, 'job': 7, 'ms': 1, 'cheney': 1, 'but': 5, 'your': 8, 'husbands': 1, 'problems': 1, 'complicating': 1, 'so': 21, 'fcc': 1, 'wont': 1, 'let': 5, 'me': 34, 'be': 4, 'or': 1, 'tried': 1, 'shut': 1, 'down': 1, 'mtv': 1, 'it': 9, 'feels': 7, 'empty': 8, 'without': 8, 'come': 1, 'dip': 1, 'bum': 1, 'lips': 2, 'fuck': 2, 'cum': 1, 'tits': 1, 'ready': 1, 'shits': 1, 'about': 1, 'heavy': 1, 'just': 12, 'settled': 1, 'all': 1, 'lawsuits': 1, 'debbie': 1, 'chorus': 3, 'looks': 6, 'like': 8, 'for': 10, 'everybody': 7, 'follow': 6, 'we': 6, 'need': 6, 'controversy': 7, 'said': 3, 'hellions': 1, 'kids': 3, 'feeling': 1, 'rebellious': 1, 'embarrassed': 1, 'their': 1, 'parents': 1, 'still': 1, 'listen': 1, 'elvis': 2, 'start': 2, 'feelin': 1, 'prisoners': 1, 'helpless': 1, 'til': 1, 'someone': 2, 'comes': 1, 'along': 1, 'mission': 1, 'yells': 1, 'bitch': 1, 'visionary': 1, 'vision': 1, 'scary': 1, 'could': 1, 'revolution': 1, 'pollutin': 1, 'airwaves': 1, 'rebel': 1, 'revel': 1, 'bask': 1, 'in': 5, 'fact': 1, 'everyone': 1, 'kissin': 1, 'ass': 3, 'its': 3, 'disaster': 1, 'such': 1, 'catastrophe': 1, 'damn': 1, 'much': 1, 'asked': 1, 'dananana': 1, 'nananananana': 1, 'fix': 1, 'bent': 1, 'antenna': 1, 'tune': 1, 'then': 1, 'gonna': 1, 'enter': 1, 'up': 1, 'under': 1, 'skin': 1, 'splinter': 1, 'center': 1, 'attention': 2, 'winter': 1, 'interesting': 1, 'best': 1, 'thing': 2, 'since': 3, 'wrestling': 1, 'infesting': 1, 'ears': 1, 'nesting': 1, 'testing': 1, 'please': 1, 'feel': 1, 'tension': 1, 'soon': 1, 'as': 1, 'mentions': 1, 'heres': 1, 'ten': 1, 'cents': 2, 'free': 1, 'nuisance': 1, 'who': 1, 'sent': 2, '3': 1, 'tisket': 1, 'tasket': 1, 'titfortat': 1, 'wit': 1, 'anybody': 1, 'talkin': 1, 'shit': 3, 'chris': 1, 'kirkpatrick': 1, 'can': 2, 'kicked': 1, 'worse': 1, 'them': 1, 'limp': 1, 'bizkit': 1, 'bastards': 1, 'moby': 1, 'stomped': 1, 'thirtysixyearold': 1, 'baldheaded': 1, 'fag': 1, 'blow': 1, 'dont': 1, 'youre': 1, 'too': 1, 'old': 1, 'over': 1, 'listens': 1, 'techno': 1, 'lets': 1, 'signal': 1, 'there': 1, 'whole': 1, 'list': 1, 'full': 1, 'new': 1, 'insults': 1, 'been': 1, 'dope': 1, 'suspenseful': 1, 'pencil': 1, 'ever': 1, 'prince': 1, 'turned': 1, 'himself': 1, 'into': 1, 'symbol': 1, 'sometimes': 1, 'seems': 1, 'only': 1, 'discuss': 1, 'must': 1, 'mean': 1, 'disgusting': 1, 'obscene': 1, 'yeah': 1, 'though': 1, 'first': 1, 'king': 1, 'am': 1, 'worst': 1, 'presley': 1, 'do': 1, 'black': 1, 'music': 1, 'selfishly': 1, 'use': 1, 'myself': 1, 'wealthy': 1, 'theres': 1, 'concept': 1, 'works': 1, 'twenty': 1, 'million': 1, 'other': 1, 'white': 1, 'rappers': 1, 'emerge': 1, 'matter': 1, 'how': 1, 'many': 1, 'fish': 1, 'sea': 1, 'itd': 1, 'outro': 1, 'hum': 2, 'deidei': 2, 'lala': 10, 'lalala': 4}\n"
     ]
    }
   ],
   "source": [
    "print(word_count)"
   ]
  },
  {
   "cell_type": "code",
   "execution_count": 183,
   "metadata": {},
   "outputs": [
    {
     "name": "stdout",
     "output_type": "stream",
     "text": [
      "your word intro has frequecy: 1\n",
      "your word obie has frequecy: 3\n",
      "your word trice has frequecy: 2\n",
      "your word real has frequecy: 1\n",
      "your word name has frequecy: 1\n",
      "your word no has frequecy: 3\n",
      "your word gimmicks has frequecy: 1\n",
      "your word ra— has frequecy: 1\n",
      "your word refrain has frequecy: 2\n",
      "your word 1 has frequecy: 2\n",
      "your word eminem has frequecy: 9\n",
      "your word two has frequecy: 3\n",
      "your word trailerpark has frequecy: 2\n",
      "your word girls has frequecy: 2\n",
      "your word go has frequecy: 5\n",
      "your word round has frequecy: 6\n",
      "your word the has frequecy: 22\n",
      "your word outside has frequecy: 6\n",
      "your word woo has frequecy: 1\n",
      "your word ooh has frequecy: 2\n",
      "your word 2 has frequecy: 2\n",
      "your word guess has frequecy: 8\n",
      "your word whos has frequecy: 9\n",
      "your word back has frequecy: 13\n",
      "your word again has frequecy: 1\n",
      "your word shadys has frequecy: 1\n",
      "your word tell has frequecy: 1\n",
      "your word a has frequecy: 31\n",
      "your word friend has frequecy: 1\n",
      "your word dadada has frequecy: 2\n",
      "your word da has frequecy: 10\n",
      "your word verse has frequecy: 3\n",
      "your word ive has frequecy: 2\n",
      "your word created has frequecy: 1\n",
      "your word monster has frequecy: 1\n",
      "your word cause has frequecy: 15\n",
      "your word nobody has frequecy: 2\n",
      "your word wants has frequecy: 2\n",
      "your word to has frequecy: 9\n",
      "your word see has frequecy: 3\n",
      "your word marshall has frequecy: 1\n",
      "your word more has frequecy: 1\n",
      "your word they has frequecy: 3\n",
      "your word want has frequecy: 2\n",
      "your word shady has frequecy: 2\n",
      "your word im has frequecy: 11\n",
      "your word chopped has frequecy: 1\n",
      "your word liver has frequecy: 1\n",
      "your word well has frequecy: 2\n",
      "your word if has frequecy: 1\n",
      "your word you has frequecy: 11\n",
      "your word this has frequecy: 11\n",
      "your word is has frequecy: 3\n",
      "your word what has frequecy: 1\n",
      "your word ill has frequecy: 3\n",
      "your word give has frequecy: 2\n",
      "your word ya has frequecy: 1\n",
      "your word little has frequecy: 9\n",
      "your word bit has frequecy: 1\n",
      "your word of has frequecy: 5\n",
      "your word weed has frequecy: 1\n",
      "your word mixed has frequecy: 1\n",
      "your word with has frequecy: 3\n",
      "your word some has frequecy: 3\n",
      "your word hard has frequecy: 1\n",
      "your word liquor has frequecy: 1\n",
      "your word vodka has frequecy: 1\n",
      "your word thatll has frequecy: 1\n",
      "your word jumpstart has frequecy: 1\n",
      "your word my has frequecy: 6\n",
      "your word heart has frequecy: 2\n",
      "your word quicker has frequecy: 1\n",
      "your word than has frequecy: 2\n",
      "your word shock has frequecy: 1\n",
      "your word when has frequecy: 3\n",
      "your word i has frequecy: 8\n",
      "your word get has frequecy: 6\n",
      "your word shocked has frequecy: 1\n",
      "your word at has frequecy: 1\n",
      "your word hospital has frequecy: 1\n",
      "your word by has frequecy: 2\n",
      "your word doctor has frequecy: 1\n",
      "your word not has frequecy: 2\n",
      "your word cooperating has frequecy: 1\n",
      "your word rockin has frequecy: 1\n",
      "your word table has frequecy: 1\n",
      "your word while has frequecy: 1\n",
      "your word hes has frequecy: 1\n",
      "your word operating has frequecy: 1\n",
      "your word hey has frequecy: 2\n",
      "your word waited has frequecy: 1\n",
      "your word long has frequecy: 1\n",
      "your word now has frequecy: 5\n",
      "your word stop has frequecy: 1\n",
      "your word debating has frequecy: 1\n",
      "your word on has frequecy: 7\n",
      "your word rag has frequecy: 1\n",
      "your word and has frequecy: 12\n",
      "your word ovulating has frequecy: 1\n",
      "your word know has frequecy: 2\n",
      "your word that has frequecy: 5\n",
      "your word got has frequecy: 2\n",
      "your word job has frequecy: 7\n",
      "your word ms has frequecy: 1\n",
      "your word cheney has frequecy: 1\n",
      "your word but has frequecy: 5\n",
      "your word your has frequecy: 8\n",
      "your word husbands has frequecy: 1\n",
      "your word problems has frequecy: 1\n",
      "your word complicating has frequecy: 1\n",
      "your word so has frequecy: 21\n",
      "your word fcc has frequecy: 1\n",
      "your word wont has frequecy: 1\n",
      "your word let has frequecy: 5\n",
      "your word me has frequecy: 34\n",
      "your word be has frequecy: 4\n",
      "your word or has frequecy: 1\n",
      "your word tried has frequecy: 1\n",
      "your word shut has frequecy: 1\n",
      "your word down has frequecy: 1\n",
      "your word mtv has frequecy: 1\n",
      "your word it has frequecy: 9\n",
      "your word feels has frequecy: 7\n",
      "your word empty has frequecy: 8\n",
      "your word without has frequecy: 8\n",
      "your word come has frequecy: 1\n",
      "your word dip has frequecy: 1\n",
      "your word bum has frequecy: 1\n",
      "your word lips has frequecy: 2\n",
      "your word fuck has frequecy: 2\n",
      "your word cum has frequecy: 1\n",
      "your word tits has frequecy: 1\n",
      "your word ready has frequecy: 1\n",
      "your word shits has frequecy: 1\n",
      "your word about has frequecy: 1\n",
      "your word heavy has frequecy: 1\n",
      "your word just has frequecy: 12\n",
      "your word settled has frequecy: 1\n",
      "your word all has frequecy: 1\n",
      "your word lawsuits has frequecy: 1\n",
      "your word debbie has frequecy: 1\n",
      "your word chorus has frequecy: 3\n",
      "your word looks has frequecy: 6\n",
      "your word like has frequecy: 8\n",
      "your word for has frequecy: 10\n",
      "your word everybody has frequecy: 7\n",
      "your word follow has frequecy: 6\n",
      "your word we has frequecy: 6\n",
      "your word need has frequecy: 6\n",
      "your word controversy has frequecy: 7\n",
      "your word said has frequecy: 3\n",
      "your word hellions has frequecy: 1\n",
      "your word kids has frequecy: 3\n",
      "your word feeling has frequecy: 1\n",
      "your word rebellious has frequecy: 1\n",
      "your word embarrassed has frequecy: 1\n",
      "your word their has frequecy: 1\n",
      "your word parents has frequecy: 1\n",
      "your word still has frequecy: 1\n",
      "your word listen has frequecy: 1\n",
      "your word elvis has frequecy: 2\n",
      "your word start has frequecy: 2\n",
      "your word feelin has frequecy: 1\n",
      "your word prisoners has frequecy: 1\n",
      "your word helpless has frequecy: 1\n",
      "your word til has frequecy: 1\n",
      "your word someone has frequecy: 2\n",
      "your word comes has frequecy: 1\n",
      "your word along has frequecy: 1\n",
      "your word mission has frequecy: 1\n",
      "your word yells has frequecy: 1\n",
      "your word bitch has frequecy: 1\n",
      "your word visionary has frequecy: 1\n",
      "your word vision has frequecy: 1\n",
      "your word scary has frequecy: 1\n",
      "your word could has frequecy: 1\n",
      "your word revolution has frequecy: 1\n",
      "your word pollutin has frequecy: 1\n",
      "your word airwaves has frequecy: 1\n",
      "your word rebel has frequecy: 1\n",
      "your word revel has frequecy: 1\n",
      "your word bask has frequecy: 1\n",
      "your word in has frequecy: 5\n",
      "your word fact has frequecy: 1\n",
      "your word everyone has frequecy: 1\n",
      "your word kissin has frequecy: 1\n",
      "your word ass has frequecy: 3\n",
      "your word its has frequecy: 3\n",
      "your word disaster has frequecy: 1\n",
      "your word such has frequecy: 1\n",
      "your word catastrophe has frequecy: 1\n",
      "your word damn has frequecy: 1\n",
      "your word much has frequecy: 1\n",
      "your word asked has frequecy: 1\n",
      "your word dananana has frequecy: 1\n",
      "your word nananananana has frequecy: 1\n",
      "your word fix has frequecy: 1\n",
      "your word bent has frequecy: 1\n",
      "your word antenna has frequecy: 1\n",
      "your word tune has frequecy: 1\n",
      "your word then has frequecy: 1\n",
      "your word gonna has frequecy: 1\n",
      "your word enter has frequecy: 1\n",
      "your word up has frequecy: 1\n",
      "your word under has frequecy: 1\n",
      "your word skin has frequecy: 1\n",
      "your word splinter has frequecy: 1\n",
      "your word center has frequecy: 1\n",
      "your word attention has frequecy: 2\n",
      "your word winter has frequecy: 1\n",
      "your word interesting has frequecy: 1\n",
      "your word best has frequecy: 1\n",
      "your word thing has frequecy: 2\n",
      "your word since has frequecy: 3\n",
      "your word wrestling has frequecy: 1\n",
      "your word infesting has frequecy: 1\n",
      "your word ears has frequecy: 1\n",
      "your word nesting has frequecy: 1\n",
      "your word testing has frequecy: 1\n",
      "your word please has frequecy: 1\n",
      "your word feel has frequecy: 1\n",
      "your word tension has frequecy: 1\n",
      "your word soon has frequecy: 1\n",
      "your word as has frequecy: 1\n",
      "your word mentions has frequecy: 1\n",
      "your word heres has frequecy: 1\n",
      "your word ten has frequecy: 1\n",
      "your word cents has frequecy: 2\n",
      "your word free has frequecy: 1\n",
      "your word nuisance has frequecy: 1\n",
      "your word who has frequecy: 1\n",
      "your word sent has frequecy: 2\n",
      "your word 3 has frequecy: 1\n",
      "your word tisket has frequecy: 1\n",
      "your word tasket has frequecy: 1\n",
      "your word titfortat has frequecy: 1\n",
      "your word wit has frequecy: 1\n",
      "your word anybody has frequecy: 1\n",
      "your word talkin has frequecy: 1\n",
      "your word shit has frequecy: 3\n",
      "your word chris has frequecy: 1\n",
      "your word kirkpatrick has frequecy: 1\n",
      "your word can has frequecy: 2\n",
      "your word kicked has frequecy: 1\n",
      "your word worse has frequecy: 1\n",
      "your word them has frequecy: 1\n",
      "your word limp has frequecy: 1\n",
      "your word bizkit has frequecy: 1\n",
      "your word bastards has frequecy: 1\n",
      "your word moby has frequecy: 1\n",
      "your word stomped has frequecy: 1\n",
      "your word thirtysixyearold has frequecy: 1\n",
      "your word baldheaded has frequecy: 1\n",
      "your word fag has frequecy: 1\n",
      "your word blow has frequecy: 1\n",
      "your word dont has frequecy: 1\n",
      "your word youre has frequecy: 1\n",
      "your word too has frequecy: 1\n",
      "your word old has frequecy: 1\n",
      "your word over has frequecy: 1\n",
      "your word listens has frequecy: 1\n",
      "your word techno has frequecy: 1\n",
      "your word lets has frequecy: 1\n",
      "your word signal has frequecy: 1\n",
      "your word there has frequecy: 1\n",
      "your word whole has frequecy: 1\n",
      "your word list has frequecy: 1\n",
      "your word full has frequecy: 1\n",
      "your word new has frequecy: 1\n",
      "your word insults has frequecy: 1\n",
      "your word been has frequecy: 1\n",
      "your word dope has frequecy: 1\n",
      "your word suspenseful has frequecy: 1\n",
      "your word pencil has frequecy: 1\n",
      "your word ever has frequecy: 1\n",
      "your word prince has frequecy: 1\n",
      "your word turned has frequecy: 1\n",
      "your word himself has frequecy: 1\n",
      "your word into has frequecy: 1\n",
      "your word symbol has frequecy: 1\n",
      "your word sometimes has frequecy: 1\n",
      "your word seems has frequecy: 1\n",
      "your word only has frequecy: 1\n",
      "your word discuss has frequecy: 1\n",
      "your word must has frequecy: 1\n",
      "your word mean has frequecy: 1\n",
      "your word disgusting has frequecy: 1\n",
      "your word obscene has frequecy: 1\n",
      "your word yeah has frequecy: 1\n",
      "your word though has frequecy: 1\n",
      "your word first has frequecy: 1\n",
      "your word king has frequecy: 1\n",
      "your word am has frequecy: 1\n",
      "your word worst has frequecy: 1\n",
      "your word presley has frequecy: 1\n",
      "your word do has frequecy: 1\n",
      "your word black has frequecy: 1\n",
      "your word music has frequecy: 1\n",
      "your word selfishly has frequecy: 1\n",
      "your word use has frequecy: 1\n",
      "your word myself has frequecy: 1\n",
      "your word wealthy has frequecy: 1\n",
      "your word theres has frequecy: 1\n",
      "your word concept has frequecy: 1\n",
      "your word works has frequecy: 1\n",
      "your word twenty has frequecy: 1\n",
      "your word million has frequecy: 1\n",
      "your word other has frequecy: 1\n",
      "your word white has frequecy: 1\n",
      "your word rappers has frequecy: 1\n",
      "your word emerge has frequecy: 1\n",
      "your word matter has frequecy: 1\n",
      "your word how has frequecy: 1\n",
      "your word many has frequecy: 1\n",
      "your word fish has frequecy: 1\n",
      "your word sea has frequecy: 1\n",
      "your word itd has frequecy: 1\n",
      "your word outro has frequecy: 1\n",
      "your word hum has frequecy: 2\n",
      "your word deidei has frequecy: 2\n",
      "your word lala has frequecy: 10\n",
      "your word lalala has frequecy: 4\n"
     ]
    }
   ],
   "source": [
    "for w in word_count:\n",
    "    print(f'your word {w} has frequecy: {word_count[w]}')"
   ]
  },
  {
   "cell_type": "markdown",
   "metadata": {},
   "source": [
    "we now want to retrive the most frequent word"
   ]
  },
  {
   "cell_type": "code",
   "execution_count": 187,
   "metadata": {},
   "outputs": [],
   "source": [
    "from collections import Counter"
   ]
  },
  {
   "cell_type": "code",
   "execution_count": 205,
   "metadata": {},
   "outputs": [],
   "source": [
    "word_count_counter = Counter(word_count)"
   ]
  },
  {
   "cell_type": "code",
   "execution_count": 206,
   "metadata": {},
   "outputs": [
    {
     "name": "stdout",
     "output_type": "stream",
     "text": [
      "<class 'collections.Counter'>\n"
     ]
    }
   ],
   "source": [
    "print(type(word_count_counter))"
   ]
  },
  {
   "cell_type": "code",
   "execution_count": 207,
   "metadata": {},
   "outputs": [
    {
     "data": {
      "text/plain": [
       "Counter({'me': 34,\n",
       "         'a': 31,\n",
       "         'the': 22,\n",
       "         'so': 21,\n",
       "         'cause': 15,\n",
       "         'back': 13,\n",
       "         'and': 12,\n",
       "         'just': 12,\n",
       "         'im': 11,\n",
       "         'you': 11,\n",
       "         'this': 11,\n",
       "         'da': 10,\n",
       "         'for': 10,\n",
       "         'lala': 10,\n",
       "         'eminem': 9,\n",
       "         'whos': 9,\n",
       "         'to': 9,\n",
       "         'little': 9,\n",
       "         'it': 9,\n",
       "         'guess': 8,\n",
       "         'i': 8,\n",
       "         'your': 8,\n",
       "         'empty': 8,\n",
       "         'without': 8,\n",
       "         'like': 8,\n",
       "         'on': 7,\n",
       "         'job': 7,\n",
       "         'feels': 7,\n",
       "         'everybody': 7,\n",
       "         'controversy': 7,\n",
       "         'round': 6,\n",
       "         'outside': 6,\n",
       "         'my': 6,\n",
       "         'get': 6,\n",
       "         'looks': 6,\n",
       "         'follow': 6,\n",
       "         'we': 6,\n",
       "         'need': 6,\n",
       "         'go': 5,\n",
       "         'of': 5,\n",
       "         'now': 5,\n",
       "         'that': 5,\n",
       "         'but': 5,\n",
       "         'let': 5,\n",
       "         'in': 5,\n",
       "         'be': 4,\n",
       "         'lalala': 4,\n",
       "         'obie': 3,\n",
       "         'no': 3,\n",
       "         'two': 3,\n",
       "         'verse': 3,\n",
       "         'see': 3,\n",
       "         'they': 3,\n",
       "         'is': 3,\n",
       "         'ill': 3,\n",
       "         'with': 3,\n",
       "         'some': 3,\n",
       "         'when': 3,\n",
       "         'chorus': 3,\n",
       "         'said': 3,\n",
       "         'kids': 3,\n",
       "         'ass': 3,\n",
       "         'its': 3,\n",
       "         'since': 3,\n",
       "         'shit': 3,\n",
       "         'trice': 2,\n",
       "         'refrain': 2,\n",
       "         '1': 2,\n",
       "         'trailerpark': 2,\n",
       "         'girls': 2,\n",
       "         'ooh': 2,\n",
       "         '2': 2,\n",
       "         'dadada': 2,\n",
       "         'ive': 2,\n",
       "         'nobody': 2,\n",
       "         'wants': 2,\n",
       "         'want': 2,\n",
       "         'shady': 2,\n",
       "         'well': 2,\n",
       "         'give': 2,\n",
       "         'heart': 2,\n",
       "         'than': 2,\n",
       "         'by': 2,\n",
       "         'not': 2,\n",
       "         'hey': 2,\n",
       "         'know': 2,\n",
       "         'got': 2,\n",
       "         'lips': 2,\n",
       "         'fuck': 2,\n",
       "         'elvis': 2,\n",
       "         'start': 2,\n",
       "         'someone': 2,\n",
       "         'attention': 2,\n",
       "         'thing': 2,\n",
       "         'cents': 2,\n",
       "         'sent': 2,\n",
       "         'can': 2,\n",
       "         'hum': 2,\n",
       "         'deidei': 2,\n",
       "         'intro': 1,\n",
       "         'real': 1,\n",
       "         'name': 1,\n",
       "         'gimmicks': 1,\n",
       "         'ra—': 1,\n",
       "         'woo': 1,\n",
       "         'again': 1,\n",
       "         'shadys': 1,\n",
       "         'tell': 1,\n",
       "         'friend': 1,\n",
       "         'created': 1,\n",
       "         'monster': 1,\n",
       "         'marshall': 1,\n",
       "         'more': 1,\n",
       "         'chopped': 1,\n",
       "         'liver': 1,\n",
       "         'if': 1,\n",
       "         'what': 1,\n",
       "         'ya': 1,\n",
       "         'bit': 1,\n",
       "         'weed': 1,\n",
       "         'mixed': 1,\n",
       "         'hard': 1,\n",
       "         'liquor': 1,\n",
       "         'vodka': 1,\n",
       "         'thatll': 1,\n",
       "         'jumpstart': 1,\n",
       "         'quicker': 1,\n",
       "         'shock': 1,\n",
       "         'shocked': 1,\n",
       "         'at': 1,\n",
       "         'hospital': 1,\n",
       "         'doctor': 1,\n",
       "         'cooperating': 1,\n",
       "         'rockin': 1,\n",
       "         'table': 1,\n",
       "         'while': 1,\n",
       "         'hes': 1,\n",
       "         'operating': 1,\n",
       "         'waited': 1,\n",
       "         'long': 1,\n",
       "         'stop': 1,\n",
       "         'debating': 1,\n",
       "         'rag': 1,\n",
       "         'ovulating': 1,\n",
       "         'ms': 1,\n",
       "         'cheney': 1,\n",
       "         'husbands': 1,\n",
       "         'problems': 1,\n",
       "         'complicating': 1,\n",
       "         'fcc': 1,\n",
       "         'wont': 1,\n",
       "         'or': 1,\n",
       "         'tried': 1,\n",
       "         'shut': 1,\n",
       "         'down': 1,\n",
       "         'mtv': 1,\n",
       "         'come': 1,\n",
       "         'dip': 1,\n",
       "         'bum': 1,\n",
       "         'cum': 1,\n",
       "         'tits': 1,\n",
       "         'ready': 1,\n",
       "         'shits': 1,\n",
       "         'about': 1,\n",
       "         'heavy': 1,\n",
       "         'settled': 1,\n",
       "         'all': 1,\n",
       "         'lawsuits': 1,\n",
       "         'debbie': 1,\n",
       "         'hellions': 1,\n",
       "         'feeling': 1,\n",
       "         'rebellious': 1,\n",
       "         'embarrassed': 1,\n",
       "         'their': 1,\n",
       "         'parents': 1,\n",
       "         'still': 1,\n",
       "         'listen': 1,\n",
       "         'feelin': 1,\n",
       "         'prisoners': 1,\n",
       "         'helpless': 1,\n",
       "         'til': 1,\n",
       "         'comes': 1,\n",
       "         'along': 1,\n",
       "         'mission': 1,\n",
       "         'yells': 1,\n",
       "         'bitch': 1,\n",
       "         'visionary': 1,\n",
       "         'vision': 1,\n",
       "         'scary': 1,\n",
       "         'could': 1,\n",
       "         'revolution': 1,\n",
       "         'pollutin': 1,\n",
       "         'airwaves': 1,\n",
       "         'rebel': 1,\n",
       "         'revel': 1,\n",
       "         'bask': 1,\n",
       "         'fact': 1,\n",
       "         'everyone': 1,\n",
       "         'kissin': 1,\n",
       "         'disaster': 1,\n",
       "         'such': 1,\n",
       "         'catastrophe': 1,\n",
       "         'damn': 1,\n",
       "         'much': 1,\n",
       "         'asked': 1,\n",
       "         'dananana': 1,\n",
       "         'nananananana': 1,\n",
       "         'fix': 1,\n",
       "         'bent': 1,\n",
       "         'antenna': 1,\n",
       "         'tune': 1,\n",
       "         'then': 1,\n",
       "         'gonna': 1,\n",
       "         'enter': 1,\n",
       "         'up': 1,\n",
       "         'under': 1,\n",
       "         'skin': 1,\n",
       "         'splinter': 1,\n",
       "         'center': 1,\n",
       "         'winter': 1,\n",
       "         'interesting': 1,\n",
       "         'best': 1,\n",
       "         'wrestling': 1,\n",
       "         'infesting': 1,\n",
       "         'ears': 1,\n",
       "         'nesting': 1,\n",
       "         'testing': 1,\n",
       "         'please': 1,\n",
       "         'feel': 1,\n",
       "         'tension': 1,\n",
       "         'soon': 1,\n",
       "         'as': 1,\n",
       "         'mentions': 1,\n",
       "         'heres': 1,\n",
       "         'ten': 1,\n",
       "         'free': 1,\n",
       "         'nuisance': 1,\n",
       "         'who': 1,\n",
       "         '3': 1,\n",
       "         'tisket': 1,\n",
       "         'tasket': 1,\n",
       "         'titfortat': 1,\n",
       "         'wit': 1,\n",
       "         'anybody': 1,\n",
       "         'talkin': 1,\n",
       "         'chris': 1,\n",
       "         'kirkpatrick': 1,\n",
       "         'kicked': 1,\n",
       "         'worse': 1,\n",
       "         'them': 1,\n",
       "         'limp': 1,\n",
       "         'bizkit': 1,\n",
       "         'bastards': 1,\n",
       "         'moby': 1,\n",
       "         'stomped': 1,\n",
       "         'thirtysixyearold': 1,\n",
       "         'baldheaded': 1,\n",
       "         'fag': 1,\n",
       "         'blow': 1,\n",
       "         'dont': 1,\n",
       "         'youre': 1,\n",
       "         'too': 1,\n",
       "         'old': 1,\n",
       "         'over': 1,\n",
       "         'listens': 1,\n",
       "         'techno': 1,\n",
       "         'lets': 1,\n",
       "         'signal': 1,\n",
       "         'there': 1,\n",
       "         'whole': 1,\n",
       "         'list': 1,\n",
       "         'full': 1,\n",
       "         'new': 1,\n",
       "         'insults': 1,\n",
       "         'been': 1,\n",
       "         'dope': 1,\n",
       "         'suspenseful': 1,\n",
       "         'pencil': 1,\n",
       "         'ever': 1,\n",
       "         'prince': 1,\n",
       "         'turned': 1,\n",
       "         'himself': 1,\n",
       "         'into': 1,\n",
       "         'symbol': 1,\n",
       "         'sometimes': 1,\n",
       "         'seems': 1,\n",
       "         'only': 1,\n",
       "         'discuss': 1,\n",
       "         'must': 1,\n",
       "         'mean': 1,\n",
       "         'disgusting': 1,\n",
       "         'obscene': 1,\n",
       "         'yeah': 1,\n",
       "         'though': 1,\n",
       "         'first': 1,\n",
       "         'king': 1,\n",
       "         'am': 1,\n",
       "         'worst': 1,\n",
       "         'presley': 1,\n",
       "         'do': 1,\n",
       "         'black': 1,\n",
       "         'music': 1,\n",
       "         'selfishly': 1,\n",
       "         'use': 1,\n",
       "         'myself': 1,\n",
       "         'wealthy': 1,\n",
       "         'theres': 1,\n",
       "         'concept': 1,\n",
       "         'works': 1,\n",
       "         'twenty': 1,\n",
       "         'million': 1,\n",
       "         'other': 1,\n",
       "         'white': 1,\n",
       "         'rappers': 1,\n",
       "         'emerge': 1,\n",
       "         'matter': 1,\n",
       "         'how': 1,\n",
       "         'many': 1,\n",
       "         'fish': 1,\n",
       "         'sea': 1,\n",
       "         'itd': 1,\n",
       "         'outro': 1})"
      ]
     },
     "execution_count": 207,
     "metadata": {},
     "output_type": "execute_result"
    }
   ],
   "source": [
    "word_count_counter # the object is no longer a dictionary but a counter"
   ]
  },
  {
   "cell_type": "code",
   "execution_count": 210,
   "metadata": {},
   "outputs": [
    {
     "data": {
      "text/plain": [
       "[('me', 34)]"
      ]
     },
     "execution_count": 210,
     "metadata": {},
     "output_type": "execute_result"
    }
   ],
   "source": [
    "word_count_counter.most_common(1)"
   ]
  },
  {
   "cell_type": "code",
   "execution_count": 211,
   "metadata": {},
   "outputs": [
    {
     "data": {
      "text/plain": [
       "[('me', 34), ('a', 31), ('the', 22)]"
      ]
     },
     "execution_count": 211,
     "metadata": {},
     "output_type": "execute_result"
    }
   ],
   "source": [
    "word_count_counter.most_common(3)"
   ]
  },
  {
   "cell_type": "markdown",
   "metadata": {},
   "source": [
    "# class in python"
   ]
  },
  {
   "cell_type": "code",
   "execution_count": 286,
   "metadata": {},
   "outputs": [],
   "source": [
    "class Car:\n",
    "    # now we want to assign some attributes to this class\n",
    "    wheels = 4 # class attributes: something that is going to define a car so it is not going to change\n",
    "    \n",
    "    # constructor function\n",
    "    def __init__(self, color='black'): # in this case black is the default value\n",
    "        self.color = color # instance attributes: something that is going to change from car to car\n",
    "        self.speed = 0\n",
    "        \n",
    "    def acceleration(self, n):\n",
    "        self.speed += n\n",
    "        \n",
    "    def breaks(self, n):\n",
    "        self.speed -= n\n",
    "        if self.speed <= 0:\n",
    "            self.speed = 0\n",
    "        "
   ]
  },
  {
   "cell_type": "code",
   "execution_count": 231,
   "metadata": {},
   "outputs": [],
   "source": [
    "fiat = Car(color='blue')"
   ]
  },
  {
   "cell_type": "code",
   "execution_count": 232,
   "metadata": {},
   "outputs": [
    {
     "data": {
      "text/plain": [
       "4"
      ]
     },
     "execution_count": 232,
     "metadata": {},
     "output_type": "execute_result"
    }
   ],
   "source": [
    "fiat.wheels"
   ]
  },
  {
   "cell_type": "code",
   "execution_count": 235,
   "metadata": {},
   "outputs": [
    {
     "data": {
      "text/plain": [
       "'blue'"
      ]
     },
     "execution_count": 235,
     "metadata": {},
     "output_type": "execute_result"
    }
   ],
   "source": [
    "fiat.color"
   ]
  },
  {
   "cell_type": "code",
   "execution_count": 236,
   "metadata": {},
   "outputs": [],
   "source": [
    "ferrari = Car()"
   ]
  },
  {
   "cell_type": "code",
   "execution_count": 254,
   "metadata": {},
   "outputs": [
    {
     "data": {
      "text/plain": [
       "'black'"
      ]
     },
     "execution_count": 254,
     "metadata": {},
     "output_type": "execute_result"
    }
   ],
   "source": [
    "ferrari.color"
   ]
  },
  {
   "cell_type": "code",
   "execution_count": 255,
   "metadata": {},
   "outputs": [
    {
     "data": {
      "text/plain": [
       "4"
      ]
     },
     "execution_count": 255,
     "metadata": {},
     "output_type": "execute_result"
    }
   ],
   "source": [
    "ferrari.wheels # class attributes, so it is not going to change"
   ]
  },
  {
   "cell_type": "code",
   "execution_count": 248,
   "metadata": {},
   "outputs": [],
   "source": [
    "class Dog:\n",
    "    n_legs = 4\n",
    "    \n",
    "    def __init__(self, name):\n",
    "        self.name = name"
   ]
  },
  {
   "cell_type": "code",
   "execution_count": 246,
   "metadata": {},
   "outputs": [],
   "source": [
    "charlie = Dog(name='charlie')"
   ]
  },
  {
   "cell_type": "code",
   "execution_count": 247,
   "metadata": {},
   "outputs": [
    {
     "data": {
      "text/plain": [
       "'charlie'"
      ]
     },
     "execution_count": 247,
     "metadata": {},
     "output_type": "execute_result"
    }
   ],
   "source": [
    "charlie.name"
   ]
  }
 ],
 "metadata": {
  "kernelspec": {
   "display_name": "Python 3",
   "language": "python",
   "name": "python3"
  },
  "language_info": {
   "codemirror_mode": {
    "name": "ipython",
    "version": 3
   },
   "file_extension": ".py",
   "mimetype": "text/x-python",
   "name": "python",
   "nbconvert_exporter": "python",
   "pygments_lexer": "ipython3",
   "version": "3.12.1"
  }
 },
 "nbformat": 4,
 "nbformat_minor": 2
}
