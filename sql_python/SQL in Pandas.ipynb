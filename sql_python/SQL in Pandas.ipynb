{
 "cells": [
  {
   "cell_type": "markdown",
   "metadata": {},
   "source": [
    "# SQL operations in Pandas"
   ]
  },
  {
   "cell_type": "code",
   "execution_count": null,
   "metadata": {},
   "outputs": [],
   "source": [
    "import pandas as pd # type:ignore"
   ]
  },
  {
   "cell_type": "markdown",
   "metadata": {},
   "source": [
    "### Read/Write from/to Pandas and DB.\n",
    "\n",
    "The key functions to read and write data to&from a database:\n",
    "\n",
    "- `read_sql()` Read the result of a SQL query into a pandas DataFrame.\n",
    "\n",
    "- `to_sql()` Write a pandas DataFrame into a database."
   ]
  },
  {
   "cell_type": "markdown",
   "metadata": {},
   "source": [
    "These methods require an established connection to the database.\\\n",
    "To connect to a database from Python, you need to use a database-specific driver library (e.g., `psycopg2` for PostgreSQL or `pymysql` for MySQL.)\\\n",
    "To reduce the dependency on DB-specific API, you can use a database-agnostic toolkit: **SQLAlchemy**.\n",
    " \n",
    "\n",
    " 1) Create an engine using the SQLAlchemy `create_engine()` function. Specify the following info:\n",
    "\n",
    "- `dbms + driver(optional)`: The DBMS we want to use (e.g., PostgresSQL, MySQL, Oracle)\n",
    "- `user:password@host:port`: The user credintails and the IP address of the machine where the dbms is running.\\\n",
    "    We can use localhost, or 127.0.0.1. The port number (default: 5432)\n",
    "- `database`: The name of the database to which you want to connect.\n",
    "\n",
    " 2) Connect to the database using the `engine` \n"
   ]
  },
  {
   "cell_type": "code",
   "execution_count": 6,
   "metadata": {},
   "outputs": [],
   "source": [
    "dbms = \"postgresql\"\n",
    "user = \"<USER>\"\n",
    "password = \"<PASSWORD>\"\n",
    "host = \"localhost\"\n",
    "port = \"5432\"\n",
    "database = \"imdb\""
   ]
  },
  {
   "cell_type": "code",
   "execution_count": 10,
   "metadata": {},
   "outputs": [],
   "source": [
    "import sqlalchemy \n",
    "\n",
    "# 1) create an engine\n",
    "engine = sqlalchemy.create_engine(f'{dbms}://{user}:{password}@{host}:{port}/{database}')\n",
    "\n",
    "# 2) use the engine to connect to the database\n",
    "connection = engine.connect()"
   ]
  },
  {
   "cell_type": "code",
   "execution_count": null,
   "metadata": {},
   "outputs": [],
   "source": [
    "# IF something goes wrong, \n",
    "# run connection.rollback() and then retry to execute SQL command again:\n",
    "connection.rollback()"
   ]
  },
  {
   "cell_type": "markdown",
   "metadata": {},
   "source": [
    "#### Reading tables from DB into Pandas DataFrames"
   ]
  },
  {
   "cell_type": "code",
   "execution_count": 12,
   "metadata": {},
   "outputs": [
    {
     "data": {
      "text/plain": [
       "Index(['id', 'official_title', 'budget', 'year', 'length', 'plot'], dtype='object')"
      ]
     },
     "execution_count": 12,
     "metadata": {},
     "output_type": "execute_result"
    }
   ],
   "source": [
    "movie_df = pd.read_sql(sql=\"SELECT * FROM imdb.movie\", con=connection)\n",
    "movie_df.columns"
   ]
  },
  {
   "cell_type": "code",
   "execution_count": 13,
   "metadata": {},
   "outputs": [
    {
     "data": {
      "text/plain": [
       "Index(['movie', 'genre'], dtype='object')"
      ]
     },
     "execution_count": 13,
     "metadata": {},
     "output_type": "execute_result"
    }
   ],
   "source": [
    "genres_df = pd.read_sql(sql=\"SELECT * FROM imdb.genre\", con=connection)\n",
    "genres_df.columns"
   ]
  },
  {
   "cell_type": "code",
   "execution_count": 102,
   "metadata": {},
   "outputs": [
    {
     "data": {
      "text/plain": [
       "Index(['id', 'bio', 'birth_date', 'death_date', 'given_name'], dtype='object')"
      ]
     },
     "execution_count": 102,
     "metadata": {},
     "output_type": "execute_result"
    }
   ],
   "source": [
    "person_df = pd.read_sql(sql=\"SELECT * FROM imdb.person\", con=connection)\n",
    "person_df.columns"
   ]
  },
  {
   "cell_type": "code",
   "execution_count": 103,
   "metadata": {},
   "outputs": [],
   "source": [
    "produced_df = pd.read_sql(\"SELECT * FROM imdb.produced\", con=connection)\n",
    "produced_df.columns"
   ]
  },
  {
   "cell_type": "code",
   "execution_count": null,
   "metadata": {},
   "outputs": [],
   "source": [
    "crew_df = pd.read_sql(\"SELECT * FROM imdb.crew\", con=connection)\n",
    "crew_df"
   ]
  },
  {
   "cell_type": "code",
   "execution_count": null,
   "metadata": {},
   "outputs": [],
   "source": [
    "rating_df = pd.read_sql(\"SELECT * FROM imdb.rating\", con=connection)\n",
    "rating_df"
   ]
  },
  {
   "cell_type": "markdown",
   "metadata": {},
   "source": [
    "### SELECT\n",
    "\n",
    "In SQL, the column selection is done using a comma-separated list of columns.\\\n",
    "In Pandas, we pass a list of column names to a DataFrame inside the `[]` operator."
   ]
  },
  {
   "cell_type": "code",
   "execution_count": 16,
   "metadata": {},
   "outputs": [
    {
     "data": {
      "text/html": [
       "<div>\n",
       "<style scoped>\n",
       "    .dataframe tbody tr th:only-of-type {\n",
       "        vertical-align: middle;\n",
       "    }\n",
       "\n",
       "    .dataframe tbody tr th {\n",
       "        vertical-align: top;\n",
       "    }\n",
       "\n",
       "    .dataframe thead th {\n",
       "        text-align: right;\n",
       "    }\n",
       "</style>\n",
       "<table border=\"1\" class=\"dataframe\">\n",
       "  <thead>\n",
       "    <tr style=\"text-align: right;\">\n",
       "      <th></th>\n",
       "      <th>id</th>\n",
       "      <th>official_title</th>\n",
       "    </tr>\n",
       "  </thead>\n",
       "  <tbody>\n",
       "    <tr>\n",
       "      <th>0</th>\n",
       "      <td>6914094</td>\n",
       "      <td>Kaleidoscope</td>\n",
       "    </tr>\n",
       "    <tr>\n",
       "      <th>1</th>\n",
       "      <td>0074512</td>\n",
       "      <td>Family Plot</td>\n",
       "    </tr>\n",
       "    <tr>\n",
       "      <th>2</th>\n",
       "      <td>0061107</td>\n",
       "      <td>Torn Curtain</td>\n",
       "    </tr>\n",
       "    <tr>\n",
       "      <th>3</th>\n",
       "      <td>0058329</td>\n",
       "      <td>Marnie</td>\n",
       "    </tr>\n",
       "    <tr>\n",
       "      <th>4</th>\n",
       "      <td>0055657</td>\n",
       "      <td>The Alfred Hitchcock Hour</td>\n",
       "    </tr>\n",
       "    <tr>\n",
       "      <th>...</th>\n",
       "      <td>...</td>\n",
       "      <td>...</td>\n",
       "    </tr>\n",
       "    <tr>\n",
       "      <th>1026</th>\n",
       "      <td>1442054</td>\n",
       "      <td>Two Telegrams</td>\n",
       "    </tr>\n",
       "    <tr>\n",
       "      <th>1027</th>\n",
       "      <td>0039233</td>\n",
       "      <td>Caccia tragica</td>\n",
       "    </tr>\n",
       "    <tr>\n",
       "      <th>1028</th>\n",
       "      <td>0034687</td>\n",
       "      <td>I due Foscari</td>\n",
       "    </tr>\n",
       "    <tr>\n",
       "      <th>1029</th>\n",
       "      <td>0035191</td>\n",
       "      <td>Un pilota ritorna</td>\n",
       "    </tr>\n",
       "    <tr>\n",
       "      <th>1030</th>\n",
       "      <td>020202</td>\n",
       "      <td>Topaz</td>\n",
       "    </tr>\n",
       "  </tbody>\n",
       "</table>\n",
       "<p>1031 rows × 2 columns</p>\n",
       "</div>"
      ],
      "text/plain": [
       "           id             official_title\n",
       "0     6914094               Kaleidoscope\n",
       "1     0074512                Family Plot\n",
       "2     0061107               Torn Curtain\n",
       "3     0058329                     Marnie\n",
       "4     0055657  The Alfred Hitchcock Hour\n",
       "...       ...                        ...\n",
       "1026  1442054              Two Telegrams\n",
       "1027  0039233             Caccia tragica\n",
       "1028  0034687              I due Foscari\n",
       "1029  0035191          Un pilota ritorna\n",
       "1030   020202                      Topaz\n",
       "\n",
       "[1031 rows x 2 columns]"
      ]
     },
     "execution_count": 16,
     "metadata": {},
     "output_type": "execute_result"
    }
   ],
   "source": [
    "# In SQL:\n",
    "sql = \"\"\"\n",
    "SELECT id, official_title\n",
    "FROM imdb.movie\n",
    "\"\"\"\n",
    "\n",
    "# In Pandas:\n",
    "movie_df[[\"id\", \"official_title\"]]"
   ]
  },
  {
   "cell_type": "markdown",
   "metadata": {},
   "source": [
    "### SELECT DISTINCT\n",
    "\n",
    "In pandas, the equivalent of `SELECT DISTINCT` is `.drop_duplicates()`."
   ]
  },
  {
   "cell_type": "code",
   "execution_count": null,
   "metadata": {},
   "outputs": [],
   "source": [
    "# return all unique genres from the 'genre' table\n",
    "\n",
    "# In SQL:\n",
    "sql = \"\"\"\n",
    "SELECT DISTINCT genre\n",
    "FROM imdb.genre\n",
    "\"\"\"\n",
    "\n",
    "# In Pandas:\n",
    "genres_df[\"genre\"].drop_duplicates()"
   ]
  },
  {
   "cell_type": "markdown",
   "metadata": {},
   "source": [
    "### *Select a computed column*\n",
    "\n",
    "In Pandas, use `.assign()` method to append a new column to the DataFrame. "
   ]
  },
  {
   "cell_type": "code",
   "execution_count": null,
   "metadata": {},
   "outputs": [],
   "source": [
    "sql = \"\"\"\n",
    "SELECT lenght/60 as length_in_hours\n",
    "FROM imdb.movie \n",
    "\"\"\"\n",
    "\n",
    "# In Pandas:\n",
    "movie_df.assign(length_in_hours=movie_df.length / 60)"
   ]
  },
  {
   "cell_type": "markdown",
   "metadata": {},
   "source": [
    "### WHERE\n",
    "\n",
    "To filter rows in a DataFrame you have 2 options:\n",
    "\n",
    "- **Option 1**: Use *boolean indexing* to subset a DataFrame using a boolean vector.\\\n",
    "    This vector evaluates the `WHERE` condition on a given column.\n",
    "\n",
    "\n",
    "- **Option 2**: Use `.query()` to select rows of a DataFrame with a boolean expression (a string)."
   ]
  },
  {
   "cell_type": "code",
   "execution_count": null,
   "metadata": {},
   "outputs": [],
   "source": [
    "# retrieve movies produced in '2010'\n",
    "\n",
    "# In SQL:\n",
    "sql = \"\"\"\n",
    "SELECT *\n",
    "FROM imdb.movie\n",
    "WHERE year = '2010'\n",
    "\"\"\"\n",
    "\n",
    "# In Pandas:\n",
    "\n",
    "# Option 1: use boolean vector to subset the dataframe\n",
    "condition = movie_df.year == '2010'\n",
    "movie_df[condition]\n",
    "\n",
    "# Option 2: use .query() method\n",
    "movie_df.query(\"year == '2010'\") "
   ]
  },
  {
   "cell_type": "markdown",
   "metadata": {},
   "source": [
    "** NOTE! **\n",
    "\n",
    "*Conditional filtering with NULL values* in Pandas is **DIFFERENT** from SQL behaviour:\n",
    "- In SQL, the WHERE condition is NOT evaluated on NULL values, which are excluded from the result\n",
    "- In Pandas, the condition is evaluated also for NULL values\n",
    "\n",
    "*Example:*"
   ]
  },
  {
   "cell_type": "code",
   "execution_count": 763,
   "metadata": {},
   "outputs": [
    {
     "name": "stdout",
     "output_type": "stream",
     "text": [
      "987\n",
      "1012\n"
     ]
    }
   ],
   "source": [
    "sql = \"\"\"\n",
    "SELECT *\n",
    "FROM imdb.movie\n",
    "WHERE year <> '2010' -- OR year IS NULL\n",
    "\"\"\"\n",
    "\n",
    "# In SQL:\n",
    "print(len(pd.read_sql(sql, con=connection)))\n",
    "\n",
    "# In Pandas:\n",
    "condition = movie_df[\"year\"]!='2010'\n",
    "print(len(movie_df[condition]))"
   ]
  },
  {
   "cell_type": "markdown",
   "metadata": {},
   "source": [
    "*Combine multiple conditions using `&` and `|`.\\\n",
    "Use brackets to specify the precedence of evaluation among and/or operators.*"
   ]
  },
  {
   "cell_type": "code",
   "execution_count": null,
   "metadata": {},
   "outputs": [],
   "source": [
    "# retrieve the movies from 2010 lasting more than an hour\n",
    "\n",
    "# In SQL:\n",
    "sql = \"\"\"\n",
    "SELECT *\n",
    "FROM imdb.movie\n",
    "WHERE year = '2010' AND length > 60\n",
    "\"\"\"\n",
    "# In Pandas:\n",
    "\n",
    "# option 1. boolean indexing\n",
    "condition_1 = (movie_df.year == 2010)\n",
    "condition_2 = (movie_df.length > 60)\n",
    "movie_df[condition_1 & condition_2] \n",
    "\n",
    "# option 2. query expression\n",
    "movie_df.query(\"year == '2010' & length > 60\") "
   ]
  },
  {
   "cell_type": "code",
   "execution_count": null,
   "metadata": {},
   "outputs": [],
   "source": [
    "# get the movies where the year is between 2000 and 2010 or that lasts between 60 and 120 minutes\n",
    "\n",
    "# In SQL:\n",
    "sql = \"\"\"\n",
    "SELECT *\n",
    "FROM imdb.movie\n",
    "WHERE year BETWEEN '2000' AND '2010' AND length BETWEEN 60 and 120\n",
    "\"\"\"\n",
    "\n",
    "# In Pandas:\n",
    "\n",
    "# option 1. boolean indexing\n",
    "condition_1 = ('2000' <= movie_df[\"year\"]) & (movie_df[\"year\"] <= '2010')\n",
    "condition_2 = (60 <= movie_df.length) & (movie_df.length <= 120)\n",
    "movie_df[condition_1 & condition_2]\n",
    "\n",
    "# option 2. query expression\n",
    "movie_df.query(\"'2000' <= year <= '2010' and 60 <= length <= 120\")"
   ]
  },
  {
   "cell_type": "markdown",
   "metadata": {},
   "source": [
    "#### `IS NULL` & `IS NOT NULL`\n",
    "NULL checking is done using the `.notna()` and `.isna()` methods."
   ]
  },
  {
   "cell_type": "code",
   "execution_count": 190,
   "metadata": {},
   "outputs": [
    {
     "data": {
      "text/plain": [
       "32427"
      ]
     },
     "execution_count": 190,
     "metadata": {},
     "output_type": "execute_result"
    }
   ],
   "source": [
    "# return the cast members that are alive\n",
    "\n",
    "# In SQL:\n",
    "\"\"\"\n",
    "SELECT *\n",
    "FROM imdb.person \n",
    "WHERE death_date IS NULL\n",
    "\"\"\"\n",
    "\n",
    "# In Pandas:\n",
    "condition = person_df[\"death_date\"].isna()\n",
    "len(person_df[condition])"
   ]
  },
  {
   "cell_type": "code",
   "execution_count": 192,
   "metadata": {},
   "outputs": [
    {
     "data": {
      "text/plain": [
       "6003"
      ]
     },
     "execution_count": 192,
     "metadata": {},
     "output_type": "execute_result"
    }
   ],
   "source": [
    "# return the cast members that are dead\n",
    "\n",
    "# In SQL:\n",
    "\n",
    "\"\"\"\n",
    "SELECT * \n",
    "FROM imdb.person \n",
    "WHERE death_date IS NOT NULL\n",
    "\"\"\"\n",
    "condition = person_df[\"death_date\"].notna()\n",
    "len(person_df[condition])"
   ]
  },
  {
   "cell_type": "markdown",
   "metadata": {},
   "source": [
    "#### `IN` & `NOT IN`\n",
    "\n",
    "The equivalent of the SQL `IN` operator in pandas can be achieved using the `.isin()` method."
   ]
  },
  {
   "cell_type": "code",
   "execution_count": 702,
   "metadata": {},
   "outputs": [
    {
     "name": "stdout",
     "output_type": "stream",
     "text": [
      "37\n",
      "37\n"
     ]
    }
   ],
   "source": [
    "# retrieve movies produced in one of the following years: '2000', '2010' or '2020'.\n",
    "\n",
    "# In SQL:\n",
    "sql = \"\"\"\n",
    "SELECT * \n",
    "FROM imdb.movie \n",
    "WHERE year IN ('2000', '2010', '2020')\n",
    "\"\"\"\n",
    "print(len(pd.read_sql(sql, con=connection)))\n",
    "\n",
    "# In Pandas:\n",
    "\n",
    "# checks if the row value is one of ['2000', '2010', '2020'] \n",
    "condition = movie_df[\"year\"].isin(['2000', '2010', '2020'])\n",
    "\n",
    "# subset the rows where the condition evaluate to True.\n",
    "print(len(movie_df[condition]))"
   ]
  },
  {
   "cell_type": "code",
   "execution_count": 703,
   "metadata": {},
   "outputs": [
    {
     "name": "stdout",
     "output_type": "stream",
     "text": [
      "977\n",
      "994\n"
     ]
    }
   ],
   "source": [
    "# retrieve movies that are NOT produced in one of the following years: '2000', '2010' or '2020'. \n",
    "# Include movies without year in the result set.\n",
    "\n",
    "# In SQL:\n",
    "sql = \"\"\"\n",
    "SELECT * \n",
    "FROM imdb.movie \n",
    "WHERE year NOT IN ('2019', '2020', '2001') -- OR year IS NULL\n",
    "\"\"\"\n",
    "print(len(pd.read_sql(sql, con=connection)))\n",
    "\n",
    "# In Pandas:\n",
    "\n",
    "# checks if the row value is one of ['2000', '2010', '2020'] \n",
    "condition = movie_df[\"year\"].isin(['2000', '2010', '2020'])\n",
    "\n",
    "# subset rows where NOT the condition evaluate to True.\n",
    "print(len(movie_df[~condition]))"
   ]
  },
  {
   "cell_type": "markdown",
   "metadata": {},
   "source": [
    "#### Column manipulation\n",
    "\n",
    "\n",
    "Pandas provides several ways to apply a function to perform transformations on a column.\n",
    "\n",
    "1. *Using `.apply(FUNCTION)` on a Series (column)*:\n",
    "    - The method applies a function to each element in a Series in a loop-like manner (iterating row-by-row),\\\n",
    "        which is generally slow because it breaks pandas' internal optimizations.\n",
    "    - You can use either a pre-defined function or a lambda function with `.apply()`\n",
    "\n",
    "2. *vectorized operations*:\n",
    "    - are optimized to work on the entire Series (column) at once, applying the operation in parallel across all elements.\\\n",
    "     This makes it much faster and more efficient than applying the operation row-by-row.\n",
    "\n",
    "\n",
    "\n",
    "When working with pandas Series (columns) that contain strings, and you need to perform string manipulations (like splitting, replacing, converting case, extraction, etc)\\\n",
    "use pandas' vectorized string methods. How? via the string accessor `.str`.\\\n",
    "With `.str` you can apply various string methods across entire columns efficiently, without needing to loop through each element.\n"
   ]
  },
  {
   "cell_type": "code",
   "execution_count": 713,
   "metadata": {},
   "outputs": [
    {
     "data": {
      "text/html": [
       "<div>\n",
       "<style scoped>\n",
       "    .dataframe tbody tr th:only-of-type {\n",
       "        vertical-align: middle;\n",
       "    }\n",
       "\n",
       "    .dataframe tbody tr th {\n",
       "        vertical-align: top;\n",
       "    }\n",
       "\n",
       "    .dataframe thead th {\n",
       "        text-align: right;\n",
       "    }\n",
       "</style>\n",
       "<table border=\"1\" class=\"dataframe\">\n",
       "  <thead>\n",
       "    <tr style=\"text-align: right;\">\n",
       "      <th></th>\n",
       "      <th>id</th>\n",
       "      <th>official_title</th>\n",
       "      <th>budget</th>\n",
       "      <th>year</th>\n",
       "      <th>length</th>\n",
       "      <th>plot</th>\n",
       "    </tr>\n",
       "  </thead>\n",
       "  <tbody>\n",
       "    <tr>\n",
       "      <th>894</th>\n",
       "      <td>1455810</td>\n",
       "      <td>Happy Family</td>\n",
       "      <td>None</td>\n",
       "      <td>2010</td>\n",
       "      <td>90.0</td>\n",
       "      <td>Ezio is a screenwriter scared by happy endings...</td>\n",
       "    </tr>\n",
       "  </tbody>\n",
       "</table>\n",
       "</div>"
      ],
      "text/plain": [
       "          id official_title budget  year  length  \\\n",
       "894  1455810   Happy Family   None  2010    90.0   \n",
       "\n",
       "                                                  plot  \n",
       "894  Ezio is a screenwriter scared by happy endings...  "
      ]
     },
     "execution_count": 713,
     "metadata": {},
     "output_type": "execute_result"
    }
   ],
   "source": [
    "# retrieve info about the movie with the title 'happy family'. Use case insensitive search.\n",
    "\n",
    "# In SQL:\n",
    "sql = \"\"\"\n",
    "SELECT * \n",
    "FROM imdb.movie \n",
    "WHERE LOWER(official_title) = 'happy family'\n",
    "\"\"\"\n",
    "\n",
    "# In Pandas:\n",
    "\n",
    "# Option 1: use vectorized str accessor to lowercase the whole column at once\n",
    "condition = movie_df[\"official_title\"].str.lower() == 'happy family'\n",
    "movie_df[condition]\n",
    "\n",
    "# Option 2: use .apply() method with a custom function to iterate over rows and apply the function element-wise.\n",
    "condition = movie_df[\"official_title\"].apply(lambda title: title.lower()) == 'happy family'\n",
    "movie_df[condition]"
   ]
  },
  {
   "cell_type": "code",
   "execution_count": 714,
   "metadata": {},
   "outputs": [
    {
     "data": {
      "text/html": [
       "<div>\n",
       "<style scoped>\n",
       "    .dataframe tbody tr th:only-of-type {\n",
       "        vertical-align: middle;\n",
       "    }\n",
       "\n",
       "    .dataframe tbody tr th {\n",
       "        vertical-align: top;\n",
       "    }\n",
       "\n",
       "    .dataframe thead th {\n",
       "        text-align: right;\n",
       "    }\n",
       "</style>\n",
       "<table border=\"1\" class=\"dataframe\">\n",
       "  <thead>\n",
       "    <tr style=\"text-align: right;\">\n",
       "      <th></th>\n",
       "      <th>id</th>\n",
       "      <th>official_title</th>\n",
       "      <th>budget</th>\n",
       "      <th>year</th>\n",
       "      <th>length</th>\n",
       "      <th>plot</th>\n",
       "    </tr>\n",
       "  </thead>\n",
       "  <tbody>\n",
       "    <tr>\n",
       "      <th>1</th>\n",
       "      <td>0074512</td>\n",
       "      <td>Family Plot</td>\n",
       "      <td>None</td>\n",
       "      <td>1976</td>\n",
       "      <td>120.0</td>\n",
       "      <td>A phony psychic/con artist and her taxi driver...</td>\n",
       "    </tr>\n",
       "    <tr>\n",
       "      <th>215</th>\n",
       "      <td>0033124</td>\n",
       "      <td>Swiss Family Robinson</td>\n",
       "      <td>None</td>\n",
       "      <td>1940</td>\n",
       "      <td>93.0</td>\n",
       "      <td>A family setting out for a new life across the...</td>\n",
       "    </tr>\n",
       "    <tr>\n",
       "      <th>365</th>\n",
       "      <td>7131622</td>\n",
       "      <td>Untitled Manson Family Project</td>\n",
       "      <td>None</td>\n",
       "      <td>2019</td>\n",
       "      <td>NaN</td>\n",
       "      <td>Based on the infamous Manson family murders.</td>\n",
       "    </tr>\n",
       "    <tr>\n",
       "      <th>774</th>\n",
       "      <td>0388056</td>\n",
       "      <td>Family of the Year</td>\n",
       "      <td>None</td>\n",
       "      <td>2004</td>\n",
       "      <td>NaN</td>\n",
       "      <td>Family moves to a new town, get along better w...</td>\n",
       "    </tr>\n",
       "    <tr>\n",
       "      <th>894</th>\n",
       "      <td>1455810</td>\n",
       "      <td>Happy Family</td>\n",
       "      <td>None</td>\n",
       "      <td>2010</td>\n",
       "      <td>90.0</td>\n",
       "      <td>Ezio is a screenwriter scared by happy endings...</td>\n",
       "    </tr>\n",
       "  </tbody>\n",
       "</table>\n",
       "</div>"
      ],
      "text/plain": [
       "          id                  official_title budget  year  length  \\\n",
       "1    0074512                     Family Plot   None  1976   120.0   \n",
       "215  0033124           Swiss Family Robinson   None  1940    93.0   \n",
       "365  7131622  Untitled Manson Family Project   None  2019     NaN   \n",
       "774  0388056              Family of the Year   None  2004     NaN   \n",
       "894  1455810                    Happy Family   None  2010    90.0   \n",
       "\n",
       "                                                  plot  \n",
       "1    A phony psychic/con artist and her taxi driver...  \n",
       "215  A family setting out for a new life across the...  \n",
       "365       Based on the infamous Manson family murders.  \n",
       "774  Family moves to a new town, get along better w...  \n",
       "894  Ezio is a screenwriter scared by happy endings...  "
      ]
     },
     "execution_count": 714,
     "metadata": {},
     "output_type": "execute_result"
    }
   ],
   "source": [
    "# retrieve movies about 'family' using LIKE operator\n",
    "# wildcards of LIKE:\n",
    "# %: this wildcard represents any string of any length\n",
    "# _: this wildcard represents a string of exactly one character\n",
    "\n",
    "# In SQL:\n",
    "sql = \"\"\"\n",
    "SELECT *\n",
    "FROM imdb.movie\n",
    "WHERE LOWER(official_title) LIKE '%family%'\n",
    "\"\"\"\n",
    "\n",
    "# In Pandas:\n",
    "condition = movie_df[\"official_title\"].str.lower().str.contains(\"family\")\n",
    "movie_df[condition]"
   ]
  },
  {
   "cell_type": "markdown",
   "metadata": {},
   "source": [
    "\n",
    "**Common String Methods Available via `.str`**:"
   ]
  },
  {
   "cell_type": "code",
   "execution_count": null,
   "metadata": {},
   "outputs": [],
   "source": [
    "# 1. Converting Case\n",
    "\n",
    "person_df['given_name'].str.lower()    # Converts to lowercase\n",
    "person_df['given_name'].str.upper()    # Converts to uppercase\n",
    "\n",
    "\n",
    "# 2. Checking for Substrings\n",
    "\n",
    "person_df['given_name'].str.contains('Levy')      # Checks if 'Levy' is in the string.\n",
    "person_df['given_name'].str.startswith('Benn')    # Checks if string start with a specific prefix.\n",
    "\n",
    "\n",
    "# 3. Manipulating Substrings\n",
    "\n",
    "person_df['given_name'].str.strip()                                         # Remove leading and trailing whitespace\n",
    "person_df['given_name'].str.split(' ')                                      # Split by space\n",
    "person_df['given_name'].str.slice(0, 4)                                     # Slice first 4 characters\n",
    "\n",
    "person_df['given_name'].str.len()                                            # Get the length of each string\n",
    "person_df['given_name'].str.replace('Michelle', 'Mike')                      # Replace 'Michelle' with 'Mike'\n",
    "person_df['given_name'].str.cat(person_df['birth_date'].astype(str), sep=' ')   # Concatenate given name and yob\n",
    "\n",
    "\n",
    "# 4. Extracting Information from strings\n",
    "\n",
    "person_df['bio'].str.extract(r'(\\d{4}) ')   # Extract the first occurence of the pattern in the string\n",
    "person_df['bio'].str.findall(r'(\\d{4}) ')   # Extract the list with all occurences of the pattern in the string"
   ]
  },
  {
   "cell_type": "markdown",
   "metadata": {},
   "source": [
    "#### Example Use Cases:"
   ]
  },
  {
   "cell_type": "code",
   "execution_count": 170,
   "metadata": {},
   "outputs": [
    {
     "data": {
      "text/html": [
       "<div>\n",
       "<style scoped>\n",
       "    .dataframe tbody tr th:only-of-type {\n",
       "        vertical-align: middle;\n",
       "    }\n",
       "\n",
       "    .dataframe tbody tr th {\n",
       "        vertical-align: top;\n",
       "    }\n",
       "\n",
       "    .dataframe thead th {\n",
       "        text-align: right;\n",
       "    }\n",
       "</style>\n",
       "<table border=\"1\" class=\"dataframe\">\n",
       "  <thead>\n",
       "    <tr style=\"text-align: right;\">\n",
       "      <th></th>\n",
       "      <th>id</th>\n",
       "      <th>bio</th>\n",
       "      <th>birth_date</th>\n",
       "      <th>death_date</th>\n",
       "      <th>given_name</th>\n",
       "    </tr>\n",
       "  </thead>\n",
       "  <tbody>\n",
       "    <tr>\n",
       "      <th>0</th>\n",
       "      <td>0000033</td>\n",
       "      <td>Alfred Joseph Hitchcock was born in Leytonston...</td>\n",
       "      <td>1899-08-13</td>\n",
       "      <td>1980-04-29</td>\n",
       "      <td>Alfred Hitchcock</td>\n",
       "    </tr>\n",
       "    <tr>\n",
       "      <th>1</th>\n",
       "      <td>0506349</td>\n",
       "      <td>Benn W. Levy was born on March 7, 1900 in Lond...</td>\n",
       "      <td>1900-03-07</td>\n",
       "      <td>1973-12-07</td>\n",
       "      <td>Benn W. Levy</td>\n",
       "    </tr>\n",
       "    <tr>\n",
       "      <th>2</th>\n",
       "      <td>0268779</td>\n",
       "      <td>Howard Fast was born on November 11, 1914 in N...</td>\n",
       "      <td>1914-11-11</td>\n",
       "      <td>2003-03-12</td>\n",
       "      <td>Howard Fast</td>\n",
       "    </tr>\n",
       "  </tbody>\n",
       "</table>\n",
       "</div>"
      ],
      "text/plain": [
       "        id                                                bio  birth_date  \\\n",
       "0  0000033  Alfred Joseph Hitchcock was born in Leytonston...  1899-08-13   \n",
       "1  0506349  Benn W. Levy was born on March 7, 1900 in Lond...  1900-03-07   \n",
       "2  0268779  Howard Fast was born on November 11, 1914 in N...  1914-11-11   \n",
       "\n",
       "   death_date        given_name  \n",
       "0  1980-04-29  Alfred Hitchcock  \n",
       "1  1973-12-07      Benn W. Levy  \n",
       "2  2003-03-12       Howard Fast  "
      ]
     },
     "execution_count": 170,
     "metadata": {},
     "output_type": "execute_result"
    }
   ],
   "source": [
    "person_df.head(3)"
   ]
  },
  {
   "cell_type": "markdown",
   "metadata": {},
   "source": [
    "**Standardizing Text**: You may have columns with inconsistent case or extra spaces that need cleaning."
   ]
  },
  {
   "cell_type": "code",
   "execution_count": 162,
   "metadata": {},
   "outputs": [],
   "source": [
    "# Trim leading and training spaces and lowercase\n",
    "\n",
    "person_df['given_name'].str.strip().str.lower()  "
   ]
  },
  {
   "cell_type": "markdown",
   "metadata": {},
   "source": [
    "**Splitting the column in two**"
   ]
  },
  {
   "cell_type": "code",
   "execution_count": 25,
   "metadata": {},
   "outputs": [
    {
     "data": {
      "text/html": [
       "<div>\n",
       "<style scoped>\n",
       "    .dataframe tbody tr th:only-of-type {\n",
       "        vertical-align: middle;\n",
       "    }\n",
       "\n",
       "    .dataframe tbody tr th {\n",
       "        vertical-align: top;\n",
       "    }\n",
       "\n",
       "    .dataframe thead th {\n",
       "        text-align: right;\n",
       "    }\n",
       "</style>\n",
       "<table border=\"1\" class=\"dataframe\">\n",
       "  <thead>\n",
       "    <tr style=\"text-align: right;\">\n",
       "      <th></th>\n",
       "      <th>id</th>\n",
       "      <th>bio</th>\n",
       "      <th>birth_date</th>\n",
       "      <th>death_date</th>\n",
       "      <th>given_name</th>\n",
       "      <th>surname</th>\n",
       "      <th>name</th>\n",
       "    </tr>\n",
       "  </thead>\n",
       "  <tbody>\n",
       "    <tr>\n",
       "      <th>0</th>\n",
       "      <td>0000033</td>\n",
       "      <td>Alfred Joseph Hitchcock was born in Leytonston...</td>\n",
       "      <td>1899-08-13</td>\n",
       "      <td>1980-04-29</td>\n",
       "      <td>Alfred Hitchcock</td>\n",
       "      <td>Hitchcock</td>\n",
       "      <td>Alfred</td>\n",
       "    </tr>\n",
       "    <tr>\n",
       "      <th>1</th>\n",
       "      <td>0506349</td>\n",
       "      <td>Benn W. Levy was born on March 7, 1900 in Lond...</td>\n",
       "      <td>1900-03-07</td>\n",
       "      <td>1973-12-07</td>\n",
       "      <td>Benn W. Levy</td>\n",
       "      <td>Levy</td>\n",
       "      <td>Benn</td>\n",
       "    </tr>\n",
       "    <tr>\n",
       "      <th>2</th>\n",
       "      <td>0268779</td>\n",
       "      <td>Howard Fast was born on November 11, 1914 in N...</td>\n",
       "      <td>1914-11-11</td>\n",
       "      <td>2003-03-12</td>\n",
       "      <td>Howard Fast</td>\n",
       "      <td>Fast</td>\n",
       "      <td>Howard</td>\n",
       "    </tr>\n",
       "    <tr>\n",
       "      <th>3</th>\n",
       "      <td>0923839</td>\n",
       "      <td>Hugh Wheeler was born on March 19, 1912 in Ham...</td>\n",
       "      <td>1912-03-19</td>\n",
       "      <td>1987-07-26</td>\n",
       "      <td>Hugh Wheeler</td>\n",
       "      <td>Wheeler</td>\n",
       "      <td>Hugh</td>\n",
       "    </tr>\n",
       "    <tr>\n",
       "      <th>4</th>\n",
       "      <td>0499626</td>\n",
       "      <td>One of the most critically and commercially su...</td>\n",
       "      <td>1915-12-08</td>\n",
       "      <td>2005-07-02</td>\n",
       "      <td>Ernest Lehman</td>\n",
       "      <td>Lehman</td>\n",
       "      <td>Ernest</td>\n",
       "    </tr>\n",
       "    <tr>\n",
       "      <th>...</th>\n",
       "      <td>...</td>\n",
       "      <td>...</td>\n",
       "      <td>...</td>\n",
       "      <td>...</td>\n",
       "      <td>...</td>\n",
       "      <td>...</td>\n",
       "      <td>...</td>\n",
       "    </tr>\n",
       "    <tr>\n",
       "      <th>38425</th>\n",
       "      <td>0005143</td>\n",
       "      <td>Jay Leno began his career in night clubs, wher...</td>\n",
       "      <td>None</td>\n",
       "      <td>None</td>\n",
       "      <td>James Douglas Muir Leno</td>\n",
       "      <td>Leno</td>\n",
       "      <td>James</td>\n",
       "    </tr>\n",
       "    <tr>\n",
       "      <th>38426</th>\n",
       "      <td>0919798</td>\n",
       "      <td>Frank Welker was born on March 12, 1946 in Den...</td>\n",
       "      <td>None</td>\n",
       "      <td>None</td>\n",
       "      <td>Franklin Wendell Welker</td>\n",
       "      <td>Welker</td>\n",
       "      <td>Franklin</td>\n",
       "    </tr>\n",
       "    <tr>\n",
       "      <th>38427</th>\n",
       "      <td>0001468</td>\n",
       "      <td>Television would never be the same after David...</td>\n",
       "      <td>None</td>\n",
       "      <td>None</td>\n",
       "      <td>David Michael Letterman</td>\n",
       "      <td>Letterman</td>\n",
       "      <td>David</td>\n",
       "    </tr>\n",
       "    <tr>\n",
       "      <th>38428</th>\n",
       "      <td>0787238</td>\n",
       "      <td>Paul Shaffer was born on November 28, 1949 in ...</td>\n",
       "      <td>None</td>\n",
       "      <td>None</td>\n",
       "      <td>Paul A. Shaffer</td>\n",
       "      <td>Shaffer</td>\n",
       "      <td>Paul</td>\n",
       "    </tr>\n",
       "    <tr>\n",
       "      <th>38429</th>\n",
       "      <td>3803149</td>\n",
       "      <td>Michelle Willman is a producer and writer, kno...</td>\n",
       "      <td>None</td>\n",
       "      <td>None</td>\n",
       "      <td>Michelle Willman</td>\n",
       "      <td>Willman</td>\n",
       "      <td>Michelle</td>\n",
       "    </tr>\n",
       "  </tbody>\n",
       "</table>\n",
       "<p>38430 rows × 7 columns</p>\n",
       "</div>"
      ],
      "text/plain": [
       "            id                                                bio  birth_date  \\\n",
       "0      0000033  Alfred Joseph Hitchcock was born in Leytonston...  1899-08-13   \n",
       "1      0506349  Benn W. Levy was born on March 7, 1900 in Lond...  1900-03-07   \n",
       "2      0268779  Howard Fast was born on November 11, 1914 in N...  1914-11-11   \n",
       "3      0923839  Hugh Wheeler was born on March 19, 1912 in Ham...  1912-03-19   \n",
       "4      0499626  One of the most critically and commercially su...  1915-12-08   \n",
       "...        ...                                                ...         ...   \n",
       "38425  0005143  Jay Leno began his career in night clubs, wher...        None   \n",
       "38426  0919798  Frank Welker was born on March 12, 1946 in Den...        None   \n",
       "38427  0001468  Television would never be the same after David...        None   \n",
       "38428  0787238  Paul Shaffer was born on November 28, 1949 in ...        None   \n",
       "38429  3803149  Michelle Willman is a producer and writer, kno...        None   \n",
       "\n",
       "       death_date               given_name    surname      name  \n",
       "0      1980-04-29         Alfred Hitchcock  Hitchcock    Alfred  \n",
       "1      1973-12-07             Benn W. Levy       Levy      Benn  \n",
       "2      2003-03-12              Howard Fast       Fast    Howard  \n",
       "3      1987-07-26             Hugh Wheeler    Wheeler      Hugh  \n",
       "4      2005-07-02            Ernest Lehman     Lehman    Ernest  \n",
       "...           ...                      ...        ...       ...  \n",
       "38425        None  James Douglas Muir Leno       Leno     James  \n",
       "38426        None  Franklin Wendell Welker     Welker  Franklin  \n",
       "38427        None  David Michael Letterman  Letterman     David  \n",
       "38428        None          Paul A. Shaffer    Shaffer      Paul  \n",
       "38429        None         Michelle Willman    Willman  Michelle  \n",
       "\n",
       "[38430 rows x 7 columns]"
      ]
     },
     "execution_count": 25,
     "metadata": {},
     "output_type": "execute_result"
    }
   ],
   "source": [
    "# Split the given name into 2 separate columns: name and surname\n",
    "\n",
    "person_df.assign(\n",
    "    surname=person_df[\"given_name\"].str.split(\" \").str[-1], \n",
    "    name=person_df[\"given_name\"].str.split(\" \").str[0]\n",
    "    )"
   ]
  },
  {
   "cell_type": "markdown",
   "metadata": {},
   "source": [
    "**Extracting information:** extract the year from the date"
   ]
  },
  {
   "cell_type": "code",
   "execution_count": 164,
   "metadata": {},
   "outputs": [],
   "source": [
    "# create a new column that contains a year of birth\n",
    "# extract the year from the \"birth_date\"\n",
    "\n",
    "# extract the year via slicing\n",
    "yob = person_df[\"birth_date\"].astype(str).str.slice(0, 4)\n",
    "\n",
    "# extract the year using regex expression\n",
    "yob = person_df[\"birth_date\"].astype(str).str.extract(\"(\\d\\d\\d\\d)\")\n",
    "\n",
    "person = person_df.assign(yob=yob) # or person[\"yob\"] = yob"
   ]
  },
  {
   "cell_type": "markdown",
   "metadata": {},
   "source": [
    "### `ORDER BY`\n",
    "\n",
    "The equivalent of SQL `ORDER BY` in Pandas is `.sort_values()`"
   ]
  },
  {
   "cell_type": "code",
   "execution_count": 18,
   "metadata": {},
   "outputs": [
    {
     "data": {
      "text/html": [
       "<div>\n",
       "<style scoped>\n",
       "    .dataframe tbody tr th:only-of-type {\n",
       "        vertical-align: middle;\n",
       "    }\n",
       "\n",
       "    .dataframe tbody tr th {\n",
       "        vertical-align: top;\n",
       "    }\n",
       "\n",
       "    .dataframe thead th {\n",
       "        text-align: right;\n",
       "    }\n",
       "</style>\n",
       "<table border=\"1\" class=\"dataframe\">\n",
       "  <thead>\n",
       "    <tr style=\"text-align: right;\">\n",
       "      <th></th>\n",
       "      <th>id</th>\n",
       "      <th>bio</th>\n",
       "      <th>birth_date</th>\n",
       "      <th>death_date</th>\n",
       "      <th>given_name</th>\n",
       "    </tr>\n",
       "  </thead>\n",
       "  <tbody>\n",
       "    <tr>\n",
       "      <th>2557</th>\n",
       "      <td>0824881</td>\n",
       "      <td>A. Harding Steerman was born on November 21, 1...</td>\n",
       "      <td>1863-11-21</td>\n",
       "      <td>None</td>\n",
       "      <td>A. Harding Steerman</td>\n",
       "    </tr>\n",
       "    <tr>\n",
       "      <th>38395</th>\n",
       "      <td>0132133</td>\n",
       "      <td>None</td>\n",
       "      <td>1868-06-26</td>\n",
       "      <td>None</td>\n",
       "      <td>Gaetano Campanile-Mancini</td>\n",
       "    </tr>\n",
       "    <tr>\n",
       "      <th>2533</th>\n",
       "      <td>0615407</td>\n",
       "      <td>Alexander Murski was born on September 1, 1869...</td>\n",
       "      <td>1869-09-01</td>\n",
       "      <td>None</td>\n",
       "      <td>Alexander Murski</td>\n",
       "    </tr>\n",
       "    <tr>\n",
       "      <th>2225</th>\n",
       "      <td>0428193</td>\n",
       "      <td>Hannah Jones was born on October 15, 1872 in S...</td>\n",
       "      <td>1872-10-15</td>\n",
       "      <td>None</td>\n",
       "      <td>Hannah Jones</td>\n",
       "    </tr>\n",
       "    <tr>\n",
       "      <th>37987</th>\n",
       "      <td>0670971</td>\n",
       "      <td>Amalia Pellegrini (Vigevano, June 16, 1873 - N...</td>\n",
       "      <td>1873-06-16</td>\n",
       "      <td>None</td>\n",
       "      <td>Amalia Pellegrini</td>\n",
       "    </tr>\n",
       "    <tr>\n",
       "      <th>...</th>\n",
       "      <td>...</td>\n",
       "      <td>...</td>\n",
       "      <td>...</td>\n",
       "      <td>...</td>\n",
       "      <td>...</td>\n",
       "    </tr>\n",
       "    <tr>\n",
       "      <th>20034</th>\n",
       "      <td>6026624</td>\n",
       "      <td>AJ is a Pasadena, California born actor. His r...</td>\n",
       "      <td>None</td>\n",
       "      <td>None</td>\n",
       "      <td>A.J. Hudson</td>\n",
       "    </tr>\n",
       "    <tr>\n",
       "      <th>1594</th>\n",
       "      <td>2637989</td>\n",
       "      <td>A.C. Thompson is a producer and writer, known ...</td>\n",
       "      <td>None</td>\n",
       "      <td>None</td>\n",
       "      <td>A.C. Thompson</td>\n",
       "    </tr>\n",
       "    <tr>\n",
       "      <th>17131</th>\n",
       "      <td>0012586</td>\n",
       "      <td>A.C. Peterson was born as Alar Aedma. He is an...</td>\n",
       "      <td>None</td>\n",
       "      <td>None</td>\n",
       "      <td>A.C. Peterson</td>\n",
       "    </tr>\n",
       "    <tr>\n",
       "      <th>19233</th>\n",
       "      <td>0457715</td>\n",
       "      <td>A. Kitman Ho was born in 1950 in Hong Kong as ...</td>\n",
       "      <td>None</td>\n",
       "      <td>None</td>\n",
       "      <td>A. Kitman Ho</td>\n",
       "    </tr>\n",
       "    <tr>\n",
       "      <th>33333</th>\n",
       "      <td>0007263</td>\n",
       "      <td>None</td>\n",
       "      <td>None</td>\n",
       "      <td>None</td>\n",
       "      <td>2 Live Crew</td>\n",
       "    </tr>\n",
       "  </tbody>\n",
       "</table>\n",
       "<p>32427 rows × 5 columns</p>\n",
       "</div>"
      ],
      "text/plain": [
       "            id                                                bio  birth_date  \\\n",
       "2557   0824881  A. Harding Steerman was born on November 21, 1...  1863-11-21   \n",
       "38395  0132133                                               None  1868-06-26   \n",
       "2533   0615407  Alexander Murski was born on September 1, 1869...  1869-09-01   \n",
       "2225   0428193  Hannah Jones was born on October 15, 1872 in S...  1872-10-15   \n",
       "37987  0670971  Amalia Pellegrini (Vigevano, June 16, 1873 - N...  1873-06-16   \n",
       "...        ...                                                ...         ...   \n",
       "20034  6026624  AJ is a Pasadena, California born actor. His r...        None   \n",
       "1594   2637989  A.C. Thompson is a producer and writer, known ...        None   \n",
       "17131  0012586  A.C. Peterson was born as Alar Aedma. He is an...        None   \n",
       "19233  0457715  A. Kitman Ho was born in 1950 in Hong Kong as ...        None   \n",
       "33333  0007263                                               None        None   \n",
       "\n",
       "      death_date                 given_name  \n",
       "2557        None        A. Harding Steerman  \n",
       "38395       None  Gaetano Campanile-Mancini  \n",
       "2533        None           Alexander Murski  \n",
       "2225        None               Hannah Jones  \n",
       "37987       None          Amalia Pellegrini  \n",
       "...          ...                        ...  \n",
       "20034       None                A.J. Hudson  \n",
       "1594        None              A.C. Thompson  \n",
       "17131       None              A.C. Peterson  \n",
       "19233       None               A. Kitman Ho  \n",
       "33333       None                2 Live Crew  \n",
       "\n",
       "[32427 rows x 5 columns]"
      ]
     },
     "execution_count": 18,
     "metadata": {},
     "output_type": "execute_result"
    }
   ],
   "source": [
    "# return the given_name and birth_date of all alive people\n",
    "# and sort them by birth_date (ascending order) and given_name (descending order) \n",
    "\n",
    "# In SQL:\n",
    "sql = \"\"\"\n",
    "SELECT given_name, birth_date\n",
    "FROM imdb.person\n",
    "WHERE death_date IS NULL\n",
    "ORDER BY birth_date ASC, given_name DESC\n",
    "\"\"\"\n",
    "\n",
    "# In Pandas:\n",
    "alive_person = person_df[person_df.death_date.isna()]\n",
    "alive_person.sort_values(by=[\"birth_date\", \"given_name\"], ascending=[True, False])"
   ]
  },
  {
   "cell_type": "markdown",
   "metadata": {},
   "source": [
    "## `JOIN`\n",
    "\n",
    "JOINs can be performed with `.merge`(left, right, how, on, left_on, right_on, left_index, right_index, suffixes).\n",
    "\n",
    "1. `left` and `right`:\n",
    "\n",
    "    These refer to the two DataFrames that you want to merge.\\\n",
    "    In SQL, these correspond to the two tables being joined.\n",
    "\n",
    "2. `how`:\n",
    "\n",
    "    Specifies the type of join to perform. It accepts the following values:\n",
    "    - `inner` (default): Only rows with matching values on the specified columns (like SQL INNER JOIN).\n",
    "    - `left`: All rows from the left DataFrame, and matching rows from the right DataFrame (like SQL LEFT JOIN).\n",
    "    - `right`: All rows from the right DataFrame, and matching rows from the left DataFrame (like SQL RIGHT JOIN).\n",
    "    - `outer`: All rows from both DataFrames, with NaN where no match is found (like SQL FULL OUTER JOIN).\n",
    "    - `cross`: Returns a cartesian product, returning all possible combination of rows from two DataFrames.\n",
    "\n",
    "3. `on`:\n",
    "\n",
    "    Specifies the common column or index to join on. This column should be present in both DataFrames.\\\n",
    "    In SQL, you specify  the columns from both tables in the ON condition\n",
    "\n",
    "4. `left_on` and `right_on`:\n",
    "\n",
    "    These specify the column names to join on when the column names differ between the DataFrames.\n",
    "\n",
    "5. `left_index` and `right_index`:\n",
    "    If True, the merge will use the index from the left or right DataFrame as the join key instead of columns.\\\n",
    "    In SQL, this is equivalent to joining tables on their primary key, but without having a named column for it.\n",
    "\n",
    "6. `suffixes`:\n",
    "    When merging two DataFrames with overlapping column names, Pandas automatically adds suffixes (_x, _y) to distinguish them.\\\n",
    "    You can customize these suffixes using this argument, by passing a squence of two strings to add to column names.\\\n",
    "    SQL doesn’t automatically add suffixes, so you typically alias the columns in your query to avoid naming conflicts."
   ]
  },
  {
   "cell_type": "code",
   "execution_count": 115,
   "metadata": {},
   "outputs": [
    {
     "data": {
      "text/plain": [
       "144                Citizen Vader\n",
       "257        Return to Glennascaul\n",
       "343                Reign of Fire\n",
       "492                 Barry Lyndon\n",
       "721         The Land Before Time\n",
       "850     Ordinary Decent Criminal\n",
       "1089      This Must Be the Place\n",
       "Name: official_title, dtype: object"
      ]
     },
     "execution_count": 115,
     "metadata": {},
     "output_type": "execute_result"
    }
   ],
   "source": [
    "# get the official_title of Irish movies \n",
    "\n",
    "# In SQL:\n",
    "sql = \"\"\"\n",
    "SELECT official_title\n",
    "FROM imdb.movie INNER JOIN imdb.produced ON movie.id = produced.movie\n",
    "WHERE country = 'IRL'\n",
    "\"\"\"\n",
    "pd.read_sql(sql, con=connection)\n",
    "\n",
    "# In Pandas\n",
    "\n",
    "where_condition = \"country == 'IRL'\"\n",
    "pd\\\n",
    "    .merge(movie_df, produced_df, how='inner', left_on='id', right_on='movie')\\\n",
    "    .query(where_condition)[\"official_title\"]"
   ]
  },
  {
   "cell_type": "code",
   "execution_count": null,
   "metadata": {},
   "outputs": [],
   "source": [
    "# get the title of Irish movies \n",
    "\n",
    "# In SQL:\n",
    "sql = \"\"\" \n",
    "SELECT official_title\n",
    "FROM imdb.movie INNER JOIN imdb.produced ON id = movie\n",
    "WHERE country = 'IRL'\n",
    "\"\"\"\n",
    "pd.read_sql(sql, con=connection)\n",
    "\n",
    "\n",
    "# In Pandas:\n",
    "pd\\\n",
    "    .merge(movie_df, produced_df, how=\"inner\", left_on=\"id\", right_on=\"movie\")\\\n",
    "    .query(\"country == 'IRL'\")\\\n",
    "    [\"official_title\"]"
   ]
  },
  {
   "cell_type": "code",
   "execution_count": null,
   "metadata": {},
   "outputs": [],
   "source": [
    "# get the countries where 'Crime' movies are produced\n",
    "\n",
    "sql = \"\"\"  \n",
    "SELECT DISTINCT country\n",
    "FROM imdb.genre AS genre \n",
    "LEFT JOIN imdb.produced as country ON genre.movie = country.movie\n",
    "WHERE genre = 'Crime'\n",
    "\"\"\"\n",
    "\n",
    "print(len(pd.read_sql(sql, con=connection)))\n",
    "\n",
    "print(len(pd\\\n",
    "    .merge(genres_df, produced_df, how=\"inner\", on=\"movie\")\\\n",
    "    .query(\"genre == 'Crime'\")\\\n",
    "    [\"country\"].drop_duplicates()))"
   ]
  },
  {
   "cell_type": "code",
   "execution_count": null,
   "metadata": {},
   "outputs": [],
   "source": [
    "# get the title of movies starring 'Anne Hathaway'\n",
    "\n",
    "# In SQL:\n",
    "\n",
    "# using multiple joins\n",
    "sql = \"\"\"  \n",
    "SELECT official_title, year, plot\n",
    "FROM imdb.person INNER JOIN imdb.crew c ON person.id = crew.movie\n",
    "INNER JOIN imdb.movie ON crew.movie = movie.id\n",
    "WHERE given_name = 'Anne Hathaway'\n",
    "\"\"\"\n",
    "pd.read_sql(sql, con=connection)\n",
    "\n",
    "# In Pandas:\n",
    "pd.merge(person_df, crew_df, how=\"inner\", left_on=\"id\", right_on=\"person\")\\\n",
    "    .merge(movie_df, how=\"inner\", left_on=\"movie\", right_on=\"id\", suffixes=[\"_person\", \"_movie\"])\\\n",
    "    .query(\"given_name == 'Anne Hathaway'\")[\"official_title\"]\n",
    "\n",
    "\n",
    "\n",
    "# using CTE\n",
    "sql = \"\"\"\n",
    "\n",
    "WITH hathaway_movies AS (\n",
    "    SELECT movie \n",
    "    FROM imdb.person INNER JOIN imdb.crew ON person.id = crew.person\n",
    "    WHERE given_name = 'Anne Hathaway' \n",
    "    )\n",
    "    \n",
    "SELECT official_title\n",
    "FROM imdb.movie INNER JOIN hathaway_movies ON id = movie\n",
    "\"\"\"\n",
    "\n",
    "# equivalent to CTE\n",
    "movies_with_anne = pd.merge(crew_df, person_df, how='inner', left_on=\"person\", right_on='id').query(\"given_name == 'Anne Hathaway'\")\n",
    "pd.merge(movie_df, movies_with_anne, how='inner', left_on=\"id\", right_on='movie', suffixes=[\"_movie\", \"_person\"])"
   ]
  },
  {
   "cell_type": "code",
   "execution_count": 63,
   "metadata": {},
   "outputs": [],
   "source": [
    "# get the ids of top 10 ranking Horror movies\n",
    "\n",
    "# In SQL\n",
    "sql = \"\"\"  \n",
    "\n",
    "WITH horror_movies AS (\n",
    "    SELECT movie \n",
    "    FROM imdb.genre \n",
    "    WHERE genre = 'Horror'\n",
    ")\n",
    "\n",
    "SELECT horror_movies.movie\n",
    "FROM horror_movies INNER JOIN imdb.rating ON horror_movies.movie = rating.movie\n",
    "\"\"\"\n",
    "pd.read_sql(sql, con=connection)\n",
    "\n",
    "\n",
    "# In Pandas:\n",
    "\n",
    "# 1. get the ids of horror movies\n",
    "horror_movies = genres_df.query(\"genre == 'Horror'\")[\"movie\"]\n",
    "\n",
    "# 2. get the scores for these movies, sort and get the top 10\n",
    "top10_horrors = pd.merge(horror_movies, rating_df, how=\"inner\", on=\"movie\").sort_values(\"score\", ascending=False)[:10][\"movie\"]"
   ]
  },
  {
   "cell_type": "code",
   "execution_count": null,
   "metadata": {},
   "outputs": [],
   "source": [
    "# get the title of movies produced in one of the following countries: 'AUS', 'GBR' or 'IRL'.\n",
    "\n",
    "# In SQL:\n",
    "sql = \"\"\" \n",
    "SELECT official_title, country\n",
    "FROM imdb.movie \n",
    "INNER JOIN imdb.produced ON id = movie\n",
    "WHERE country IN ('AUS', 'GBR', 'IRL')\n",
    "\"\"\"\n",
    "print(len(pd.read_sql(sql, con=connection)))\n",
    "\n",
    "\n",
    "# In Pandas:\n",
    "\n",
    "# 1. merge two dataframes\n",
    "merged_df = pd.merge(movie_df, produced_df, how=\"inner\", left_on=\"id\", right_on=\"movie\")\n",
    "\n",
    "# 2. specify a condition on the country column\n",
    "condition = merged_df[\"country\"].isin(('AUS', 'GBR', 'IRL'))\n",
    "\n",
    "# 3. subset the merged dataframe\n",
    "merged_df[condition][[\"official_title\", \"country\"]]"
   ]
  },
  {
   "cell_type": "markdown",
   "metadata": {},
   "source": [
    "## <center>Set operations</center>"
   ]
  },
  {
   "cell_type": "markdown",
   "metadata": {},
   "source": [
    "### INTERSECT"
   ]
  },
  {
   "cell_type": "code",
   "execution_count": 299,
   "metadata": {},
   "outputs": [],
   "source": [
    "# get movies produced in both USA and FRA\n",
    "\n",
    "# In SQL:\n",
    "\n",
    "# using set operation INTERSECT\n",
    "sql = \"\"\"\n",
    "SELECT movie\n",
    "from imdb.produced \n",
    "where country = 'USA'\n",
    "\n",
    "INTERSECT\n",
    "\n",
    "SELECT movie\n",
    "from imdb.produced \n",
    "where country = 'FRA'\n",
    "\"\"\"\n",
    "\n",
    "# using self-join of the table produced\n",
    "sql = \"\"\"\n",
    "SELECT p1.movie\n",
    "FROM imdb.produced AS usa INNER JOIN imdb.produced AS fra ON usa.movie = fra.movie \n",
    "WHERE p1.country = 'USA' AND p2.country = 'FRA'\n",
    "\"\"\"\n",
    "\n",
    "# using nested query\n",
    "sql = \"\"\"  \n",
    "SELECT movie\n",
    "FROM imdb.produced\n",
    "WHERE country = 'USA' AND movie IN (\n",
    "    SELECT movie\n",
    "    FROM imdb.produced\n",
    "    WHERE country = 'FRA')\n",
    "\"\"\"\n",
    "\n",
    "# using CTE\n",
    "sql = \"\"\"\n",
    "WITH usa_movies AS (\n",
    "    SELECT movie\n",
    "    FROM imdb.produced\n",
    "    WHERE country = 'USA'\n",
    "),\n",
    "    fra_movies AS (\n",
    "    SELECT movie\n",
    "    FROM imdb.produced\n",
    "    WHERE country = 'FRA')\n",
    "\n",
    "SELECT usa.movie\n",
    "FROM usa_movies AS usa INNER JOIN fra_movies as fra ON usa.movie = fra.movie\n",
    "\"\"\"\n",
    "\n",
    "pd.read_sql(sql, con=connection)"
   ]
  },
  {
   "cell_type": "markdown",
   "metadata": {},
   "source": [
    "In pandas, there is no method implementing INTERSECT operation. Joins between tables can be exploited instead."
   ]
  },
  {
   "cell_type": "code",
   "execution_count": null,
   "metadata": {},
   "outputs": [],
   "source": [
    "# In Pandas:\n",
    "\n",
    "# 1. get movies produced in USA\n",
    "movies_usa = movie_df.query('country == \"USA\"')[[\"movie\", \"official_title\"]]\n",
    "\n",
    "# 2. get movies produced in FRA\n",
    "movies_fra = movie_df.query('country == \"FRA\"')[[\"movie\", \"official_title\"]]\n",
    "\n",
    "# 3.merge two dataframes (equivalennt to the SQL CTE)\n",
    "pd.merge(movies_usa, movies_fra, on='movie')\n",
    "\n",
    "# 3. an alternative solution via isin(): \n",
    "movies_usa[movies_usa[\"movie\"].isin(movies_fra[\"movie\"])]"
   ]
  },
  {
   "cell_type": "markdown",
   "metadata": {},
   "source": [
    "Also include the title! (JOIN is needed)"
   ]
  },
  {
   "cell_type": "code",
   "execution_count": null,
   "metadata": {},
   "outputs": [],
   "source": [
    "\n",
    "# 1. get movies produced in USA\n",
    "movies_usa = pd.merge(movie_df, produced_df, how='inner', left_on='id', right_on='movie').query('country == \"USA\"')[[\"movie\", \"official_title\"]]\n",
    "\n",
    "# 2. get movies produced in FRA\n",
    "movies_fra = pd.merge(movie_df, produced_df, how='inner', left_on='id', right_on='movie').query('country == \"FRA\"')[[\"movie\", \"official_title\"]]\n",
    "\n",
    "# 3.merge two dataframes (equivalennt to the SQL CTE)\n",
    "pd.merge(movies_usa, movies_fra, on='movie')\n",
    "\n",
    "# 3. an alternative solution via isin(): \n",
    "movies_usa[movies_usa[\"movie\"].isin(movies_fra[\"movie\"])]"
   ]
  },
  {
   "cell_type": "code",
   "execution_count": 766,
   "metadata": {},
   "outputs": [
    {
     "data": {
      "text/html": [
       "<div>\n",
       "<style scoped>\n",
       "    .dataframe tbody tr th:only-of-type {\n",
       "        vertical-align: middle;\n",
       "    }\n",
       "\n",
       "    .dataframe tbody tr th {\n",
       "        vertical-align: top;\n",
       "    }\n",
       "\n",
       "    .dataframe thead th {\n",
       "        text-align: right;\n",
       "    }\n",
       "</style>\n",
       "<table border=\"1\" class=\"dataframe\">\n",
       "  <thead>\n",
       "    <tr style=\"text-align: right;\">\n",
       "      <th></th>\n",
       "      <th>movie</th>\n",
       "    </tr>\n",
       "  </thead>\n",
       "  <tbody>\n",
       "    <tr>\n",
       "      <th>0</th>\n",
       "      <td>0318649</td>\n",
       "    </tr>\n",
       "    <tr>\n",
       "      <th>1</th>\n",
       "      <td>0976247</td>\n",
       "    </tr>\n",
       "    <tr>\n",
       "      <th>2</th>\n",
       "      <td>1800302</td>\n",
       "    </tr>\n",
       "  </tbody>\n",
       "</table>\n",
       "</div>"
      ],
      "text/plain": [
       "     movie\n",
       "0  0318649\n",
       "1  0976247\n",
       "2  1800302"
      ]
     },
     "execution_count": 766,
     "metadata": {},
     "output_type": "execute_result"
    }
   ],
   "source": [
    "# return movies starring Matthew McConaughey as BOTH actor and producer\n",
    "\n",
    "# In SQL:\n",
    "\n",
    "# using set operation INTERSECT\n",
    "sql = \"\"\"\n",
    "\n",
    "-- get movies where Matthew McConaughey is an actor\n",
    "SELECT movie\n",
    "FROM imdb.crew INNER JOIN imdb.person ON crew.person = person.id\n",
    "WHERE given_name = 'Matthew McConaughey' AND p_role = 'actor'\n",
    "\n",
    "INTERSECT\n",
    "\n",
    "-- get movies where Matthew McConaughey is a producer\n",
    "SELECT movie\n",
    "FROM imdb.crew INNER JOIN imdb.person ON crew.person = person.id\n",
    "WHERE given_name = 'Matthew McConaughey' AND p_role = 'producer'\n",
    "\"\"\"\n",
    "\n",
    "# using nested query\n",
    "sql = \"\"\"  \n",
    "SELECT movie\n",
    "FROM imdb.crew INNER JOIN imdb.person ON crew.person = person.id\n",
    "WHERE given_name = 'Matthew McConaughey' AND p_role = 'actor' AND movie IN (\n",
    "    SELECT movie\n",
    "    FROM imdb.crew INNER JOIN imdb.person ON crew.person = person.id\n",
    "    WHERE given_name = 'Matthew McConaughey' AND p_role = 'producer'\n",
    ")\n",
    "\"\"\"\n",
    "\n",
    "# using self-join of the table crew\n",
    "sql = \"\"\"\n",
    "SELECT g1.movie\n",
    "FROM imdb.crew c1 \n",
    "INNER JOIN imdb.crew c2 ON c1.person = c2.person\n",
    "INNER JOIN imdb.person p1 ON c1.person = p1.id\n",
    "INNER JOIN imdb.person p2 ON c2.person = p2.id\n",
    "WHERE p1.given_name = 'Matthew McConaughey' AND c1.p_role = 'actor'\n",
    "AND p2.given_name = 'Matthew McConaughey' AND c2.p_role = 'producer' \n",
    "\"\"\"\n",
    "\n",
    "pd.read_sql(sql, con=connection)"
   ]
  },
  {
   "cell_type": "code",
   "execution_count": 64,
   "metadata": {},
   "outputs": [
    {
     "data": {
      "text/html": [
       "<div>\n",
       "<style scoped>\n",
       "    .dataframe tbody tr th:only-of-type {\n",
       "        vertical-align: middle;\n",
       "    }\n",
       "\n",
       "    .dataframe tbody tr th {\n",
       "        vertical-align: top;\n",
       "    }\n",
       "\n",
       "    .dataframe thead th {\n",
       "        text-align: right;\n",
       "    }\n",
       "</style>\n",
       "<table border=\"1\" class=\"dataframe\">\n",
       "  <thead>\n",
       "    <tr style=\"text-align: right;\">\n",
       "      <th></th>\n",
       "      <th>movie</th>\n",
       "    </tr>\n",
       "  </thead>\n",
       "  <tbody>\n",
       "    <tr>\n",
       "      <th>0</th>\n",
       "      <td>1800302</td>\n",
       "    </tr>\n",
       "    <tr>\n",
       "      <th>1</th>\n",
       "      <td>0976247</td>\n",
       "    </tr>\n",
       "    <tr>\n",
       "      <th>2</th>\n",
       "      <td>0318649</td>\n",
       "    </tr>\n",
       "  </tbody>\n",
       "</table>\n",
       "</div>"
      ],
      "text/plain": [
       "     movie\n",
       "0  1800302\n",
       "1  0976247\n",
       "2  0318649"
      ]
     },
     "execution_count": 64,
     "metadata": {},
     "output_type": "execute_result"
    }
   ],
   "source": [
    "# In Pandas:\n",
    "\n",
    "# 1. get the ids of movies where McConaughey is an 'actor'\n",
    "as_actor = pd.merge(crew_df, person_df, how='inner', left_on='person', right_on='id').query(\"given_name == 'Matthew McConaughey' and p_role == 'actor'\")[\"movie\"]\n",
    "\n",
    "# 2. get the ids of movies where McConaughey is a 'producer'\n",
    "as_producer = pd.merge(crew_df, person_df, how='inner', left_on='person', right_on='id').query(\"given_name == 'Matthew McConaughey' and p_role == 'producer'\")[\"movie\"]\n",
    "\n",
    "# 3. Keep only the horror movies that appear among thrillers \n",
    "pd.merge(as_actor, as_producer, how=\"inner\", on=\"movie\")"
   ]
  },
  {
   "cell_type": "markdown",
   "metadata": {},
   "source": [
    "### EXCEPT"
   ]
  },
  {
   "cell_type": "code",
   "execution_count": 353,
   "metadata": {},
   "outputs": [
    {
     "data": {
      "text/plain": [
       "29"
      ]
     },
     "execution_count": 353,
     "metadata": {},
     "output_type": "execute_result"
    }
   ],
   "source": [
    "# return movies without rating\n",
    "\n",
    "# In SQL:\n",
    "\n",
    "# using EXCEPT operator\n",
    "sql = \"\"\"\n",
    "SELECT id\n",
    "FROM imdb.movie\n",
    "EXCEPT\n",
    "SELECT movie \n",
    "FROM imdb.rating\n",
    "\"\"\"\n",
    "\n",
    "# using nested query\n",
    "sql = \"\"\"\n",
    "SELECT id\n",
    "FROM imdb.movie \n",
    "WHERE id NOT IN (\n",
    "    SELECT movie \n",
    "    FROM imdb.rating\n",
    "    )\n",
    "\"\"\"\n",
    "\n",
    "# using LEFT JOIN\n",
    "sql = \"\"\"\n",
    "SELECT id\n",
    "FROM imdb.movie \n",
    "LEFT JOIN imdb.rating ON movie.id = rating.movie\n",
    "WHERE rating.movie IS NULL;\n",
    "\"\"\"\n",
    "\n",
    "len(pd.read_sql(sql, con=connection))"
   ]
  },
  {
   "cell_type": "markdown",
   "metadata": {},
   "source": [
    "In Pandas, there is no specific method for the EXCEPT operation.\\\n",
    "An equivalent effect can be achieved by negating the condition that uses `isin()` operator."
   ]
  },
  {
   "cell_type": "code",
   "execution_count": null,
   "metadata": {},
   "outputs": [],
   "source": [
    "# In Pandas:\n",
    "\n",
    "# 1. get the ids of all movies with rating, \n",
    "# simply take the movie column from the rating table\n",
    "movies_with_rating = rating_df[\"movie\"]\n",
    "\n",
    "# 2. for each id in the movie table, check if the movie id appears in the rating table\n",
    "is_rated = movie_df[\"id\"].isin(movies_with_rating)\n",
    "\n",
    "# 3. use the above condition to subset the movie table, only selecting rows where the condition is True\n",
    "movie_df[is_rated]\n",
    "\n",
    "# 4. negate the condition using ~, so that 'movie id IS IN the rating table' becomes 'movie id IS NOT IN the rating table' \n",
    "movie_df[~is_rated]"
   ]
  },
  {
   "cell_type": "code",
   "execution_count": 365,
   "metadata": {},
   "outputs": [
    {
     "data": {
      "text/plain": [
       "421"
      ]
     },
     "execution_count": 365,
     "metadata": {},
     "output_type": "execute_result"
    }
   ],
   "source": [
    "# return movies that are not Thriller: \n",
    "# the condition does not refer to a single row, but to a movie, which may have several rows associated\n",
    "# Reasoning: you do NOT want to filter out rows that have the value 'Thriller', but rather movies that have 'Thriller' as one of their genres.\n",
    "# Therefore, the condition cannot be verified at the level of a single record.\n",
    "# Instead, it should be verified at the level of a block of rows referring to the same movie.\n",
    "\n",
    "# In SQL:\n",
    "\n",
    "# using set operation EXCEPT\n",
    "sql = \"\"\" \n",
    "-- get all movies\n",
    "SELECT id\n",
    "FROM imdb.movie \n",
    "\n",
    "EXCEPT\n",
    "\n",
    "-- get 'Thriller' movies\n",
    "SELECT movie\n",
    "FROM imdb.genre\n",
    "WHERE genre = 'Thriller'\n",
    "\"\"\"\n",
    "\n",
    "# using nested query\n",
    "sql = \"\"\" \n",
    "-- get all movies\n",
    "SELECT id\n",
    "FROM imdb.movie \n",
    "\n",
    "-- get the complementary set of 'Thriller' movies\n",
    "WHERE id NOT IN (\n",
    "    -- get the ids of 'Thriller' movies\n",
    "    SELECT movie \n",
    "    FROM imdb.genre\n",
    "    WHERE genre = 'Thriller'\n",
    "    )\n",
    "\"\"\"\n",
    "len(pd.read_sql(sql, con=connection))\n",
    "\n",
    "\n",
    "# In Pandas:\n",
    "\n",
    "# 1. get the ids of 'Thriller' movies\n",
    "ids_of_thrillers = genres_df[genres_df[\"genre\"] == 'Thriller'][\"movie\"]\n",
    "\n",
    "# 2. for each id in the movie table, check if the movie id appear among 'Thriller' ids\n",
    "is_thriller = movie_df[\"id\"].isin(ids_of_thrillers)\n",
    "\n",
    "# 3. get the complementary set of the 'Thriller' movies, using the above condition\n",
    "len(movie_df[~is_thriller])"
   ]
  },
  {
   "cell_type": "markdown",
   "metadata": {},
   "source": [
    "### `UNION` & `UNION ALL` (keeps duplicates)\n",
    "\n",
    "In pandas, use `concat()` to perform an equivalent to SQL `UNION ALL` operation. The result keeps duplicate rows. \\\n",
    "`concat()` in  conjunction with `drop_duplicates()` with produce an equivalent to SQL `UNION`, removing duplicate rows from the result set."
   ]
  },
  {
   "cell_type": "code",
   "execution_count": null,
   "metadata": {},
   "outputs": [],
   "source": [
    "# get movies produced in Australia or those never rated lower than 8.5\n",
    "\n",
    "# In SQL:\n",
    "\n",
    "# using set operations\n",
    "sql = \"\"\" \n",
    "-- get movies produced in Australia\n",
    "SELECT movie\n",
    "FROM imdb.produced \n",
    "WHERE country = 'AUS' \n",
    "UNION\n",
    "(\n",
    "    -- taking all rated movies\n",
    "    SELECT movie\n",
    "    FROM imdb.rating \n",
    "\n",
    "    -- excluding movies rated below 8.5\n",
    "    EXCEPT \n",
    "    SELECT movie \n",
    "    FROM imdb.rating\n",
    "    WHERE score <= 8.5\n",
    ")\n",
    "\"\"\"\n",
    "\n",
    "# using nested query\n",
    "sql = \"\"\" \n",
    "-- get movies produced in Australia\n",
    "SELECT movie\n",
    "FROM imdb.produced \n",
    "WHERE country = 'AUS' \n",
    "UNION \n",
    "\n",
    "-- get the complementary set to low-rating movies\n",
    "SELECT movie\n",
    "FROM imdb.rating \n",
    "WHERE movie NOT IN (\n",
    "\n",
    "    -- get movies with low rating\n",
    "    SELECT movie \n",
    "    FROM imdb.rating\n",
    "    WHERE score <= 8.5\n",
    "    )\n",
    "\"\"\"\n",
    "\n",
    "\n",
    "pd.read_sql(sql, con=connection)\n",
    "\n",
    "# In Pandas\n",
    "\n",
    "# 1. get movies produced in Australia\n",
    "australian_movies = produced_df.query(\"country == 'AUS'\")\n",
    "\n",
    "# 2. get movies with low rating\n",
    "low_rating_movies = rating_df[rating_df[\"score\"]<= 8.5][\"movie\"]\n",
    "\n",
    "# 3. get the complementary to low-rating movies\n",
    "high_rating_movies = rating_df[~rating_df[\"movie\"].isin(low_rating_movies)]\n",
    "\n",
    "pd.concat([australian_movies, high_rating_movies]).drop_duplicates()"
   ]
  },
  {
   "cell_type": "markdown",
   "metadata": {},
   "source": [
    "### Aggregations\n",
    "\n",
    "Aggregation in pandas is done by computing columns based on an aggregate function: MIN, MAX, AVG, SUM, COUNT"
   ]
  },
  {
   "cell_type": "code",
   "execution_count": null,
   "metadata": {},
   "outputs": [],
   "source": [
    "movie_df.length.min()        # MIN\n",
    "movie_df.length.max()        # MAX\n",
    "movie_df.length.mean()       # AVG\n",
    "movie_df.length.sum()        # SUM\n",
    "movie_df.length.count()      # COUNT NOT NULL\n",
    "movie_df.length.nunique()    # COUNT DISTINCT"
   ]
  },
  {
   "cell_type": "code",
   "execution_count": 161,
   "metadata": {},
   "outputs": [
    {
     "name": "stdout",
     "output_type": "stream",
     "text": [
      "   count  count  max\n",
      "0   1006     98  877\n"
     ]
    },
    {
     "data": {
      "text/plain": [
       "(np.int64(1006), 98, np.float64(877.0))"
      ]
     },
     "execution_count": 161,
     "metadata": {},
     "output_type": "execute_result"
    }
   ],
   "source": [
    "# return the length of the longest movie in the database\n",
    "\n",
    "# In SQL:\n",
    "sql = \"\"\"\n",
    "SELECT max(length)\n",
    "FROM imdb.movie\n",
    "\"\"\"\n",
    "print(pd.read_sql(sql, con=connection))\n",
    "\n",
    "# In Pandas:\n",
    "movie_df.length.max()"
   ]
  },
  {
   "cell_type": "markdown",
   "metadata": {},
   "source": [
    "Aggregates are used in nested queries"
   ]
  },
  {
   "cell_type": "code",
   "execution_count": null,
   "metadata": {},
   "outputs": [],
   "source": [
    "# return the longest movie in the database\n",
    "# returning the movie with the max length is different from returning the value of the max length ! \n",
    "# you need to use nested query to obtain the correct result\n",
    "\n",
    "# In SQL:\n",
    "sql = \"\"\"\n",
    "SELECT *\n",
    "FROM imdb.movie\n",
    "WHERE length = (\n",
    "    SELECT MAX(length)\n",
    "    FROM imdb.movie\n",
    "    )\n",
    "\"\"\"\n",
    "print(pd.read_sql(sql, con=connection))\n",
    "\n",
    "# In Pandas:\n",
    "max_length = movie_df[\"length\"].max()\n",
    "movie_df[movie_df[\"length\"] == max_length]"
   ]
  },
  {
   "cell_type": "code",
   "execution_count": null,
   "metadata": {},
   "outputs": [],
   "source": [
    "# retrieve the oldest movie\n",
    "\n",
    "sql = \"\"\"\n",
    "SELECT * FROM imdb.movie \n",
    "WHERE year = (SELECT MIN(year) FROM imdb.movie)\n",
    "\"\"\"\n",
    "pd.read_sql(sql, con=connection)\n",
    "\n",
    "# In Pandas:\n",
    "# first cast the column 'year' to a float, otherwise you get an error when evaluating the min \n",
    "movie_df[\"year\"] = movie_df[\"year\"].astype(float)\n",
    "movie_df[movie_df[\"year\"] == movie_df[\"year\"].min()]"
   ]
  },
  {
   "cell_type": "markdown",
   "metadata": {},
   "source": [
    "### GROUP BY\n",
    "\n",
    "In pandas, SQL’s GROUP BY operations are performed using the `groupby()` method.\n"
   ]
  },
  {
   "cell_type": "code",
   "execution_count": null,
   "metadata": {},
   "outputs": [],
   "source": [
    "# grouping rows by a single column\n",
    "produced_df.groupby(\"country\")\n",
    "\n",
    "# grouping by multiple columns\n",
    "crew_df.groupby([\"movie\", \"p_role\"])"
   ]
  },
  {
   "cell_type": "markdown",
   "metadata": {},
   "source": [
    "** NOTE! **\n",
    "\n",
    "Differently from SQL, in Pandas `NA` values are excluded from group keys during the groupby operation. To include them, set `dropna` = False."
   ]
  },
  {
   "cell_type": "code",
   "execution_count": null,
   "metadata": {},
   "outputs": [],
   "source": [
    "produced_df.groupby(\"country\", dropna=False)"
   ]
  },
  {
   "cell_type": "markdown",
   "metadata": {},
   "source": [
    "\n",
    "*Inspecting grouped dataframe*"
   ]
  },
  {
   "cell_type": "code",
   "execution_count": 630,
   "metadata": {},
   "outputs": [
    {
     "data": {
      "text/plain": [
       "{'AFG': [225], 'ARE': [519, 617], 'ARG': [131, 667, 1185], 'AUS': [410, 639, 1136], 'AUT': [383], 'BEL': [195, 242], 'BGR': [1159], 'BRA': [1081], 'CAN': [20, 91, 165, 168, 181, 273, 279, 294, 396, 398, 425, 534, 537, 553, 579, 603, 606, 655, 817, 827, 833, 894, 966, 988], 'CHE': [95, 125, 1078, 1149, 1173, 1181], 'CHN': [276, 384, 512, 514, 522, 549, 602, 620, 784, 816, 931], 'COG': [390], 'CUB': [143], 'CYP': [1160], 'DEU': [53, 70, 72, 78, 303, 328, 338, 344, 346, 385, 399, 402, 420, 438, 457, 472, 521, 525, 528, 543, 558, 612, 645, 684, 799, 838, 840, 845, 849, 855, 862, 881, 884, 886, 898, 917, 920, 951, 973, 1024, 1135, 1143, 1157, 1284], 'EGY': [226], 'ESP': [86, 94, 115, 124, 127, 152, 156, 187, 210, 302, 539, 540, 589, 927, 930, 1192, 1203, 1247, 1294], 'FRA': [93, 99, 109, 110, 113, 119, 122, 126, 128, 136, 150, 186, 192, 196, 206, 221, 224, 230, 231, 235, 239, 251, 253, 267, 336, 348, 364, 448, 471, 582, 654, 808, 815, 868, 940, 964, 987, 1020, 1023, 1028, 1030, 1033, 1038, 1041, 1043, 1045, 1047, 1050, 1057, 1060, 1069, 1073, 1076, 1084, 1087, 1093, 1095, 1115, 1117, 1127, 1140, 1145, 1150, 1153, 1163, 1166, 1168, 1169, 1174, 1176, 1189, 1196, 1201, 1206, 1209, 1213, 1215, 1219, 1221, 1223, 1225, 1228, 1230, 1232, 1234, 1236, 1238, 1242, 1245, 1250, 1279, 1283, 1291, 1295, 1303, 1305, 1307, 1309, 1314, 1316], 'GBR': [14, 22, 23, 27, 28, 29, 35, 36, 43, 44, 45, 46, 47, 48, 49, 50, 51, 52, 54, 55, 56, 57, 58, 59, 60, 61, 62, 63, 64, 65, 66, 67, 68, 69, 71, 73, 76, 77, 79, 80, 81, 88, 90, 111, 112, 121, 135, 153, 157, 163, 175, 184, 188, 215, 216, 217, 218, 220, 227, 228, 240, 248, 257, 259, 265, 270, 272, 275, 280, 281, 284, 286, 288, 289, 290, 292, 296, 301, 327, 341, 380, 389, 391, 417, 419, 466, 467, 485, 487, 489, 491, 494, 496, 499, 504, 527, 641, 672, 702, 763, ...], 'GRC': [1142, 1158], 'GTM': [607], 'HKG': [381, 407, 423, 450, 515, 1278], 'HUN': [123, 668, 678], 'IND': [386, 610, 613, 618, 623, 626, 631, 1288], 'IRL': [142, 256, 342, 493, 718, 848, 1088], 'ISL': [274, 431, 439], 'ITA': [87, 92, 97, 116, 129, 132, 138, 151, 155, 178, 185, 193, 198, 203, 205, 207, 209, 212, 223, 229, 232, 234, 236, 250, 254, 255, 430, 523, 958, 989, 1016, 1019, 1022, 1025, 1026, 1027, 1029, 1031, 1032, 1034, 1035, 1036, 1037, 1039, 1040, 1042, 1044, 1046, 1048, 1049, 1051, 1052, 1053, 1054, 1055, 1056, 1058, 1059, 1061, 1062, 1063, 1064, 1065, 1066, 1068, 1071, 1072, 1074, 1075, 1079, 1080, 1083, 1085, 1086, 1089, 1090, 1091, 1092, 1094, 1096, 1097, 1098, 1099, 1100, 1101, 1102, 1103, 1104, 1105, 1106, 1107, 1108, 1109, 1110, 1111, 1112, 1113, 1114, 1116, 1118, ...], 'JPN': [161, 162, 173, 311, 475, 532, 550, 703, 710, 899], 'LIE': [237], 'LUX': [1280], 'MAR': [98], 'MEX': [405, 1002, 1193], 'NLD': [266, 990], 'NZL': [531, 597, 629, 642], 'POL': [669], 'PRT': [1070, 1154], 'ROU': [208, 213], 'SVK': [432, 440], 'SWE': [1161], 'UKR': [651], 'USA': [0, 1, 2, 3, 4, 5, 6, 7, 8, 9, 10, 11, 12, 13, 15, 16, 17, 18, 19, 21, 24, 25, 26, 30, 31, 32, 33, 34, 37, 38, 39, 40, 41, 42, 74, 75, 82, 83, 84, 85, 89, 96, 100, 101, 102, 103, 104, 105, 106, 107, 108, 114, 117, 118, 120, 130, 133, 134, 137, 139, 140, 141, 144, 145, 146, 147, 148, 149, 154, 158, 159, 160, 164, 166, 167, 169, 170, 171, 172, 174, 176, 177, 179, 180, 182, 183, 189, 190, 191, 194, 197, 199, 200, 201, 202, 204, 211, 214, 219, 222, ...]}"
      ]
     },
     "execution_count": 630,
     "metadata": {},
     "output_type": "execute_result"
    }
   ],
   "source": [
    "# Use `.groups` attibute to returns a dictionary, where\n",
    "# keys are the unique groups and values are the elements belonging to each group.\n",
    "\n",
    "produced_df.groupby(\"country\").groups"
   ]
  },
  {
   "cell_type": "code",
   "execution_count": 577,
   "metadata": {},
   "outputs": [
    {
     "data": {
      "text/html": [
       "<div>\n",
       "<style scoped>\n",
       "    .dataframe tbody tr th:only-of-type {\n",
       "        vertical-align: middle;\n",
       "    }\n",
       "\n",
       "    .dataframe tbody tr th {\n",
       "        vertical-align: top;\n",
       "    }\n",
       "\n",
       "    .dataframe thead th {\n",
       "        text-align: right;\n",
       "    }\n",
       "</style>\n",
       "<table border=\"1\" class=\"dataframe\">\n",
       "  <thead>\n",
       "    <tr style=\"text-align: right;\">\n",
       "      <th></th>\n",
       "      <th>movie</th>\n",
       "      <th>country</th>\n",
       "    </tr>\n",
       "  </thead>\n",
       "  <tbody>\n",
       "    <tr>\n",
       "      <th>410</th>\n",
       "      <td>1343092</td>\n",
       "      <td>AUS</td>\n",
       "    </tr>\n",
       "    <tr>\n",
       "      <th>639</th>\n",
       "      <td>0374463</td>\n",
       "      <td>AUS</td>\n",
       "    </tr>\n",
       "    <tr>\n",
       "      <th>1136</th>\n",
       "      <td>0151594</td>\n",
       "      <td>AUS</td>\n",
       "    </tr>\n",
       "  </tbody>\n",
       "</table>\n",
       "</div>"
      ],
      "text/plain": [
       "        movie country\n",
       "410   1343092     AUS\n",
       "639   0374463     AUS\n",
       "1136  0151594     AUS"
      ]
     },
     "execution_count": 577,
     "metadata": {},
     "output_type": "execute_result"
    }
   ],
   "source": [
    "# select a group by key\n",
    "produced_df.groupby(\"country\").get_group(\"AUS\")"
   ]
  },
  {
   "cell_type": "markdown",
   "metadata": {},
   "source": [
    "### Grouped Aggregations\n"
   ]
  },
  {
   "cell_type": "markdown",
   "metadata": {},
   "source": [
    "Use `.agg()` method to apply any reduction function to all columns."
   ]
  },
  {
   "cell_type": "code",
   "execution_count": null,
   "metadata": {},
   "outputs": [],
   "source": [
    "# using .agg() method that accepts any reduction method as a string \n",
    "crew_df.groupby(\"movie\").agg(\"count\")"
   ]
  },
  {
   "cell_type": "markdown",
   "metadata": {},
   "source": [
    "*Apply multiple reduction functions to all columns*."
   ]
  },
  {
   "cell_type": "code",
   "execution_count": null,
   "metadata": {},
   "outputs": [],
   "source": [
    "# using .agg() with a list to apply multiple reduction methods to all columns at once\n",
    "crew_df.groupby(\"movie\").agg([\"size\", \"count\", \"nunique\"])"
   ]
  },
  {
   "cell_type": "markdown",
   "metadata": {},
   "source": [
    "*Apply different reduction functions to different columns*."
   ]
  },
  {
   "cell_type": "code",
   "execution_count": null,
   "metadata": {},
   "outputs": [],
   "source": [
    "# using .agg() with a dict to apply different reduction methods to different columns\n",
    "crew_df.groupby(\"movie\").agg({\"person\": \"nunique\", \"p_role\": 'size'})"
   ]
  },
  {
   "cell_type": "markdown",
   "metadata": {},
   "source": [
    "*Named aggregation with `.agg()`*"
   ]
  },
  {
   "cell_type": "code",
   "execution_count": null,
   "metadata": {},
   "outputs": [],
   "source": [
    "crew_df.groupby(\"movie\").agg(\n",
    "    unique_people = (\"person\", \"nunique\"), \n",
    "    cast_size =     (\"p_role\", 'size')\n",
    "    )"
   ]
  },
  {
   "cell_type": "code",
   "execution_count": null,
   "metadata": {},
   "outputs": [],
   "source": [
    "# for each actor count the number of movies\n",
    "# In SQL:\n",
    "\n",
    "sql = \"\"\"\n",
    "SELECT person, count(movie) as n_movies\n",
    "FROM imdb.crew\n",
    "WHERE p_role = 'actor'\n",
    "GROUP BY person\n",
    "\"\"\"\n",
    "pd.read_sql(sql, con=connection)"
   ]
  },
  {
   "cell_type": "code",
   "execution_count": 170,
   "metadata": {},
   "outputs": [
    {
     "data": {
      "text/html": [
       "<div>\n",
       "<style scoped>\n",
       "    .dataframe tbody tr th:only-of-type {\n",
       "        vertical-align: middle;\n",
       "    }\n",
       "\n",
       "    .dataframe tbody tr th {\n",
       "        vertical-align: top;\n",
       "    }\n",
       "\n",
       "    .dataframe thead th {\n",
       "        text-align: right;\n",
       "    }\n",
       "</style>\n",
       "<table border=\"1\" class=\"dataframe\">\n",
       "  <thead>\n",
       "    <tr style=\"text-align: right;\">\n",
       "      <th></th>\n",
       "      <th>given_name</th>\n",
       "      <th>n_movies</th>\n",
       "    </tr>\n",
       "  </thead>\n",
       "  <tbody>\n",
       "    <tr>\n",
       "      <th>0</th>\n",
       "      <td>Orson Welles</td>\n",
       "      <td>111</td>\n",
       "    </tr>\n",
       "  </tbody>\n",
       "</table>\n",
       "</div>"
      ],
      "text/plain": [
       "     given_name  n_movies\n",
       "0  Orson Welles       111"
      ]
     },
     "execution_count": 170,
     "metadata": {},
     "output_type": "execute_result"
    }
   ],
   "source": [
    "# find the actor with the highest number of movies\n",
    "\n",
    "sql = \"\"\"\n",
    "-- compute the virtual table of counts for each actor\n",
    "WITH count_movies AS (\n",
    "    SELECT person, COUNT(movie) AS n_movies\n",
    "    FROM imdb.crew\n",
    "    WHERE p_role = 'actor'\n",
    "    GROUP BY person\n",
    "    )\n",
    "    \n",
    "-- use the computed table in the nested query inside the WHERE clause to select the movie with MAX length\n",
    "-- the JOIN with the 'person' table is needed if we also want to return the given_name \n",
    "SELECT given_name, n_movies\n",
    "FROM count_people INNER JOIN imdb.person ON count_people.person = person.id\n",
    "WHERE n_movies = (\n",
    "    SELECT MAX(n_movies) \n",
    "    FROM count_people\n",
    "    )\n",
    "\"\"\"\n",
    "pd.read_sql(sql, con=connection)"
   ]
  },
  {
   "cell_type": "code",
   "execution_count": 178,
   "metadata": {},
   "outputs": [
    {
     "data": {
      "text/html": [
       "<div>\n",
       "<style scoped>\n",
       "    .dataframe tbody tr th:only-of-type {\n",
       "        vertical-align: middle;\n",
       "    }\n",
       "\n",
       "    .dataframe tbody tr th {\n",
       "        vertical-align: top;\n",
       "    }\n",
       "\n",
       "    .dataframe thead th {\n",
       "        text-align: right;\n",
       "    }\n",
       "</style>\n",
       "<table border=\"1\" class=\"dataframe\">\n",
       "  <thead>\n",
       "    <tr style=\"text-align: right;\">\n",
       "      <th></th>\n",
       "      <th>official_title</th>\n",
       "      <th>n_people</th>\n",
       "    </tr>\n",
       "  </thead>\n",
       "  <tbody>\n",
       "    <tr>\n",
       "      <th>0</th>\n",
       "      <td>Biography</td>\n",
       "      <td>505</td>\n",
       "    </tr>\n",
       "  </tbody>\n",
       "</table>\n",
       "</div>"
      ],
      "text/plain": [
       "  official_title  n_people\n",
       "0      Biography       505"
      ]
     },
     "execution_count": 178,
     "metadata": {},
     "output_type": "execute_result"
    }
   ],
   "source": [
    "# find the movie with the highest number of cast members\n",
    "\n",
    "sql = \"\"\"\n",
    "-- compute the virtual table of counts for each movie\n",
    "WITH count_people AS (\n",
    "    SELECT movie, count(person) as n_people\n",
    "    FROM imdb.crew \n",
    "    GROUP BY movie)\n",
    "\n",
    "-- use the computed table of counts in the WHERE clause to select the movie with MAX n_people\n",
    "-- the JOIN with movie is only needed if you want to also return the official_title\n",
    "SELECT official_title, n_people\n",
    "FROM count_people INNER JOIN imdb.movie ON count_people.movie = movie.id \n",
    "WHERE n_people = (\n",
    "    SELECT MAX(n_people) \n",
    "    FROM count_people)\n",
    "\"\"\"\n",
    "pd.read_sql(sql, con=connection)"
   ]
  },
  {
   "cell_type": "code",
   "execution_count": 133,
   "metadata": {},
   "outputs": [
    {
     "name": "stdout",
     "output_type": "stream",
     "text": [
      "5\n"
     ]
    },
    {
     "data": {
      "text/html": [
       "<div>\n",
       "<style scoped>\n",
       "    .dataframe tbody tr th:only-of-type {\n",
       "        vertical-align: middle;\n",
       "    }\n",
       "\n",
       "    .dataframe tbody tr th {\n",
       "        vertical-align: top;\n",
       "    }\n",
       "\n",
       "    .dataframe thead th {\n",
       "        text-align: right;\n",
       "    }\n",
       "</style>\n",
       "<table border=\"1\" class=\"dataframe\">\n",
       "  <thead>\n",
       "    <tr style=\"text-align: right;\">\n",
       "      <th></th>\n",
       "      <th></th>\n",
       "      <th>n_movies</th>\n",
       "    </tr>\n",
       "    <tr>\n",
       "      <th>id</th>\n",
       "      <th>given_name</th>\n",
       "      <th></th>\n",
       "    </tr>\n",
       "  </thead>\n",
       "  <tbody>\n",
       "    <tr>\n",
       "      <th>0000080</th>\n",
       "      <th>Orson Welles</th>\n",
       "      <td>111</td>\n",
       "    </tr>\n",
       "    <tr>\n",
       "      <th>0000190</th>\n",
       "      <th>Matthew McConaughey</th>\n",
       "      <td>56</td>\n",
       "    </tr>\n",
       "    <tr>\n",
       "      <th>0000228</th>\n",
       "      <th>Kevin Spacey</th>\n",
       "      <td>68</td>\n",
       "    </tr>\n",
       "    <tr>\n",
       "      <th>0000362</th>\n",
       "      <th>Danny DeVito</th>\n",
       "      <td>97</td>\n",
       "    </tr>\n",
       "    <tr>\n",
       "      <th>0072768</th>\n",
       "      <th>Fabrizio Bentivoglio</th>\n",
       "      <td>61</td>\n",
       "    </tr>\n",
       "  </tbody>\n",
       "</table>\n",
       "</div>"
      ],
      "text/plain": [
       "                              n_movies\n",
       "id      given_name                    \n",
       "0000080 Orson Welles               111\n",
       "0000190 Matthew McConaughey         56\n",
       "0000228 Kevin Spacey                68\n",
       "0000362 Danny DeVito                97\n",
       "0072768 Fabrizio Bentivoglio        61"
      ]
     },
     "execution_count": 133,
     "metadata": {},
     "output_type": "execute_result"
    }
   ],
   "source": [
    "# return the given_name of the actors with more than 50 movies\n",
    "\n",
    "# In SQL:\n",
    "\n",
    "# when using the HAVING clause, you can't use the alias of the new column: 'n_movies'\n",
    "# because the HAVING is evaluated before the SELECT, which will be eveluated as last.\n",
    "# Thus, you need to compute the aggregation over a column in the HAVING clause AS well.\n",
    "\n",
    "sql = \"\"\"\n",
    "SELECT person.id, given_name, count(movie) AS n_movies\n",
    "FROM imdb.person LEFT JOIN imdb.crew ON person.id = crew.person\n",
    "WHERE p_role = 'actor' \n",
    "GROUP BY person.id, given_name\n",
    "HAVING count(movie) > 50 \n",
    "\"\"\"\n",
    "\n",
    "print(len(pd.read_sql(sql, con=connection)))\n",
    "\n",
    "# In Pandas:\n",
    "\n",
    "# 1) JOIN dataframes\n",
    "merged_df = pd.merge(person_df, crew_df, how='left', left_on='id', right_on='person')\n",
    "\n",
    "# 2) Filter rows\n",
    "merged_df = merged_df[(merged_df[\"p_role\"] == 'actor') | (merged_df[\"p_role\"].isna())]\n",
    "\n",
    "# 3) Group by and aggregate rows\n",
    "gouped_df = merged_df.groupby([\"id\", \"given_name\"], dropna=False).agg(n_movies=(\"movie\", \"count\"))\n",
    "\n",
    "# 4) Filter groups\n",
    "gouped_df[gouped_df[\"n_movies\"]> 50]"
   ]
  },
  {
   "cell_type": "code",
   "execution_count": 126,
   "metadata": {},
   "outputs": [
    {
     "name": "stdout",
     "output_type": "stream",
     "text": [
      "27719\n"
     ]
    },
    {
     "data": {
      "text/html": [
       "<div>\n",
       "<style scoped>\n",
       "    .dataframe tbody tr th:only-of-type {\n",
       "        vertical-align: middle;\n",
       "    }\n",
       "\n",
       "    .dataframe tbody tr th {\n",
       "        vertical-align: top;\n",
       "    }\n",
       "\n",
       "    .dataframe thead tr th {\n",
       "        text-align: left;\n",
       "    }\n",
       "\n",
       "    .dataframe thead tr:last-of-type th {\n",
       "        text-align: right;\n",
       "    }\n",
       "</style>\n",
       "<table border=\"1\" class=\"dataframe\">\n",
       "  <thead>\n",
       "    <tr>\n",
       "      <th></th>\n",
       "      <th></th>\n",
       "      <th>movie</th>\n",
       "      <th colspan=\"2\" halign=\"left\">year</th>\n",
       "    </tr>\n",
       "    <tr>\n",
       "      <th></th>\n",
       "      <th></th>\n",
       "      <th>nunique</th>\n",
       "      <th>min</th>\n",
       "      <th>max</th>\n",
       "    </tr>\n",
       "    <tr>\n",
       "      <th>id_person</th>\n",
       "      <th>given_name</th>\n",
       "      <th></th>\n",
       "      <th></th>\n",
       "      <th></th>\n",
       "    </tr>\n",
       "  </thead>\n",
       "  <tbody>\n",
       "    <tr>\n",
       "      <th>0000362</th>\n",
       "      <th>Danny DeVito</th>\n",
       "      <td>97</td>\n",
       "      <td>1970.0</td>\n",
       "      <td>2019.0</td>\n",
       "    </tr>\n",
       "    <tr>\n",
       "      <th>0000228</th>\n",
       "      <th>Kevin Spacey</th>\n",
       "      <td>68</td>\n",
       "      <td>1986.0</td>\n",
       "      <td>2018.0</td>\n",
       "    </tr>\n",
       "    <tr>\n",
       "      <th>0072768</th>\n",
       "      <th>Fabrizio Bentivoglio</th>\n",
       "      <td>61</td>\n",
       "      <td>1980.0</td>\n",
       "      <td>2018.0</td>\n",
       "    </tr>\n",
       "    <tr>\n",
       "      <th>0000190</th>\n",
       "      <th>Matthew McConaughey</th>\n",
       "      <td>56</td>\n",
       "      <td>1993.0</td>\n",
       "      <td>2018.0</td>\n",
       "    </tr>\n",
       "    <tr>\n",
       "      <th>0000129</th>\n",
       "      <th>Tom Cruise</th>\n",
       "      <td>46</td>\n",
       "      <td>1981.0</td>\n",
       "      <td>2019.0</td>\n",
       "    </tr>\n",
       "    <tr>\n",
       "      <th>...</th>\n",
       "      <th>...</th>\n",
       "      <td>...</td>\n",
       "      <td>...</td>\n",
       "      <td>...</td>\n",
       "    </tr>\n",
       "    <tr>\n",
       "      <th>0000133</th>\n",
       "      <th>Geena Davis</th>\n",
       "      <td>1</td>\n",
       "      <td>1990.0</td>\n",
       "      <td>1990.0</td>\n",
       "    </tr>\n",
       "    <tr>\n",
       "      <th>0056379</th>\n",
       "      <th>Umberto Barone</th>\n",
       "      <td>1</td>\n",
       "      <td>1983.0</td>\n",
       "      <td>1983.0</td>\n",
       "    </tr>\n",
       "    <tr>\n",
       "      <th>0056407</th>\n",
       "      <th>Philippe Baronnet</th>\n",
       "      <td>1</td>\n",
       "      <td>1966.0</td>\n",
       "      <td>1966.0</td>\n",
       "    </tr>\n",
       "    <tr>\n",
       "      <th>0056472</th>\n",
       "      <th>Autumn Barr</th>\n",
       "      <td>1</td>\n",
       "      <td>1993.0</td>\n",
       "      <td>1993.0</td>\n",
       "    </tr>\n",
       "    <tr>\n",
       "      <th>9248610</th>\n",
       "      <th>Juan Esteban Ramírez Toro</th>\n",
       "      <td>1</td>\n",
       "      <td>2017.0</td>\n",
       "      <td>2017.0</td>\n",
       "    </tr>\n",
       "  </tbody>\n",
       "</table>\n",
       "<p>27719 rows × 3 columns</p>\n",
       "</div>"
      ],
      "text/plain": [
       "                                      movie    year        \n",
       "                                    nunique     min     max\n",
       "id_person given_name                                       \n",
       "0000362   Danny DeVito                   97  1970.0  2019.0\n",
       "0000228   Kevin Spacey                   68  1986.0  2018.0\n",
       "0072768   Fabrizio Bentivoglio           61  1980.0  2018.0\n",
       "0000190   Matthew McConaughey            56  1993.0  2018.0\n",
       "0000129   Tom Cruise                     46  1981.0  2019.0\n",
       "...                                     ...     ...     ...\n",
       "0000133   Geena Davis                     1  1990.0  1990.0\n",
       "0056379   Umberto Barone                  1  1983.0  1983.0\n",
       "0056407   Philippe Baronnet               1  1966.0  1966.0\n",
       "0056472   Autumn Barr                     1  1993.0  1993.0\n",
       "9248610   Juan Esteban Ramírez Toro       1  2017.0  2017.0\n",
       "\n",
       "[27719 rows x 3 columns]"
      ]
     },
     "execution_count": 126,
     "metadata": {},
     "output_type": "execute_result"
    }
   ],
   "source": [
    "# for each alive actor, count the number of movies, and return the year of her first and last movie along with her given_name\n",
    "\n",
    "# In SQL:\n",
    "\n",
    "sql = '''\n",
    "SELECT person.id, given_name,\n",
    "       count(distinct movie) AS n_movies,\n",
    "       min(year) AS first,\n",
    "       max(year) AS last\n",
    "FROM imdb.person \n",
    "INNER JOIN imdb.crew ON id = person\n",
    "LEFT JOIN imdb.movie ON crew.movie = movie.id\n",
    "WHERE death_date IS NULL AND p_role = 'actor' \n",
    "GROUP BY person.id, given_name -- include 'given_name' in GROUP BY in order to then return it in the SELECT \n",
    "ORDER BY n_movies DESC\n",
    "'''\n",
    "\n",
    "print(len(pd.read_sql(sql, con=connection)))\n",
    "\n",
    "# In Pandas:\n",
    "\n",
    "# 1. join tables\n",
    "merged_df = pd.merge(person_df, crew_df, how=\"inner\", left_on=\"id\", right_on=\"person\")\n",
    "merged_df = merged_df.merge(movie_df, how=\"left\", left_on='movie', right_on='id', suffixes=[\"_person\", \"_movie\"])\n",
    "\n",
    "# 2. filter rows\n",
    "is_alive = merged_df.death_date.isna()\n",
    "is_actor = merged_df.p_role == 'actor'\n",
    "is_null_role = merged_df.p_role.isna()\n",
    "\n",
    "merged_df = merged_df[is_alive & (is_actor | is_null_role)]\n",
    "\n",
    "# group and aggregate\n",
    "merged_df\\\n",
    "    .groupby([\"id_person\",\"given_name\"], dropna=False)\\\n",
    "    .agg({\"movie\":\"nunique\", 'year':['min', 'max']})\\\n",
    "    .sort_values(by=('movie', 'nunique'), ascending=False)"
   ]
  }
 ],
 "metadata": {
  "kernelspec": {
   "display_name": "duck",
   "language": "python",
   "name": "python3"
  },
  "language_info": {
   "codemirror_mode": {
    "name": "ipython",
    "version": 3
   },
   "file_extension": ".py",
   "mimetype": "text/x-python",
   "name": "python",
   "nbconvert_exporter": "python",
   "pygments_lexer": "ipython3",
   "version": "3.11.5"
  }
 },
 "nbformat": 4,
 "nbformat_minor": 2
}
